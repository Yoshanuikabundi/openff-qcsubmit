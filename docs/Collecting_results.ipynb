{
 "cells": [
  {
   "cell_type": "code",
   "execution_count": 1,
   "metadata": {},
   "outputs": [
    {
     "data": {
      "text/html": [
       "<div>\n",
       "<style scoped>\n",
       "    .dataframe tbody tr th:only-of-type {\n",
       "        vertical-align: middle;\n",
       "    }\n",
       "\n",
       "    .dataframe tbody tr th {\n",
       "        vertical-align: top;\n",
       "    }\n",
       "\n",
       "    .dataframe thead th {\n",
       "        text-align: right;\n",
       "    }\n",
       "</style>\n",
       "<table border=\"1\" class=\"dataframe\">\n",
       "  <thead>\n",
       "    <tr style=\"text-align: right;\">\n",
       "      <th></th>\n",
       "      <th></th>\n",
       "      <th>tagline</th>\n",
       "    </tr>\n",
       "    <tr>\n",
       "      <th>collection</th>\n",
       "      <th>name</th>\n",
       "      <th></th>\n",
       "    </tr>\n",
       "  </thead>\n",
       "  <tbody>\n",
       "    <tr>\n",
       "      <th rowspan=\"18\" valign=\"top\">OptimizationDataset</th>\n",
       "      <th>FDA Optimization Dataset 1</th>\n",
       "      <td>None</td>\n",
       "    </tr>\n",
       "    <tr>\n",
       "      <th>JGI Metabolite Set 1</th>\n",
       "      <td>None</td>\n",
       "    </tr>\n",
       "    <tr>\n",
       "      <th>Kinase Inhibitors: WBO Distributions</th>\n",
       "      <td>None</td>\n",
       "    </tr>\n",
       "    <tr>\n",
       "      <th>OpenFF Discrepancy Benchmark 1</th>\n",
       "      <td>None</td>\n",
       "    </tr>\n",
       "    <tr>\n",
       "      <th>OpenFF Full Optimization Benchmark 1</th>\n",
       "      <td>None</td>\n",
       "    </tr>\n",
       "    <tr>\n",
       "      <th>OpenFF Gen 2 Opt Set 1 Roche</th>\n",
       "      <td>None</td>\n",
       "    </tr>\n",
       "    <tr>\n",
       "      <th>OpenFF Gen 2 Opt Set 2 Coverage</th>\n",
       "      <td>None</td>\n",
       "    </tr>\n",
       "    <tr>\n",
       "      <th>OpenFF Gen 2 Opt Set 3 Pfizer Discrepancy</th>\n",
       "      <td>None</td>\n",
       "    </tr>\n",
       "    <tr>\n",
       "      <th>OpenFF Gen 2 Opt Set 4 eMolecules Discrepancy</th>\n",
       "      <td>None</td>\n",
       "    </tr>\n",
       "    <tr>\n",
       "      <th>OpenFF Gen 2 Opt Set 5 Bayer</th>\n",
       "      <td>None</td>\n",
       "    </tr>\n",
       "    <tr>\n",
       "      <th>OpenFF NCI250K Boron 1</th>\n",
       "      <td>None</td>\n",
       "    </tr>\n",
       "    <tr>\n",
       "      <th>OpenFF Optimization Set 1</th>\n",
       "      <td>None</td>\n",
       "    </tr>\n",
       "    <tr>\n",
       "      <th>OpenFF Primary Optimization Benchmark 1</th>\n",
       "      <td>None</td>\n",
       "    </tr>\n",
       "    <tr>\n",
       "      <th>OpenFF VEHICLe Set 1</th>\n",
       "      <td>None</td>\n",
       "    </tr>\n",
       "    <tr>\n",
       "      <th>PEI</th>\n",
       "      <td>None</td>\n",
       "    </tr>\n",
       "    <tr>\n",
       "      <th>Pfizer Discrepancy Optimization Dataset 1</th>\n",
       "      <td>None</td>\n",
       "    </tr>\n",
       "    <tr>\n",
       "      <th>QM8-T</th>\n",
       "      <td>None</td>\n",
       "    </tr>\n",
       "    <tr>\n",
       "      <th>SMIRNOFF Coverage Set 1</th>\n",
       "      <td>None</td>\n",
       "    </tr>\n",
       "  </tbody>\n",
       "</table>\n",
       "</div>"
      ],
      "text/plain": [
       "                                                                  tagline\n",
       "collection          name                                                 \n",
       "OptimizationDataset FDA Optimization Dataset 1                       None\n",
       "                    JGI Metabolite Set 1                             None\n",
       "                    Kinase Inhibitors: WBO Distributions             None\n",
       "                    OpenFF Discrepancy Benchmark 1                   None\n",
       "                    OpenFF Full Optimization Benchmark 1             None\n",
       "                    OpenFF Gen 2 Opt Set 1 Roche                     None\n",
       "                    OpenFF Gen 2 Opt Set 2 Coverage                  None\n",
       "                    OpenFF Gen 2 Opt Set 3 Pfizer Discrepancy        None\n",
       "                    OpenFF Gen 2 Opt Set 4 eMolecules Discrepancy    None\n",
       "                    OpenFF Gen 2 Opt Set 5 Bayer                     None\n",
       "                    OpenFF NCI250K Boron 1                           None\n",
       "                    OpenFF Optimization Set 1                        None\n",
       "                    OpenFF Primary Optimization Benchmark 1          None\n",
       "                    OpenFF VEHICLe Set 1                             None\n",
       "                    PEI                                              None\n",
       "                    Pfizer Discrepancy Optimization Dataset 1        None\n",
       "                    QM8-T                                            None\n",
       "                    SMIRNOFF Coverage Set 1                          None"
      ]
     },
     "execution_count": 1,
     "metadata": {},
     "output_type": "execute_result"
    }
   ],
   "source": [
    "import qcportal as ptl\n",
    "from qcsubmit.results import OptimizationCollectionResult\n",
    "\n",
    "client = ptl.FractalClient()\n",
    "\n",
    "client.list_collections('OptimizationDataset')"
   ]
  },
  {
   "cell_type": "code",
   "execution_count": 30,
   "metadata": {},
   "outputs": [],
   "source": [
    "ds = client.get_collection('OptimizationDataset', \"OpenFF Full Optimization Benchmark 1\")"
   ]
  },
  {
   "cell_type": "markdown",
   "metadata": {},
   "source": [
    "Here we want to pull down a few optimizations from this dataset with their full trajectories."
   ]
  },
  {
   "cell_type": "code",
   "execution_count": 33,
   "metadata": {},
   "outputs": [
    {
     "name": "stdout",
     "output_type": "stream",
     "text": [
      "requested molecules 743\n",
      "requested results 743\n",
      "CPU times: user 3.02 s, sys: 495 ms, total: 3.52 s\n",
      "Wall time: 1min 14s\n"
     ]
    }
   ],
   "source": [
    "%time result = OptimizationCollectionResult.from_server(client=client, dataset_name=\"OpenFF Full Optimization Benchmark 1\", spec_name=\"default\", include_trajectory=True, subset=list(ds.data.records.keys())[:20])\n"
   ]
  },
  {
   "cell_type": "code",
   "execution_count": 38,
   "metadata": {},
   "outputs": [
    {
     "data": {
      "application/vnd.jupyter.widget-view+json": {
       "model_id": "ebd5ce6a521c4cf2972d9b4b63c72fad",
       "version_major": 2,
       "version_minor": 0
      },
      "text/plain": [
       "NGLWidget()"
      ]
     },
     "metadata": {},
     "output_type": "display_data"
    }
   ],
   "source": [
    "# view an optimization\n",
    "result.collection[\"CO/N=C/1\\\\C[N@](C[C@H]1C[NH3+])c2c(cc3c(=O)c(cn(c3n2)C4CC4)C(=O)[O-])F\"].entries[2].get_final_molecule()"
   ]
  },
  {
   "cell_type": "code",
   "execution_count": null,
   "metadata": {},
   "outputs": [],
   "source": []
  }
 ],
 "metadata": {
  "kernelspec": {
   "display_name": "Python 3",
   "language": "python",
   "name": "python3"
  },
  "language_info": {
   "codemirror_mode": {
    "name": "ipython",
    "version": 3
   },
   "file_extension": ".py",
   "mimetype": "text/x-python",
   "name": "python",
   "nbconvert_exporter": "python",
   "pygments_lexer": "ipython3",
   "version": "3.6.10"
  }
 },
 "nbformat": 4,
 "nbformat_minor": 4
}
