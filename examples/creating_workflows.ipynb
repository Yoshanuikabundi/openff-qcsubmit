{
 "cells": [
  {
   "cell_type": "markdown",
   "metadata": {},
   "source": [
    "# Creating submission workflows using qcsubmit.\n",
    "\n",
    "Here our aim is to create reproducible workflows which can process large lists of molecules applying filtering and some other useful operations \n",
    "such as state enumeration and fragmentation before formatting the data into a qcarchive dataset that can be \n",
    "submitted to the public or local archive instance. \n",
    "\n",
    "The entire workflow is build up out of modular components which can each have their own programable settings which can be \n",
    "controlled through the API or via workflow yaml/json files. \n",
    "\n",
    "In this example we will demonstrate how to set up a basic workflow via the API and how it can be exported to a settings file \n",
    "which can then be used to reconstruct the entire workflow by another user.\n",
    "\n",
    "First lets load in the packages."
   ]
  },
  {
   "cell_type": "code",
   "execution_count": 17,
   "metadata": {
    "pycharm": {
     "is_executing": false,
     "name": "#%%\n"
    }
   },
   "outputs": [],
   "source": [
    "from qcsubmit.factories import QCFractalDatasetFactory  # load in the factory to process molecules\n",
    "from qcsubmit import workflow_components                # load in a list of workflow_components\n",
    "from openforcefield.utils.utils import get_data_file_path  # a util function to load a mini drug bank file\n",
    "from openforcefield.topology import Molecule\n"
   ]
  },
  {
   "cell_type": "markdown",
   "metadata": {
    "pycharm": {
     "name": "#%% md\n"
    }
   },
   "source": [
    "Create the basic qcarchive dataset factory, this is useful for large machine learning datasets which are a collection\n",
    "of single point calculations provided through the energy/gradient/hessian drivers."
   ]
  },
  {
   "cell_type": "code",
   "execution_count": 18,
   "metadata": {
    "pycharm": {
     "is_executing": false,
     "name": "#%% \n"
    }
   },
   "outputs": [
    {
     "name": "stdout",
     "output_type": "stream",
     "text": [
      "theory='wB97x-d' basis='DZVP' program='psi4' maxiter=200 driver='energy' scf_properties=['dipole', 'qudrupole', 'wiberg_lowdin_indices'] client='public' priority='normal' tags='openff' workflow={}\n"
     ]
    }
   ],
   "source": [
    "factory = QCFractalDatasetFactory()\n",
    "# we can view and change any of the basic settings in the factory such as the qm settings\n",
    "factory.theory = 'wB97x-d'\n",
    "# lets look at the class and the settings \n",
    "print(factory)"
   ]
  },
  {
   "cell_type": "code",
   "execution_count": 19,
   "metadata": {
    "pycharm": {
     "is_executing": false,
     "name": "#%%\n"
    }
   },
   "outputs": [
    {
     "ename": "ValidationError",
     "evalue": "1 validation error for QCFractalDatasetFactory\nbasis\n  str type expected (type=type_error.str)",
     "output_type": "error",
     "traceback": [
      "\u001b[0;31m---------------------------------------------------------------------------\u001b[0m",
      "\u001b[0;31mValidationError\u001b[0m                           Traceback (most recent call last)",
      "\u001b[0;32m<ipython-input-19-5e3125855464>\u001b[0m in \u001b[0;36m<module>\u001b[0;34m\u001b[0m\n\u001b[1;32m      1\u001b[0m \u001b[0;31m# each of the fields are also validated as the class is based on pydantic\u001b[0m\u001b[0;34m\u001b[0m\u001b[0;34m\u001b[0m\u001b[0;34m\u001b[0m\u001b[0m\n\u001b[1;32m      2\u001b[0m \u001b[0;31m# so the following should produce and error\u001b[0m\u001b[0;34m\u001b[0m\u001b[0;34m\u001b[0m\u001b[0;34m\u001b[0m\u001b[0m\n\u001b[0;32m----> 3\u001b[0;31m \u001b[0mfactory\u001b[0m\u001b[0;34m.\u001b[0m\u001b[0mbasis\u001b[0m \u001b[0;34m=\u001b[0m \u001b[0;34m{\u001b[0m\u001b[0;34m'test'\u001b[0m\u001b[0;34m:\u001b[0m \u001b[0;36m1\u001b[0m\u001b[0;34m}\u001b[0m\u001b[0;34m\u001b[0m\u001b[0;34m\u001b[0m\u001b[0m\n\u001b[0m",
      "\u001b[0;32m~/miniconda3/envs/toolkit/lib/python3.6/site-packages/pydantic/main.cpython-36m-darwin.so\u001b[0m in \u001b[0;36mpydantic.main.BaseModel.__setattr__\u001b[0;34m()\u001b[0m\n",
      "\u001b[0;31mValidationError\u001b[0m: 1 validation error for QCFractalDatasetFactory\nbasis\n  str type expected (type=type_error.str)"
     ]
    }
   ],
   "source": [
    "# each of the fields are also validated as the class is based on pydantic\n",
    "# so the following should produce and error\n",
    "factory.basis = {'test': 1}\n"
   ]
  },
  {
   "cell_type": "markdown",
   "metadata": {
    "pycharm": {
     "name": "#%% md\n"
    }
   },
   "source": [
    "Note that the basic settings should be suitable in most cases as they are those recommended by the \n",
    "openforcefield and are currently used in the fitting of the most recent force fields. Now lets look at\n",
    "the workflow components. "
   ]
  },
  {
   "cell_type": "code",
   "execution_count": 20,
   "metadata": {
    "pycharm": {
     "is_executing": false,
     "name": "#%%\n"
    }
   },
   "outputs": [
    {
     "name": "stdout",
     "output_type": "stream",
     "text": [
      "{}\n"
     ]
    }
   ],
   "source": [
    "# the workflow is a dictionary that contains all of the components that will be executed in order\n",
    "print(factory.workflow)"
   ]
  },
  {
   "cell_type": "code",
   "execution_count": 21,
   "metadata": {
    "pycharm": {
     "is_executing": false,
     "name": "#%%\n"
    }
   },
   "outputs": [
    {
     "name": "stdout",
     "output_type": "stream",
     "text": [
      "Component 3 rejected as it is not subclass of CustomWorkflowComponent.\n"
     ]
    }
   ],
   "source": [
    "# the workflow is also validated so only properly configured workflow components can be added\n",
    "factory.add_workflow_component(3)"
   ]
  },
  {
   "cell_type": "markdown",
   "metadata": {
    "pycharm": {
     "name": "#%% md\n"
    }
   },
   "source": [
    "As you can see the number is not a proper workflow component and so it has been rejected from the workflow.\n",
    "Users can make there own workflow components which can be added to the workflow as well but they must be a subclass\n",
    "of the CustomWorkflowComponent class and have all of the abstract methods implemented and settings. See the creating workflow\n",
    "components notebook for examples on how to do this.\n",
    "\n",
    "Now lets set up a workflow that will filter out some unwanted elements, then filter by molecular weight\n",
    "before generating conformers for each of the molecules."
   ]
  },
  {
   "cell_type": "code",
   "execution_count": 22,
   "metadata": {
    "pycharm": {
     "is_executing": false,
     "name": "#%%\n"
    }
   },
   "outputs": [
    {
     "name": "stdout",
     "output_type": "stream",
     "text": [
      "componet_name='ElementFilter' componet_descripton='Filter out molecules who contain elements not in the allowed element list' componet_fail_message='Molecule contained elements not in the allowed elements list' allowed_elements=['H', 'C', 'N', 'O', 'F', 'P', 'S', 'Cl', 'Br', 'I']\n"
     ]
    }
   ],
   "source": [
    "# set up the element filter\n",
    "el_filter = workflow_components.ElementFilter()\n",
    "# lets view the options available for this filter\n",
    "print(el_filter)"
   ]
  },
  {
   "cell_type": "markdown",
   "metadata": {
    "pycharm": {
     "name": "#%% md\n"
    }
   },
   "source": [
    "This filter has the ability to filter elements by atomic name or number, we just have to supply a list of \n",
    "symbols or numbers to the filter. Here lets only keep molecules with elements of H,C,N and O as we would like\n",
    "to use AN1 as our QM method."
   ]
  },
  {
   "cell_type": "code",
   "execution_count": 23,
   "metadata": {
    "pycharm": {
     "is_executing": false,
     "name": "#%%\n"
    }
   },
   "outputs": [],
   "source": [
    "# set the filter to only keep molecules with these elements\n",
    "el_filter.allowed_elements = [1, 6, 7, 8]\n",
    "\n",
    "# now lets add the filter to the workflow\n",
    "factory.add_workflow_component(el_filter)"
   ]
  },
  {
   "cell_type": "markdown",
   "metadata": {
    "pycharm": {
     "name": "#%% md\n"
    }
   },
   "source": [
    "Now we will set up the weight filter and conformer generation components and add them to the workflow."
   ]
  },
  {
   "cell_type": "code",
   "execution_count": 24,
   "metadata": {
    "pycharm": {
     "is_executing": false,
     "name": "#%%\n"
    }
   },
   "outputs": [],
   "source": [
    "weight_filter = workflow_components.MolecularWeightFilter()\n",
    "factory.add_workflow_component(weight_filter)\n",
    "conf_gen = workflow_components.StandardConformerGenerator()\n",
    "factory.add_workflow_component(conf_gen)"
   ]
  },
  {
   "cell_type": "markdown",
   "metadata": {
    "pycharm": {
     "name": "#%% md\n"
    }
   },
   "source": [
    "Now lets look at the workflow and make sure all of the components were added in correctly. Then lets save the \n",
    "settings and workflow so they can be used again latter.\n"
   ]
  },
  {
   "cell_type": "code",
   "execution_count": 25,
   "metadata": {
    "pycharm": {
     "is_executing": false,
     "name": "#%%\n"
    }
   },
   "outputs": [
    {
     "name": "stdout",
     "output_type": "stream",
     "text": [
      "{'ElementFilter': ElementFilter(componet_name='ElementFilter', componet_descripton='Filter out molecules who contain elements not in the allowed element list', componet_fail_message='Molecule contained elements not in the allowed elements list', allowed_elements=[1, 6, 7, 8]), 'MolecularWeightFilter': MolecularWeightFilter(componet_name='MolecularWeightFilter', componet_descripton='Molecules are filtered based on the allowed molecular weights.', componet_fail_message='Molecule weight was not in the specified region.', minimum_weight=130, maximum_weight=781), 'StandardConformerGenerator': StandardConformerGenerator(componet_name='StandardConformerGenerator', componet_descripton='Generate conformations for the given molecules', componet_fail_message='Conformers could not be generated', max_conformers=20, clear_exsiting=True, toolkit='rdkit')}\n"
     ]
    }
   ],
   "source": [
    "print(factory.workflow)"
   ]
  },
  {
   "cell_type": "code",
   "execution_count": 26,
   "metadata": {
    "pycharm": {
     "is_executing": false,
     "name": "#%%\n"
    }
   },
   "outputs": [],
   "source": [
    "# now lets save the workflow to json\n",
    "factory.export_settings('work1.json')\n",
    "\n",
    "# and lets save to yaml\n",
    "factory.export_settings('work1.yaml')"
   ]
  },
  {
   "cell_type": "code",
   "execution_count": 27,
   "metadata": {
    "pycharm": {
     "is_executing": false,
     "name": "#%%\n"
    }
   },
   "outputs": [
    {
     "name": "stdout",
     "output_type": "stream",
     "text": [
      "basis: DZVP\r\n",
      "client: public\r\n",
      "driver: energy\r\n",
      "maxiter: 200\r\n",
      "priority: normal\r\n",
      "program: psi4\r\n",
      "scf_properties:\r\n",
      "- dipole\r\n",
      "- qudrupole\r\n",
      "- wiberg_lowdin_indices\r\n",
      "tags: openff\r\n",
      "theory: wB97x-d\r\n",
      "workflow:\r\n",
      "  ElementFilter:\r\n",
      "    allowed_elements:\r\n",
      "    - 1\r\n",
      "    - 6\r\n",
      "    - 7\r\n",
      "    - 8\r\n",
      "    componet_descripton: Filter out molecules who contain elements not in the allowed\r\n"
     ]
    }
   ],
   "source": [
    "# lets look at the ouput files \n",
    "! head -n 20 work1.yaml"
   ]
  },
  {
   "cell_type": "code",
   "execution_count": 28,
   "metadata": {
    "pycharm": {
     "is_executing": false,
     "name": "#%%\n"
    }
   },
   "outputs": [
    {
     "name": "stdout",
     "output_type": "stream",
     "text": [
      "{\r\n",
      "  \"theory\": \"wB97x-d\",\r\n",
      "  \"basis\": \"DZVP\",\r\n",
      "  \"program\": \"psi4\",\r\n",
      "  \"maxiter\": 200,\r\n",
      "  \"driver\": \"energy\",\r\n",
      "  \"scf_properties\": [\r\n",
      "    \"dipole\",\r\n",
      "    \"qudrupole\",\r\n",
      "    \"wiberg_lowdin_indices\"\r\n",
      "  ],\r\n",
      "  \"client\": \"public\",\r\n",
      "  \"priority\": \"normal\",\r\n",
      "  \"tags\": \"openff\",\r\n",
      "  \"workflow\": {\r\n",
      "    \"ElementFilter\": {\r\n",
      "      \"componet_name\": \"ElementFilter\",\r\n",
      "      \"componet_descripton\": \"Filter out molecules who contain elements not in the allowed element list\",\r\n",
      "      \"componet_fail_message\": \"Molecule contained elements not in the allowed elements list\",\r\n",
      "      \"allowed_elements\": [\r\n"
     ]
    }
   ],
   "source": [
    "! head -n 20 work1.json"
   ]
  },
  {
   "cell_type": "markdown",
   "metadata": {
    "pycharm": {
     "name": "#%%\n"
    }
   },
   "source": [
    "Now lets make a new workflow factory and load in the settings we just saved to quickly make a new workflow.\n"
   ]
  },
  {
   "cell_type": "code",
   "execution_count": 29,
   "metadata": {},
   "outputs": [
    {
     "name": "stdout",
     "output_type": "stream",
     "text": [
      "theory='B3LYP-D3BJ' basis='DZVP' program='psi4' maxiter=200 driver='energy' scf_properties=['dipole', 'qudrupole', 'wiberg_lowdin_indices'] client='public' priority='normal' tags='openff' workflow={}\n"
     ]
    }
   ],
   "source": [
    "factory2 = QCFractalDatasetFactory()\n",
    "\n",
    "# now lets print out the basic workflow factory\n",
    "print(factory2)"
   ]
  },
  {
   "cell_type": "code",
   "execution_count": 30,
   "metadata": {},
   "outputs": [
    {
     "name": "stdout",
     "output_type": "stream",
     "text": [
      "theory='wB97x-d' basis='DZVP' program='psi4' maxiter=200 driver='energy' scf_properties=['dipole', 'qudrupole', 'wiberg_lowdin_indices'] client='public' priority='normal' tags='openff' workflow={'ElementFilter': ElementFilter(componet_name='ElementFilter', componet_descripton='Filter out molecules who contain elements not in the allowed element list', componet_fail_message='Molecule contained elements not in the allowed elements list', allowed_elements=[1, 6, 7, 8]), 'MolecularWeightFilter': MolecularWeightFilter(componet_name='MolecularWeightFilter', componet_descripton='Molecules are filtered based on the allowed molecular weights.', componet_fail_message='Molecule weight was not in the specified region.', minimum_weight=130, maximum_weight=781), 'StandardConformerGenerator': StandardConformerGenerator(componet_name='StandardConformerGenerator', componet_descripton='Generate conformations for the given molecules', componet_fail_message='Conformers could not be generated', max_conformers=20, clear_exsiting=True, toolkit='rdkit')}\n"
     ]
    }
   ],
   "source": [
    "# now load in the settings from the yaml file and print out the factory components\n",
    "\n",
    "factory2.import_settings('work1.yaml')\n",
    "\n",
    "# note that the theory has changed along with making the workflow components\n",
    "print(factory2)"
   ]
  },
  {
   "cell_type": "markdown",
   "metadata": {},
   "source": [
    "Now we can run the worklow on a set of molecules in the mini drug bank file that comes with the openforcefield."
   ]
  },
  {
   "cell_type": "code",
   "execution_count": 31,
   "metadata": {
    "scrolled": true
   },
   "outputs": [
    {
     "name": "stderr",
     "output_type": "stream",
     "text": [
      "Warning (not error because allow_undefined_stereo=True): OEMol has unspecified stereochemistry. oemol.GetTitle(): DrugBank_2987\n",
      "Problematic atoms are:\n",
      "Atom atomic num: 7, name: , idx: 20, aromatic: False, chiral: True with bonds:\n",
      "bond order: 1, chiral: False to atom atomic num: 6, name: , idx: 4, aromatic: True, chiral: False\n",
      "bond order: 1, chiral: False to atom atomic num: 6, name: , idx: 16, aromatic: False, chiral: True\n",
      "bond order: 1, chiral: False to atom atomic num: 8, name: , idx: 28, aromatic: False, chiral: False\n",
      "\n",
      "Warning (not error because allow_undefined_stereo=True): OEMol has unspecified stereochemistry. oemol.GetTitle(): DrugBank_3502\n",
      "Problematic atoms are:\n",
      "Atom atomic num: 7, name: , idx: 20, aromatic: False, chiral: True with bonds:\n",
      "bond order: 1, chiral: False to atom atomic num: 6, name: , idx: 4, aromatic: True, chiral: False\n",
      "bond order: 1, chiral: False to atom atomic num: 6, name: , idx: 16, aromatic: False, chiral: True\n",
      "bond order: 1, chiral: False to atom atomic num: 8, name: , idx: 28, aromatic: False, chiral: False\n",
      "\n",
      "Warning (not error because allow_undefined_stereo=True): OEMol has unspecified stereochemistry. oemol.GetTitle(): DrugBank_4161\n",
      "Problematic atoms are:\n",
      "Atom atomic num: 7, name: , idx: 21, aromatic: False, chiral: True with bonds:\n",
      "bond order: 1, chiral: False to atom atomic num: 6, name: , idx: 12, aromatic: True, chiral: False\n",
      "bond order: 1, chiral: False to atom atomic num: 6, name: , idx: 15, aromatic: False, chiral: False\n",
      "bond order: 1, chiral: False to atom atomic num: 7, name: , idx: 19, aromatic: False, chiral: False\n",
      "\n",
      "Warning (not error because allow_undefined_stereo=True): OEMol has unspecified stereochemistry. oemol.GetTitle(): DrugBank_4162\n",
      "Problematic atoms are:\n",
      "Atom atomic num: 7, name: , idx: 21, aromatic: False, chiral: True with bonds:\n",
      "bond order: 1, chiral: False to atom atomic num: 6, name: , idx: 13, aromatic: True, chiral: False\n",
      "bond order: 1, chiral: False to atom atomic num: 6, name: , idx: 15, aromatic: False, chiral: False\n",
      "bond order: 1, chiral: False to atom atomic num: 7, name: , idx: 19, aromatic: False, chiral: False\n",
      "\n",
      "Warning (not error because allow_undefined_stereo=True): OEMol has unspecified stereochemistry. oemol.GetTitle(): DrugBank_6531\n",
      "Problematic atoms are:\n",
      "Atom atomic num: 7, name: , idx: 23, aromatic: False, chiral: True with bonds:\n",
      "bond order: 1, chiral: False to atom atomic num: 6, name: , idx: 2, aromatic: True, chiral: False\n",
      "bond order: 1, chiral: False to atom atomic num: 6, name: , idx: 14, aromatic: False, chiral: False\n",
      "bond order: 1, chiral: False to atom atomic num: 6, name: , idx: 18, aromatic: False, chiral: False\n",
      "\n",
      "Warning (not error because allow_undefined_stereo=True): OEMol has unspecified stereochemistry. oemol.GetTitle(): DrugBank_1700\n",
      "Problematic atoms are:\n",
      "Atom atomic num: 7, name: , idx: 9, aromatic: False, chiral: True with bonds:\n",
      "bond order: 1, chiral: False to atom atomic num: 6, name: , idx: 1, aromatic: False, chiral: False\n",
      "bond order: 1, chiral: False to atom atomic num: 6, name: , idx: 3, aromatic: False, chiral: False\n",
      "bond order: 1, chiral: False to atom atomic num: 6, name: , idx: 7, aromatic: False, chiral: True\n",
      "\n",
      "Warning (not error because allow_undefined_stereo=True): OEMol has unspecified stereochemistry. oemol.GetTitle(): DrugBank_4662\n",
      "Problematic atoms are:\n",
      "Atom atomic num: 7, name: , idx: 26, aromatic: False, chiral: True with bonds:\n",
      "bond order: 1, chiral: False to atom atomic num: 6, name: , idx: 2, aromatic: False, chiral: False\n",
      "bond order: 1, chiral: False to atom atomic num: 6, name: , idx: 3, aromatic: False, chiral: False\n",
      "bond order: 1, chiral: False to atom atomic num: 6, name: , idx: 20, aromatic: False, chiral: False\n",
      "\n"
     ]
    }
   ],
   "source": [
    "mols = Molecule.from_file(get_data_file_path('molecules/minidrugbank.sdf'), allow_undefined_stereo=True)"
   ]
  },
  {
   "cell_type": "code",
   "execution_count": 32,
   "metadata": {},
   "outputs": [
    {
     "name": "stderr",
     "output_type": "stream",
     "text": [
      "Warning (not error because allow_undefined_stereo=True): \n",
      "RDKit ERROR: [13:05:45] Explicit valence for atom # 35 O, 3, is greater than permitted\n",
      "RDKit ERROR: [13:06:03] Explicit valence for atom # 11 N, 5, is greater than permitted\n",
      "Warning (not error because allow_undefined_stereo=True): \n"
     ]
    },
    {
     "name": "stdout",
     "output_type": "stream",
     "text": [
      "The final component result molecules [Molecule with name 'DrugBank_5415' and SMILES '[H]c1c(c(c(c(c1[H])[H])C([H])([H])[C@@]([H])(C(=O)O[H])C([H])([H])C(C([H])([H])N(=O)([H])O[H])(O[H])O[H])[H])[H]', Molecule with name 'DrugBank_2998' and SMILES '[H]c1c(c(c(c(c1C(=O)O[H])[H])N([H])C([H])(N([H])[H])N([H])[H])N([H])C(=O)C([H])([H])[H])[H]', Molecule with name 'DrugBank_3101' and SMILES '[H]c1c(c(c(c(c1[H])[H])C([H])([H])OC(=O)N([H])[C@]([H])(C(=O)N([H])[C@@]2(C(C(N(C2([H])[H])C#N)([H])[H])([H])[H])[H])C([H])([H])C([H])(C([H])([H])[H])C([H])([H])[H])[H])[H]', Molecule with name 'DrugBank_3175' and SMILES '[H]c1c(c(c(c(c1[H])[H])C([H])([H])OC(=O)N([H])[C@]([H])(C(=O)N([H])[C@]([H])(C(=O)C([H])([H])[H])C([H])([H])[H])C([H])([H])C([H])([H])C([H])([H])N([H])C([H])(N([H])[H])N([H])[H])[H])[H]', Molecule with name 'DrugBank_5711' and SMILES '[H]c1c(c(c(c(c1[H])[H])C2=NN3C(=C(C(=C(C3=C2c4c(c5c(nn4)N(N=C5N([H])[H])[H])[H])[H])[H])[H])[H])[H])[H]', Molecule with name 'DrugBank_3269' and SMILES '[H]C([H])(C([H])([H])C([H])([H])C([H])([H])N([H])[H])C([H])([H])C([H])([H])C([H])([H])N([H])C([H])(N([H])[H])N([H])[H]', Molecule with name 'DrugBank_3278' and SMILES '[H]c1c(c(c(c(c1[H])[H])N([H])C(=O)[C@]([H])(C([H])([H])C([H])([H])C([H])([H])C([H])([H])N([H])[H])N([H])C(=O)[C@]([H])(C([H])([H])C([H])([H])C([H])([H])C([H])([H])[H])C([H])([H])N([H])N([H])C([H])([H])[C@@]([H])(C(=O)N([H])[C@@]([H])(C(=O)N([H])c2c(c(c(c(c2[H])[H])[H])[H])[H])C([H])([H])C([H])([H])C([H])([H])C([H])([H])N([H])[H])C([H])([H])C([H])([H])C([H])([H])C([H])([H])[H])[H])[H]', Molecule with name 'DrugBank_690' and SMILES '[H]c1c(c(c(c(c1[H])[H])c2c(c(c(nn2)N([H])C([H])([H])C([H])([H])N3C(C(OC(C3([H])[H])([H])[H])([H])[H])([H])[H])C([H])([H])[H])[H])[H])[H]', Molecule with name 'DrugBank_5922' and SMILES '[H]c1c(c(c(c(c1C(=O)OC([H])([H])C([H])([H])[H])[H])[H])OC([H])([H])C([H])([H])C2(C(C(N(C(C2([H])[H])([H])[H])c3c(c(c(nn3)C([H])([H])[H])[H])[H])([H])[H])([H])[H])[H])[H]', Molecule with name 'DrugBank_5923' and SMILES '[H]c1c(c(c(c(c1C(=O)OC([H])([H])C([H])([H])[H])[H])[H])OC([H])([H])C([H])([H])C([H])([H])C2(C(C(N(C(C2([H])[H])([H])[H])c3c(c(c(nn3)C([H])([H])[H])[H])[H])([H])[H])([H])[H])[H])[H]', Molecule with name 'DrugBank_5924' and SMILES '[H]c1c(c(c(c(c1C(=O)OC([H])([H])C([H])([H])[H])[H])[H])OC([H])([H])C([H])([H])C([H])([H])C([H])([H])C2(C(C(N(C(C2([H])[H])([H])[H])c3c(c(c(nn3)C([H])([H])[H])[H])[H])([H])[H])([H])[H])[H])[H]', Molecule with name 'DrugBank_5927' and SMILES '[H]c1c(c(c(c(c1[H])N2C(C(N(C(C2([H])[H])([H])[H])c3c(c(c(nn3)OC([H])([H])[H])[H])[H])([H])[H])([H])[H])[H])C([H])([H])[H])[H]', Molecule with name 'DrugBank_3479' and SMILES '[H]/C(=C(/[H])\\[C@]([H])(C([H])([H])C([H])([H])C([H])([H])C([H])([H])C([H])([H])[H])OO[H])/[C@@]1([C@@]([C@@]2(C([C@]1(OO2)[H])([H])[H])[H])([H])C([H])([H])/C(=C(/[H])\\C([H])([H])C([H])([H])C([H])([H])C(=O)O[H])/[H])[H]', Molecule with name 'DrugBank_826' and SMILES '[H]c1c(c(c(c(c1[H])OC(=O)N(C([H])([H])[H])C([H])([H])C([H])([H])C([H])([H])C([H])([H])C([H])([H])C([H])([H])C([H])([H])C([H])([H])C([H])([H])C([H])([H])N(C(=O)Oc2c(c(c(c(c2[H])[N+](C([H])([H])[H])(C([H])([H])[H])C([H])([H])[H])[H])[H])[H])C([H])([H])[H])[H])[N+](C([H])([H])[H])(C([H])([H])[H])C([H])([H])[H])[H]', Molecule with name 'DrugBank_891' and SMILES '[H]c1c(c(c(c(c1[H])O[H])[H])[N+](C([H])([H])[H])(C([H])([H])[H])C([H])([H])C([H])([H])[H])[H]', Molecule with name 'DrugBank_914' and SMILES '[H]/C(=C(/[H])\\C([H])([H])/C(=C(\\[H])/C([H])([H])C([H])([H])C(=O)[C@@]1([C@](O1)([H])C(=O)N([H])[H])[H])/[H])/C([H])([H])[H]', Molecule with name 'DrugBank_3674' and SMILES '[H]c1c(c(c2c(c1[H])-c3c(c(c(nn3)N([H])[H])[H])C(C2([H])[H])([H])[H])[H])[H]', Molecule with name 'DrugBank_1046' and SMILES '[H]c1c(c(c(c(c1C(=O)N([H])C([H])(C([H])([H])[H])C([H])([H])[H])[H])[H])C([H])([H])N([H])N([H])C([H])([H])[H])[H]', Molecule with name 'DrugBank_3752' and SMILES '[H]C1=C(C2=C(C(C(C1([H])[H])([H])[H])([H])[H])ON(C2=O)[H])C([H])([H])[C@@]([H])(C(=O)O[H])N([H])[H]', Molecule with name 'DrugBank_3787' and SMILES '[H]C(=C=C([H])C([H])([H])N([H])C([H])([H])C([H])([H])C([H])([H])C([H])([H])N([H])C([H])([H])C(=C=C([H])[H])[H])[H]', Molecule with name 'DrugBank_1145' and SMILES '[H]c1c(c(c2c(c1[H])c(nnc2N([H])N([H])[H])[H])[H])[H]', Molecule with name 'DrugBank_6235' and SMILES '[H]c1c(c(c2c(c1[H])C3(c4c(c(c(c(c4C2(OO3)C([H])([H])C([H])([H])C(=O)O[H])[H])[H])[H])[H])C([H])([H])[H])[H])[H]', Molecule with name 'DrugBank_1212' and SMILES '[H]C1=C2[C@]3([C@](C3([H])[H])([C@]4([C@@]5([C@]6([C@](C6([H])[H])([C@]7([C@]5(C(C([C@@]4([C@]2(C(C(C1=O)([H])[H])([H])[H])C([H])([H])[H])[H])([H])[H])([H])[H])C([H])([H])[H])C(C(C(=O)O7)([H])[H])([H])[H])[H])[H])[H])[H])[H])[H]', Molecule with name 'DrugBank_1216' and SMILES '[H]c1c(c(c(c(c1[H])OC(=O)N(C([H])([H])[H])C([H])([H])[H])[H])[N+](C([H])([H])[H])(C([H])([H])[H])C([H])([H])[H])[H]', Molecule with name 'DrugBank_6394' and SMILES '[H]c1c(c(c2c(c(c(c(c2c1[H])[H])[H])[C@@]3(C([C@]4([C@]([C@@]([C@]([C@@](O4)([H])C([H])([H])O[H])([H])O[H])([H])O[H])([H])O[H])ON3[H])([H])[H])[H])[H])[H])[H]', Molecule with name 'DrugBank_6397' and SMILES '[H]c1c(c(c(c(c1[C@@]2(C([C@]3([C@]([C@@]([C@]([C@@](O3)([H])C([H])([H])O[H])([H])O[H])([H])O[H])([H])O[H])ON2[H])([H])[H])[H])[H])[H])C([H])([H])[H])[H]', Molecule with name 'DrugBank_1447' and SMILES '[H]C1=C(C(=O)N(O1)[H])C([H])([H])[C@@]([H])(C(=O)O[H])N([H])[H]', Molecule with name 'DrugBank_1448' and SMILES '[H]c1c(c(c2=NC(N=c2c1[H])([H])N([H])[H])[H])[H]', Molecule with name 'DrugBank_6432' and SMILES '[H]c1c(c(c(c(c1[H])[H])C2=NC3=C(C(=NN3C(=C2[H])N([H])C([H])([H])c4c(c(c(nc4[H])[H])[H])[H])[H])C5(C(C5([H])[H])([H])[H])[H])[H])[H]', Molecule with name 'DrugBank_6486' and SMILES '[H]C([H])([H])C(C([H])([H])[H])(C([H])([H])[H])OC(=O)N([H])N(C#N)C([H])([H])[H]', Molecule with name 'DrugBank_6531' and SMILES '[H]c1c(c(c(c(c1OC([H])([H])[H])OC([H])([H])[H])OC([H])([H])[H])[H])N(C([H])([H])[H])C([H])([H])[C@@]2(C(C3=C(C(C2([H])[H])([H])[H])N([C@@](N=C3N([H])[H])([H])N([H])[H])[H])([H])[H])[H]', Molecule with name 'DrugBank_1697' and SMILES '[H]c1c(c(nc(c1C(=O)O[H])[H])C2(C(C2([H])[H])([H])[H])c3c(c4c(c(c3C([H])([H])[H])[H])C(C(C(C4(C([H])([H])[H])C([H])([H])[H])([H])[H])([H])[H])(C([H])([H])[H])C([H])([H])[H])[H])[H]', Molecule with name 'DrugBank_4322' and SMILES '[H]c1c(c(c(c(c1[H])[H])[C@@]([H])(C([H])([H])[H])N([H])[C@]([H])(N([H])c2c(c(c(c(c2[H])[H])C([H])([H])N([H])[H])[H])[H])N([H])C([H])([H])C([H])(O[H])O[H])[H])[H]', Molecule with name 'DrugBank_1742' and SMILES '[H]c1c(c(c(c(c1[H])[H])C([H])([H])[C@]2(C([N@](C(C(N2[H])([H])[H])([H])[H])c3c(c(c(nn3)c4c(c(c5c(c(c(c(c5c4[H])[H])[H])[H])[H])[H])[H])c6c(c(nc(c6[H])[H])[H])[H])[H])([H])[H])[H])[H])[H]', Molecule with name 'DrugBank_6739' and SMILES '[H]c1c(c(c(c(c1[H])[H])C([H])([H])[C@@]([H])(C(=O)N([H])[C@]([H])(C(=O)[C@]2(C(O2)([H])[H])C([H])([H])[H])C([H])([H])C([H])(C([H])([H])[H])C([H])([H])[H])N([H])C(=O)[C@]([H])(C([H])([H])C([H])(C([H])([H])[H])C([H])([H])[H])N([H])C(=O)[C@]([H])(C([H])([H])C([H])([H])c3c(c(c(c(c3[H])[H])[H])[H])[H])N([H])C(=O)C([H])([H])N4C(C(OC(C4([H])[H])([H])[H])([H])[H])([H])[H])[H])[H]', Molecule with name 'DrugBank_4434' and SMILES '[H]c1c(c(c(c(c1[H])[H])[C@@]2([C@@](C2([H])[H])([H])C([H])([H])N([H])[H])C(=O)N(C([H])([H])C([H])([H])[H])C([H])([H])C([H])([H])[H])[H])[H]', Molecule with name 'DrugBank_1849' and SMILES '[H]c1c(c(c(c(c1[H])[H])C([H])([H])[C@]2([C@]([C@@]([C@]([N@@](C([N@]2C([H])([H])c3c(c(c(c(c3[H])N([H])[H])[H])[H])[H])([H])O[H])C([H])([H])c4c(c(c(c(c4[H])N([H])[H])[H])[H])[H])([H])C([H])([H])c5c(c(c(c(c5[H])[H])[H])[H])[H])([H])O[H])([H])O[H])[H])[H])[H]', Molecule with name 'DrugBank_6895' and SMILES '[H]c1c(c(c(c(c1[H])[H])C(=O)OOC(=O)c2c(c(c(c(c2[H])[H])[H])[H])[H])[H])[H]', Molecule with name 'DrugBank_4584' and SMILES '[H]C1=C2C(=C(C3([C@@](C2=O)(C([H])([H])[H])O[H])C(C3([H])[H])([H])[H])C([H])([H])[H])C(=C1C([H])([H])[H])C([H])([H])O[H]', Molecule with name 'DrugBank_7020' and SMILES '[H]c1c(c(nnc1C(=O)N([H])[H])N([H])N([H])[H])[H]', Molecule with name 'DrugBank_4659' and SMILES '[H]C1(C2=C(C(N(C1([H])[H])[H])([H])[H])ON(C2=O)[H])[H]', Molecule with name 'DrugBank_7043' and SMILES '[H][C@]12[C@@]([C@](O[C@]3([C@@]14[C@]([C@](C(C2([H])[H])([H])[H])([H])C([H])([H])[H])(C(C([C@](O3)(OO4)C([H])([H])[H])([H])[H])([H])[H])[H])[H])([H])OC(=O)C([H])([H])C([H])([H])C(=O)O[H])([H])C([H])([H])[H]', Molecule with name 'DrugBank_4682' and SMILES '[H][C@]12[C@@]([C@@](O[C@]3([C@@]14[C@]([C@](C(C2([H])[H])([H])[H])([H])C([H])([H])[H])(C(C([C@](O3)(OO4)C([H])([H])[H])([H])[H])([H])[H])[H])[H])([H])OC([H])([H])[H])([H])C([H])([H])[H]', Molecule with name 'DrugBank_2134' and SMILES '[H]C1(C(C1([H])N([H])C([H])([H])C([C@]([H])(C([H])([H])C([H])([H])C([H])([H])C([H])([H])[H])N([H])[H])(O[H])O[H])([H])[H])[H]', Molecule with name 'DrugBank_4865' and SMILES '[H]c1c(c(c(c(c1[H])[H])C([H])([H])[C@@]([H])(C(=O)O[H])C([H])([H])N(=O)([H])O[H])[H])[H]', Molecule with name 'DrugBank_2208' and SMILES '[H]C([H])([H])[N@@](C([H])([H])C(=O)O[H])C([H])(N([H])[H])N([H])[H]', Molecule with name 'DrugBank_4885' and SMILES '[H]c1c(c(c2c(c(c(c(c2c1[H])[H])[H])C([H])([H])C(=O)N([H])C3=C(C(=NN3[H])C4(C(C4([H])[H])([H])[H])[H])[H])[H])[H])[H]', Molecule with name 'DrugBank_2276' and SMILES '[H][C@]12[C@](C(C([C@](C1([H])[H])([H])C([H])([H])[N@@]3[C@@]4([C@](C(C(C(C4([H])[H])([H])[H])([H])[H])([H])[H])(C(C3([H])[H])([H])[H])[H])[H])([H])[H])([H])[H])(N([C@@](N([C@@]2([H])N([H])[H])[H])([H])N([H])[H])[H])[H]', Molecule with name 'DrugBank_2358' and SMILES '[H]c1c(c(c(c(c1[H])[H])C(=O)N([H])C2=C(C(=NN2[H])C3(C(C3([H])[H])([H])[H])[H])[H])[H])[H]', Molecule with name 'DrugBank_2467' and SMILES '[H]c1c(c(c(c(c1[H])[H])C([H])([H])[C@@]([H])(C(=O)C([H])([H])N(#N)[H])N([H])C(=O)OC([H])([H])c2c(c(c(c(c2[H])[H])[H])[H])[H])[H])[H]', Molecule with name 'DrugBank_2573' and SMILES '[H]c1c(c(c(c(c1[H])[H])C(=C([H])/C(=N/c2c3c(c(c(c(c3nnc2C([H])([H])N([H])[H])[H])[H])[H])[H])/[H])c4c(c(c(c(c4[H])[H])[H])[H])[H])[H])[H]', Molecule with name 'DrugBank_5245' and SMILES '[H]c1c(c(c(c(c1[H])c2c3c(c(c(c(c3c(nn2)[H])[H])c4c(c(c(c(c4C([H])([H])[H])[H])[H])C(=O)N([H])C5(C(C5([H])[H])([H])[H])[H])[H])[H])[H])C([H])([H])[H])[H])[H]', Molecule with name 'DrugBank_2662' and SMILES '[H]c1c(c(c(c(c1[H])[H])C([H])([H])[C@]([H])([C@@]([H])(N([H])[C@@]([H])([C@]([H])(N([H])C([H])([H])C([H])([H])C([H])([H])C([H])([H])C([H])([H])[H])O[H])C([H])([H])c2c(c(c(c(c2[H])C(=O)O[H])OC([H])([H])C(=O)O[H])[H])[H])O[H])N([H])[C@]([H])(O[H])OC(C([H])([H])[H])(C([H])([H])[H])C([H])([H])[H])[H])[H]', Molecule with name 'DrugBank_2682' and SMILES '[H][C@@](C(=O)O[H])(C([H])([H])N1C(=O)N(C(=O)O1)[H])N([H])[H]', Molecule with name 'DrugBank_2684' and SMILES '[H]C/1=C(C(=O)O\\C1=C(\\[H])/C(=C(\\[H])/C(=C(\\[H])/C(=C(\\[H])/C(=C(/C(=C=C2[C@@](C([C@](C(C2(C([H])([H])[H])C([H])([H])[H])([H])[H])([H])OC(=O)C([H])([H])[H])([H])[H])(C([H])([H])[H])O[H])[H])\\C([H])([H])[H])/[H])/[H])/[H])/C([H])([H])[H])/C(=C(\\[H])/[C@@]34[C@@](O3)(C([C@](C(C4(C([H])([H])[H])C([H])([H])[H])([H])[H])([H])O[H])([H])[H])C([H])([H])[H])/[H]', Molecule with name 'DrugBank_5319' and SMILES '[H]c1c(c(c(c2c1N(C(=N2)[H])[H])[H])N([H])c3nc(c(c(n3)N([H])C4=C(C(=NN4[H])C5(C(C5([H])[H])([H])[H])[H])[H])[H])[H])[H]']\n",
      "The final component failed molecules [Molecule with name 'DrugBank_4346' and SMILES '[H]/C/1=C(/N=C(\\C(=C/2\\C(=C(/C(=O/C3=N/C(=C(\\C4=C(C(=C1N4[H])C([H])([H])C([H])([H])C(=O)O[H])C([H])([H])[H])/[H])/C(=C3C([H])([H])[H])C(=C([H])[H])[H])/N2[H])C(=C([H])[H])[H])C([H])([H])[H])\\[H])/C(=C([H])[H])C([H])([H])[H])\\[H]', Molecule with name 'DrugBank_7049' and SMILES '[H]C1=C(ON=N1([H])N2C(C(OC(C2([H])[H])([H])[H])([H])[H])([H])[H])N([H])C(=O)OC([H])([H])C([H])([H])[H]']\n"
     ]
    },
    {
     "name": "stdout",
     "output_type": "stream",
     "text": [
      "The filtered molecules {'ElementFilter': {'component_description': 'Filter out molecules who contain elements not in the allowed element list', 'component_fail_message': 'Molecule contained elements not in the allowed elements list', 'molecules': [Molecule with name 'DrugBank_5354' and SMILES '[H]c1c(c(c(c(c1[H])[H])Oc2c(c(c(c(c2[H])C([H])([H])C([H])([H])C([H])([H])[C@]([H])(P(=O)(O[H])O[H])S(=O)(=O)O[H])[H])[H])[H])[H])[H]', Molecule with name 'DrugBank_2791' and SMILES '[H]c1c(c(c(c(c1C([H])([H])[H])[H])[H])S(=O)(=O)O[H])[H]', Molecule with name 'DrugBank_5373' and SMILES '[H]c1c(c(c(c(c1C(C([H])([H])[H])(C([H])([H])[H])C([H])([H])[H])[H])[H])S(=O)(=O)O[H])[H]', Molecule with name 'DrugBank_2799' and SMILES '[H]c1c(c(c(c(c1C([H])([H])O[C@@]([H])(O[H])SC([H])([H])[C@]([H])(C(=O)N([H])C([H])([H])C(=O)O[H])N([H])C(=O)C([H])([H])C([H])([H])[C@@]([H])(C(=O)O[H])N([H])[H])[H])[H])N(=O)([H])O[H])[H]', Molecule with name 'DrugBank_2800' and SMILES '[H]c1c(c(c2c(c1[H])N=C(S2)SC([H])([H])C([H])([H])C([H])([H])S(=O)(=O)O[H])[H])[H]', Molecule with name 'DrugBank_5387' and SMILES '[H]c1c(c(c(c(c1c2c(c(c(c(c2[H])[H])[C@@]([H])(C([H])([H])[H])C([H])([H])N([H])S(=O)(=O)C([H])([H])[H])[H])[H])[H])[H])[C@@]([H])(C([H])([H])[H])C([H])([H])N([H])S(=O)(=O)C([H])([H])[H])[H]', Molecule with name 'DrugBank_2824' and SMILES '[H]c1c(c2c(c(c(c(c2S(=O)(=O)N([H])[C@@]([H])(C(=O)O[H])C([H])([H])c3c(c(c(c(c3[H])[H])OS(=O)(=O)c4c(c(c(c5c4c(c(c(c5N(C([H])([H])[H])C([H])([H])[H])[H])[H])[H])[H])[H])[H])[H])[H])[H])[H])[H])c(c1[H])N(C([H])([H])[H])C([H])([H])[H])[H]', Molecule with name 'DrugBank_5407' and SMILES '[H]c1c(c(c(c(c1[H])C(=O)N([H])c2c(c(c(c(c2[H])[H])S(=O)(=O)N([H])[H])[H])[H])S[H])[H])[H]', Molecule with name 'DrugBank_2830' and SMILES '[H]C([H])([H])C(=O)C([H])([H])SC([H])([H])C([H])([H])S(=O)(=O)O[H]', Molecule with name 'DrugBank_5414' and SMILES '[H]c1c(c(c(c(c1[H])[H])c2c(c(c(c(c2[S@](=O)O[H])[H])[H])[H])[H])[H])[H]', Molecule with name 'DrugBank_5418' and SMILES '[H]c1c(c2c(c(c1C([H])([H])[H])[H])C(C([C@@](O2)([H])C([H])([H])[P@@](=O)([H])O[H])([H])[H])([H])[H])[H]', Molecule with name 'DrugBank_104' and SMILES '[H]c1c(c(c(c(c1[H])[H])C([H])([H])[C@@]([H])(/C(=N/[C@]([H])(/C(=N/[C@]([H])([C@]([H])([C@]([H])(C2(C(C2([H])[H])([H])[H])[H])O[H])O[H])C([H])([H])C3(C(C(C(C(C3([H])[H])([H])[H])([H])[H])([H])[H])([H])[H])[H])/O[H])C([H])([H])C4=C(N=C(N4[H])[H])[H])/O[H])C([H])([H])S(=O)(=O)C(C([H])([H])[H])(C([H])([H])[H])C([H])([H])[H])[H])[H]', Molecule with name 'DrugBank_128' and SMILES '[H]C1(C(N(C(C(N1C(=O)C([H])([H])C([H])([H])Br)([H])[H])([H])[H])C(=O)C([H])([H])C([H])([H])Br)([H])[H])[H]', Molecule with name 'DrugBank_5449' and SMILES '[H][C@@](C([H])([H])C([H])([H])[H])(C([H])([H])C([H])([H])C([H])([H])C([H])([H])[H])C([H])([H])OS(=O)(=O)O[H]', Molecule with name 'DrugBank_5451' and SMILES '[H]c1c(c(c(c(c1[C@@]([H])(C(F)(F)F)N([H])[C@]([H])(C(=O)N([H])C2(C(C2([H])[H])([H])[H])C([H])([H])N([H])[H])C([H])([H])S(=O)(=O)N3C(C(OC(C3([H])[H])([H])[H])([H])[H])([H])[H])[H])[H])F)[H]', Molecule with name 'DrugBank_165' and SMILES '[H][C@]12[C@]3([C@@](OC([C@]1(OC(O2)(C([H])([H])[H])C([H])([H])[H])[H])([H])[H])(OC(O3)(C([H])([H])[H])C([H])([H])[H])C([H])([H])OS(=O)(=O)N([H])[H])[H]', Molecule with name 'DrugBank_178' and SMILES '[H]c1c(c(c(c2c1[C@@]3([C@]([C@]4([C@@](C(=O)C(C4([H])[H])([H])[H])(C(C3([H])[H])([H])[H])C([H])([H])[H])[H])(C(C2([H])[H])([H])[H])[H])[H])[H])OS(=O)(=O)O[H])[H]', Molecule with name 'DrugBank_5514' and SMILES '[H]c1c(c(c(c(c1[C@@]([H])(C(F)(F)F)N([H])[C@]([H])(C(=O)N([H])C2(C(C2([H])[H])([H])[H])C#N)C([H])([H])S(=O)(=O)C([H])([H])[C@@]3(C(C(C(=O)N3[H])([H])[H])([H])[H])[H])[H])[H])F)[H]', Molecule with name 'DrugBank_5516' and SMILES '[H]c1c(c(c(c(c1[H])[H])C([H])([H])S(=O)(=O)C([H])([H])[C@@]([H])(C(=O)N([H])C2(C(C2([H])[H])([H])[H])C([H])([H])N([H])[H])N([H])[C@@]([H])(c3c(c(c(c(c3[H])[H])O[H])[H])[H])C(F)(F)F)[H])[H]', Molecule with name 'DrugBank_2955' and SMILES '[H]c1c(c(c(c(c1[H])[H])C([H])([H])[S@](=O)O[H])[H])[H]', Molecule with name 'DrugBank_5523' and SMILES '[H]c1c2c(c(c(c1OC([H])([H])[H])OS(=O)(=O)N([H])[H])[H])C(C([C@@]3([C@@]2(C(C([C@]4([C@]3(C(C([C@]4([H])C([H])([H])C#N)([H])[H])([H])[H])[H])C([H])([H])[H])([H])[H])([H])[H])[H])[H])([H])[H])([H])[H]', Molecule with name 'DrugBank_2967' and SMILES '[H]C1(C(C(C(C(C1([H])[H])([H])[H])([H])N([H])C([H])([H])C([H])([H])S(=O)(=O)O[H])([H])[H])([H])[H])[H]', Molecule with name 'DrugBank_2982' and SMILES '[H]c1c(c(c(c(c1C([H])([H])[C@@]([H])(C(=O)N([H])S(=O)(=O)OC([H])([H])[C@]2([C@]([C@@]([C@](O2)([H])N3c4c(c(nc(n4)[H])N([H])[H])N=C3[H])([H])O[H])([H])O[H])[H])N([H])[H])[H])[H])O[H])[H]', Molecule with name 'DrugBank_2986' and SMILES '[H]c1c(c(nc(c1[H])S[H])[H])[H]', Molecule with name 'DrugBank_246' and SMILES '[H]C1=C(N=C(S1)[N+]([H])([H])[H])/C(=N/OC(C(=O)O[H])(C([H])([H])[H])C([H])([H])[H])/C(=O)N([H])[C@@]2(C(=O)N([C@@]2([H])C([H])([H])[H])S(=O)(=O)O[H])[H]', Molecule with name 'DrugBank_2987' and SMILES '[H]c1c(c(c(c(c1N([C@@]([H])(O[H])SC([H])([H])[C@]([H])(C(=O)N([H])C([H])([H])C(=O)O[H])N([H])C(=O)C([H])([H])C([H])([H])[C@@]([H])(C(=O)O[H])N([H])[H])O[H])[H])[H])I)[H]', Molecule with name 'DrugBank_2991' and SMILES '[H][C@](C([H])([H])[H])(C([H])([H])Br)O[H]', Molecule with name 'DrugBank_5555' and SMILES '[H]c1c(c(c(c2c1N(C(=C2[H])C(=O)N([H])[C@@]3([C@](C(C(C(C3([H])[H])([H])[H])([H])[H])([H])[H])([H])N([H])C(=O)C4=NC5=C(S4)C([N@@](C(C5([H])[H])([H])[H])C([H])([H])[H])([H])[H])[H])[H])[H])Cl)[H]', Molecule with name 'DrugBank_3011' and SMILES '[H]c1nc2c(c(n1)N([H])[H])N=C(N2[C@]3([C@]([C@@]([C@](O3)([H])C([H])([H])OS(=O)(=O)N([H])C(=O)[C@@]([H])([C@@]([H])(C([H])([H])[H])O[H])N([H])[H])([H])O[H])([H])O[H])[H])[H]', Molecule with name 'DrugBank_3014' and SMILES '[H]c1c(c(c(c(c1[H])[N+](C([H])([H])[H])(C([H])([H])[H])C([H])([H])[H])[H])C(C(F)(F)F)(O[H])O[H])[H]', Molecule with name 'DrugBank_293' and SMILES '[H]c1c(c(c(c(c1[H])[H])C([H])([H])[C@@]([H])(C(=O)N([H])[H])N([H])C(=O)[C@]([H])(C([H])([H])C(=O)O[H])N([H])C(=O)[C@]([H])(C([H])([H])C([H])([H])SC([H])([H])[H])N([H])C(=O)[C@]([H])(C([H])([H])C2=C(N(c3c2c(c(c(c3[H])[H])[H])[H])[H])[H])N([H])C(=O)C([H])([H])N([H])C(=O)[C@]([H])([C@@]([H])(C([H])([H])[H])O[H])N([H])C(=O)[C@]([H])(C([H])([H])c4c(c(c(c(c4[H])[H])OS(=O)(=O)O[H])[H])[H])N([H])C(=O)[C@]([H])(C([H])([H])C(=O)O[H])N([H])C(=O)[C@]([H])(C([H])([H])C([H])([H])C(=O)N([H])[H])N([H])C(=O)[C@@]5(C(C(C(=O)N5[H])([H])[H])([H])[H])[H])[H])[H]', Molecule with name 'DrugBank_3028' and SMILES '[H]c1nc2c(c(n1)N([H])[H])N=C(N2[C@]3([C@]([C@@]([C@](O3)([H])C([H])([H])OS(=O)(=O)N([H])C(=O)[C@]([H])(C([H])([H])[H])N([H])[H])([H])O[H])([H])O[H])[H])[H]', Molecule with name 'DrugBank_320' and SMILES '[H]C1(C(C(C(C(C1([H])Cl)([H])Cl)([H])Cl)([H])Cl)([H])Cl)Cl', Molecule with name 'DrugBank_5609' and SMILES '[H]c1c(c2c(c(c(c(c2c(c1[H])N(C([H])([H])[H])C([H])([H])[H])[H])[H])S(=O)(=O)O[H])[H])[H]', Molecule with name 'DrugBank_3080' and SMILES '[H]C1(C(OC(C(N1C([H])([H])C([H])([H])C([H])([H])S(=O)(=O)O[H])([H])[H])([H])[H])([H])[H])[H]', Molecule with name 'DrugBank_3087' and SMILES '[H]c1c(c(c(c(c1[H])[H])C([H])([H])[C@]([H])(C(=O)O[H])C([H])([H])I)[H])[H]', Molecule with name 'DrugBank_3088' and SMILES '[H]c1c(c(c(c(c1C(=O)O[H])/N=N/C2=C(N(N=C2C([H])([H])[H])c3c(c(c(c(c3C([H])([H])[H])[H])S(=O)(=O)O[H])[H])[H])O[H])[H])S(=O)(=O)O[H])[H]', Molecule with name 'DrugBank_3117' and SMILES '[H]c1c(c(c(c(c1[H])/N=N/c2c(c3c(c(c(c(c3N([H])c4nc(nc(n4)N([H])[H])N([H])[H])[H])S(=O)(=O)O[H])[H])c(c2S(=O)(=O)O[H])[H])O[H])S(=O)(=O)O[H])[H])[H]', Molecule with name 'DrugBank_390' and SMILES '[H]C1=NC(=C(N1[H])C([H])([H])[H])C([H])([H])SC([H])([H])C([H])([H])N([H])/C(=N/C([H])([H])[H])/N([H])C#N', Molecule with name 'DrugBank_416' and SMILES '[H]OC(=O)P(=O)(O[H])O[H]', Molecule with name 'DrugBank_442' and SMILES '[H]c1c(c(c(c(c1[H])Cl)Cl)c2c(nc(nn2)N([H])[H])N([H])[H])[H]', Molecule with name 'DrugBank_443' and SMILES 'C(C(F)(F)F)(C(F)(F)F)(F)F', Molecule with name 'DrugBank_3183' and SMILES '[H]c1c(c(c(c(c1C(=O)N([H])[C@@]([H])(C(=O)O[H])C([H])([H])C([H])([H])C(=O)O[H])[H])[H])[C@]([H])(C([H])([H])C([H])([H])C([H])([H])[C@]2(C(=O)N([C@](N([C@]2([H])N([H])[H])[H])([H])N([H])[H])[H])[H])C(C(F)(F)F)(O[H])O[H])[H]', Molecule with name 'DrugBank_449' and SMILES '[H]c1c(c(c(c(c1[H])[H])C([H])([H])SC([H])([H])C2=NS(=O)(=O)c3c(c(c(c(c3N2[H])[H])Cl)S(=O)(=O)N([H])[H])[H])[H])[H]', Molecule with name 'DrugBank_472' and SMILES '[H]C1=C(N=C(S1)C([H])([H])N(C([H])([H])[H])C([H])([H])[H])C([H])([H])SC([H])([H])C([H])([H])N([H])/C(=C(\\[H])/N(=O)([H])O[H])/N([H])C([H])([H])[H]', Molecule with name 'DrugBank_5737' and SMILES '[H][C@@](C([H])([H])[H])(C(C([H])([H])[H])(C([H])([H])[H])C([H])([H])[H])O[P@](=O)([H])C([H])([H])[H]', Molecule with name 'DrugBank_3258' and SMILES '[H]c1c(c(c(c(c1C([H])([H])C([H])([H])[H])[H])[H])N([H])C(=O)P(=O)(O[H])O[H])[H]', Molecule with name 'DrugBank_3265' and SMILES '[H]C([H])([H])C([H])([H])S(=O)(=O)O[H]', Molecule with name 'DrugBank_546' and SMILES '[H]C([H])([H])C(=O)N([H])C([H])([H])C([H])([H])C([H])([H])S(=O)(=O)O[H]', Molecule with name 'DrugBank_556' and SMILES '[H]c1c(c2c(c(c1C([H])([H])S(=O)(=O)N([H])C([H])([H])[H])[H])C(=C(N2[H])[H])C([H])([H])C([H])([H])N(C([H])([H])[H])C([H])([H])[H])[H]', Molecule with name 'DrugBank_5779' and SMILES '[H]c1c(c(c(c2c1N(C(=O)C(=C2OC#CC3(C(C3([H])[H])([H])[H])[H])C([H])(C([H])([H])[H])C([H])([H])[H])[H])[H])F)[H]', Molecule with name 'DrugBank_564' and SMILES '[H]C([H])([H])C([H])(C([H])([H])[H])OP(=O)(OC([H])(C([H])([H])[H])C([H])([H])[H])F', Molecule with name 'DrugBank_573' and SMILES '[H][C@]1([C@@]([C@](OC([C@@]1([H])O[H])([H])[H])([H])O[C@]2([C@]([C@@]([C@](OC2([H])[H])([H])O[H])([H])OS(=O)(=O)O[H])([H])OS(=O)(=O)O[H])[H])([H])OS(=O)(=O)O[H])OS(=O)(=O)O[H]', Molecule with name 'DrugBank_3291' and SMILES '[H][C@@](C(=O)O[H])(C([H])([H])S(=O)(=O)O[H])N([H])[H]', Molecule with name 'DrugBank_3299' and SMILES '[H]C1(C2=C(C(N(C1([H])[H])[H])([H])[H])SC(=C2C(=O)O[H])N([H])C(=O)C(=O)O[H])[H]', Molecule with name 'DrugBank_5804' and SMILES '[H]c1c(c(c(c(c1[H])O[H])SC([H])([H])C([H])([H])/C(=C(\\[H])/P(=O)(O[H])O[H])/[H])[H])[H]', Molecule with name 'DrugBank_5808' and SMILES '[H]c1c(c(c(c(c1O[H])SC([H])([H])C([H])([H])/C(=C(\\[H])/P(=O)(O[H])O[H])/[H])[H])F)[H]', Molecule with name 'DrugBank_3317' and SMILES '[H][C@@](C(=O)O[H])(C([H])([H])OS(=O)(=O)C([H])([H])C([H])([H])C([H])([H])C([H])([H])C([H])([H])C([H])([H])C([H])([H])C([H])([H])C([H])([H])C([H])([H])C([H])([H])C([H])([H])C([H])([H])C([H])([H])C([H])([H])C([H])([H])[H])N([H])[H]', Molecule with name 'DrugBank_3332' and SMILES '[H]c1nc2c(c(n1)N([H])[H])N=C(N2[C@]3([C@]([C@@]([C@](O3)([H])C([H])([H])O[P@@](=O)(O[H])OS(=O)(=O)O[H])([H])O[H])([H])O[H])[H])[H]', Molecule with name 'DrugBank_3346' and SMILES '[H]C1=C(SC(=N1)[C@@]([H])([C@@]([H])(C([H])([H])[H])O[H])N([H])[H])[H]', Molecule with name 'DrugBank_3353' and SMILES '[H]C([H])(C([H])([H])Cl)Cl', Molecule with name 'DrugBank_5847' and SMILES '[H]C1=C(N(C(C(=C1N([H])C([H])([H])C([H])([H])[C@]([H])(C(=O)N2C(C(C(C(C2([H])[H])([H])[H])([H])[H])([H])[H])([H])[H])N([H])C(=O)C([H])([H])N([H])S(=O)(=O)C3(C(C(C(C(C3([H])[H])([H])[H])([H])[H])([H])[H])([H])[H])[H])[H])([H])[H])[H])[H]', Molecule with name 'DrugBank_3358' and SMILES '[H]/C(=C(/[H])\\S[H])/N([H])C(=O)C([H])([H])C([H])([H])N([H])C(=O)[C@@]([H])(C(C([H])([H])[H])(C([H])([H])[H])C([H])([H])O[H])O[H]', Molecule with name 'DrugBank_661' and SMILES '[H]c1c(c(c(c(c1C([H])([H])[C@@]([H])(C(=O)O[H])N([H])S(=O)(=O)C([H])([H])C([H])([H])C([H])([H])C([H])([H])[H])[H])[H])OC([H])([H])C([H])([H])C([H])([H])C([H])([H])C2(C(C(N(C(C2([H])[H])([H])[H])[H])([H])[H])([H])[H])[H])[H]', Molecule with name 'DrugBank_5867' and SMILES '[H]c1c(c(c(c(c1C([H])([H])C(=O)OC([H])([H])C([H])([H])Br)C(=O)[H])[H])N([H])[H])[H]', Molecule with name 'DrugBank_3406' and SMILES '[H][C@](C(=O)O[H])(C([H])([H])C([H])([H])S(=O)(=O)C([H])([H])[H])N([H])[H]', Molecule with name 'DrugBank_700' and SMILES '[H]C([H])([H])C([H])([H])C([H])([H])C([H])([H])C([H])([H])C([H])([H])C([H])([H])C([H])([H])C([H])([H])C([H])([H])C([H])([H])C([H])([H])OS(=O)(=O)O[H]', Molecule with name 'DrugBank_5899' and SMILES '[H]c1c(c(c(c(c1[H])[H])[C@@]([H])(C([H])([H])C(=O)N([H])C2=NN=C(S2)S[H])N([H])C(=O)OC([H])([H])c3c(c(c(c(c3[H])[H])[H])[H])[H])[H])[H]', Molecule with name 'DrugBank_5900' and SMILES '[H][C@@](C(=O)N([H])C([H])([H])[H])(C([H])([H])c1c(c(c(c(c1F)F)F)F)F)N([H])C(=O)N([H])C2=NN=C(S2)S[H]', Molecule with name 'DrugBank_5902' and SMILES '[H]c1c(c(c(c(c1[H])[H])OC([H])([H])[C@@]([H])(C([H])([H])C([H])([H])[H])O[P@](=O)(C([H])([H])[H])Cl)[H])[H]', Molecule with name 'DrugBank_5904' and SMILES '[H]c1c(c(c2c(c1[H])C(=C(N2[H])[H])OS(=O)(=O)O[H])[H])[H]', Molecule with name 'DrugBank_3430' and SMILES '[H][C@@](C(=O)O[H])(C([H])([H])C([H])([H])SC([H])(F)F)N([H])[H]', Molecule with name 'DrugBank_3461' and SMILES '[H]c1c(c(c(c(c1[H])[H])[S@](=O)O[H])[H])[H]', Molecule with name 'DrugBank_764' and SMILES '[H]c1c2c(c(c(c1Cl)S(=O)(=O)N([H])[H])[H])S(=O)(=O)N=C(N2[H])[H]', Molecule with name 'DrugBank_3482' and SMILES '[H]c1nc2c(c(n1)N([H])[H])N=C(N2[C@]3([C@]([C@@]([C@](O3)([H])C([H])([H])OS(=O)(=O)N([H])C(=O)[C@@]([H])(C([H])([H])O[H])N([H])[H])([H])O[H])([H])O[H])[H])[H]', Molecule with name 'DrugBank_794' and SMILES '[H]C1=C(N(C(=N1)C([H])([H])[H])C([H])([H])C([H])([H])S(=O)(=O)C([H])([H])C([H])([H])[H])N(=O)([H])O[H]', Molecule with name 'DrugBank_801' and SMILES '[H]c1c(c2c(c(c1C([H])([H])S(=O)(=O)N3C(C(C(C3([H])[H])([H])[H])([H])[H])([H])[H])[H])C(=C(N2[H])[H])C([H])([H])C([H])([H])N(C([H])([H])[H])C([H])([H])[H])[H]', Molecule with name 'DrugBank_3502' and SMILES '[H]c1c(c(c(c(c1N([C@@]([H])(O[H])SC([H])([H])[C@]([H])(C(=O)N([H])C([H])([H])C(=O)O[H])N([H])C(=O)C([H])([H])C([H])([H])[C@@]([H])(C(=O)O[H])N([H])[H])O[H])[H])[H])Br)[H]', Molecule with name 'DrugBank_3503' and SMILES '[H]/C(=C(/[H])\\C([H])([H])N1C(C(C(C(C1([H])[H])([H])[H])([H])[H])([H])[H])([H])[H])/C(=O)N2[C@@]([C@](C(C2([H])[H])([H])[H])([H])N([H])S(=O)(=O)C([H])([H])[H])([H])[C@@]([H])(C(=O)[H])C([H])(C([H])([H])[H])C([H])([H])[H]', Molecule with name 'DrugBank_810' and SMILES '[H]C1=C(N=C(S1)N=C(N([H])[H])N([H])[H])C([H])([H])SC([H])([H])C([H])([H])/C(=N/S(=O)(=O)N([H])[H])/N([H])[H]', Molecule with name 'DrugBank_830' and SMILES '[H]c1c(c(c(c(c1[H])[H])[C@]([H])(C(=O)N([H])[C@@]2(C(=O)N3[C@@]2(SC([C@]3([H])C(=O)O[H])(C([H])([H])[H])C([H])([H])[H])[H])[H])N([H])C(=O)N4C(=O)N(C(C4([H])[H])([H])[H])S(=O)(=O)C([H])([H])[H])[H])[H]', Molecule with name 'DrugBank_834' and SMILES '[H]c1c(c2c(c(c1C([H])([H])C([H])([H])S(=O)(=O)N([H])C([H])([H])[H])[H])C(=C(N2[H])[H])C3(C(C(N(C(C3([H])[H])([H])[H])C([H])([H])[H])([H])[H])([H])[H])[H])[H]', Molecule with name 'DrugBank_6004' and SMILES '[H]c1c(c(c(c(c1OC([H])([H])[H])C(=O)c2c(nc(nc2N([H])[H])N([H])C3(C(C(N(C(C3([H])[H])([H])[H])S(=O)(=O)C([H])([H])[H])([H])[H])([H])[H])[H])[H])F)F)[H]', Molecule with name 'DrugBank_3547' and SMILES '[H][C@@]1(C([C@@]([C@](C(O1)([H])[H])([H])OS(=O)(=O)O[H])([H])O[H])([H])[H])C(=O)O[H]', Molecule with name 'DrugBank_3565' and SMILES '[H][C@@](C(=O)O[H])(C([H])([H])C([H])([H])C([H])([H])/N=C(\\N([H])[H])/S[H])N([H])[H]', Molecule with name 'DrugBank_3570' and SMILES '[H][C@@]1([C@]([C@@]([C@](O[C@]1([H])O[H])([H])C([H])([H])OS(=O)(=O)O[H])([H])O[H])([H])O[H])N([H])S(=O)(=O)O[H]', Molecule with name 'DrugBank_3576' and SMILES '[H]C([H])([H])C([H])([H])C([H])([H])C([H])([H])C([H])([H])C([H])([H])C([H])([H])C([H])([H])C([H])([H])C([H])([H])C([H])([H])C([H])([H])OS(=O)(=O)O[H]', Molecule with name 'DrugBank_6026' and SMILES '[H]c1c(c(c(c(c1C([H])([H])C(=O)OC([H])([H])[C@]([C@]([H])(C(=O)O[H])N([H])C2=C(C(=C3N2C(=C(C(=C3[H])[H])[H])[H])[H])C(=O)[H])(C([H])([H])[H])[S@@](=O)O[H])[H])O[H])O[H])[H]', Molecule with name 'DrugBank_3581' and SMILES '[H]c1c(c(c2c(c1[H])[C@@](S[C@@](O2)([H])N([H])[H])([H])O[H])[H])[H]', Molecule with name 'DrugBank_6032' and SMILES '[H]c1c(c(c(c(c1C([H])([H])S(=O)(=O)N([H])C([H])([H])[H])[H])[H])N([H])/N=C\\2/c3c(c(c(c4c3SC(=N4)[H])[H])[H])N(C2=O)[H])[H]', Molecule with name 'DrugBank_889' and SMILES '[H]C([H])([H])S(=O)(=O)OC([H])([H])C([H])([H])C([H])([H])C([H])([H])OS(=O)(=O)C([H])([H])[H]', Molecule with name 'DrugBank_3590' and SMILES '[H]C1=C(OC([C@@]([C@]1([H])O[H])([H])OS(=O)(=O)O[H])([H])[H])C(=O)O[H]', Molecule with name 'DrugBank_3611' and SMILES '[H]c1c(c(c(c(c1[C@]([H])(C([H])([H])[H])N([H])C(=O)[C@@]([H])(C([H])([H])c2c(c(c(c(c2[H])P(=O)(O[H])O[H])OC([H])([H])C(=O)O[H])[H])[H])N([H])C(=O)C([H])([H])[H])[H])C(=O)N([H])[H])OC([H])([H])C3(C(C(C(C(C3([H])[H])([H])[H])([H])[H])([H])[H])([H])[H])[H])[H]', Molecule with name 'DrugBank_3622' and SMILES '[H][C@@](C([H])([H])C([H])([H])SC([H])([H])[H])(N([H])[H])[P@@](=O)([H])O[H]', Molecule with name 'DrugBank_6100' and SMILES '[H]c1c(c(c2c(c1[H])C([C@@](N(C2([H])[H])[H])([H])C3=NC(=C(S3)C([H])(C([H])([H])[H])C([H])([H])[H])C(=O)O[H])([H])[H])[H])[H]', Molecule with name 'DrugBank_977' and SMILES '[H]c1c(c(c(c(c1c2c(c(nc(n2)[N@@](C([H])([H])[H])S(=O)(=O)C([H])([H])[H])C([H])(C([H])([H])[H])C([H])([H])[H])/C(=C(\\[H])/[C@]([H])(C([H])([H])[C@]([H])(C([H])([H])C(=O)O[H])O[H])O[H])/[H])[H])[H])F)[H]', Molecule with name 'DrugBank_6103' and SMILES '[H]c1c(c(c(c(c1[H])C([H])([H])S(=O)(=O)C([H])([H])[C@@]([H])(C(=O)N([H])C([H])([H])C#N)OC(=O)N2C(C(OC(C2([H])[H])([H])[H])([H])[H])([H])[H])OC([H])(F)F)[H])[H]', Molecule with name 'DrugBank_997' and SMILES '[H]c1c(c(c(c2c1N(C(=NS2(=O)=O)C([H])([H])[H])[H])[H])Cl)[H]', Molecule with name 'DrugBank_3693' and SMILES '[H]C1=C(SC(=C1[H])C([H])([H])[N@]2C([C@](C3=C(S2(=O)=O)SC(=C3[H])S(=O)(=O)N([H])[H])([H])O[H])([H])[H])[H]', Molecule with name 'DrugBank_3726' and SMILES '[H]c1c(c(c(c(c1C([H])([H])C(=O)N([H])C([H])([H])[P@@](=O)([H])O[H])[H])[H])I)[H]', Molecule with name 'DrugBank_6145' and SMILES '[H]c1c(c2c(c(c(c(c2c(c1[H])N([H])[H])[H])[H])S(=O)(=O)O[H])[H])[H]', Molecule with name 'DrugBank_3739' and SMILES '[H]c1c(c(c(c(c1N(C([H])([H])C([H])([H])Br)C([H])([H])C([H])([H])Br)N(=O)([H])O[H])[H])N(=O)([H])O[H])C(=O)N([H])C([H])([H])C(=O)C(=O)[H]', Molecule with name 'DrugBank_6160' and SMILES '[H]c1c(c(c2c(c(c(c(c2c1[H])[H])[H])S(=O)(=O)O[H])[H])[H])[H]', Molecule with name 'DrugBank_6182' and SMILES '[H]c1c(c(c(c(c1OC(C(=O)N([H])C2([C@@]3(C(C4(C([C@]2(C(C(C3([H])[H])(C4([H])[H])S(=O)(=O)C([H])([H])[H])([H])[H])[H])([H])[H])[H])([H])[H])[H])[H])(C([H])([H])[H])C([H])([H])[H])Cl)[H])F)[H]', Molecule with name 'DrugBank_1134' and SMILES '[H]c1c(c(c(c(c1[H])F)[H])C([H])([H])Oc2c(c(c(c(c2Cl)[H])N([H])c3c4c(c(c(c(c4nc(n3)[H])[H])[H])C5=C(C(=C(O5)C([H])([H])N([H])C([H])([H])C([H])([H])S(=O)(=O)C([H])([H])[H])[H])[H])[H])[H])[H])[H]', Molecule with name 'DrugBank_3817' and SMILES '[H]/C(=C(/[H])\\C(=O)N([H])[C@@]([H])(C([H])([H])O[H])C([H])([H])[S@@](=O)C([H])([H])SC([H])([H])[H])/C1=C(N(C(=O)N(C1=O)[H])[H])C([H])([H])[H]', Molecule with name 'DrugBank_6222' and SMILES '[H]c1c(c(c(c(c1[H])c2c(c(c(c(c2[S@](=O)O[H])[H])[H])[H])[H])O[H])[H])[H]', Molecule with name 'DrugBank_1168' and SMILES '[H]c1c(c(c(c(c1[H])[H])[C@]([H])(C(=O)N([H])[C@@]2(C(=O)N3[C@@]2(SC(C(=C3C(=O)O[H])C([H])([H])SC4=NN=NN4C([H])([H])S(=O)(=O)O[H])([H])[H])[H])[H])O[H])[H])[H]', Molecule with name 'DrugBank_6232' and SMILES '[H]c1c(c(c(c(c1[N@@]2C(C(C(C(S2(=O)=O)([H])[H])([H])[H])([H])[H])([H])[H])[H])[H])S(=O)(=O)N([H])[H])[H]', Molecule with name 'DrugBank_3844' and SMILES '[H]C([H])([H])C([H])(C([H])([H])[H])O[P@@](=O)([H])O[H]', Molecule with name 'DrugBank_3913' and SMILES '[H][C@@]1(C([C@@](N(O1)[H])([H])SC([H])([H])[C@@]([H])(C(=O)O[H])N([H])[H])([H])[H])[C@]([H])(C(=O)O[H])N([H])[H]', Molecule with name 'DrugBank_6295' and SMILES '[H]c1c(c(c(c(c1[H])O[H])Oc2nc(c(c(n2)C3=C(C(=O)O[N@]3C([H])([H])OC([H])([H])C([H])([H])[H])c4c(c(c(c(c4[H])[H])F)[H])[H])[H])[H])[H])[H]', Molecule with name 'DrugBank_6304' and SMILES '[H][C@](C(=O)N([H])C([H])([H])C([H])([H])C(=O)N([H])C([H])([H])C([H])([H])SC(=O)C([H])([H])C([H])([H])C([H])([H])C([H])([H])C([H])([H])[H])(C(C([H])([H])[H])(C([H])([H])[H])C([H])([H])O[P@](=O)([H])O[H])O[H]', Molecule with name 'DrugBank_6305' and SMILES '[H][C@](C(=O)N([H])C([H])([H])C([H])([H])C(=O)N([H])C([H])([H])C([H])([H])SC(=O)C([H])([H])C([H])([H])C([H])([H])C([H])([H])C([H])([H])C([H])([H])[H])(C(C([H])([H])[H])(C([H])([H])[H])C([H])([H])O[P@](=O)([H])O[H])O[H]', Molecule with name 'DrugBank_3930' and SMILES '[H]c1c(c(c(c(c1[H])C(=O)O[H])O[P@@](=O)([H])O[H])[H])[H]', Molecule with name 'DrugBank_6315' and SMILES '[H]c1c2c(c(c(c1OC([H])([H])[H])OS(=O)(=O)N([H])[H])[H])C(C([C@@]3([C@@]2(C(C([C@]4([C@]3(C(C([C@]4([H])OS(=O)(=O)N([H])[H])([H])[H])([H])[H])[H])C([H])([H])[H])([H])[H])([H])[H])[H])[H])([H])[H])([H])[H]', Molecule with name 'DrugBank_3937' and SMILES '[H][C@]12[C@]3([C@@]([C@](C(C3([H])[H])([H])[H])([H])[C@]([H])(C([H])([H])[H])C([H])([H])C([H])([H])C(=O)N([H])C([H])([H])C([H])([H])S(=O)(=O)O[H])([C@](C([C@@]1([C@@]4([C@@](C([C@@]2([H])O[H])([H])[H])(C([C@@](C(C4([H])[H])([H])[H])([H])O[H])([H])[H])[H])C([H])([H])[H])[H])([H])[H])([H])O[H])C([H])([H])[H])[H]', Molecule with name 'DrugBank_6316' and SMILES '[H]c1c(c(c(nc1[H])[H])C([H])([H])N2C(=O)[C@@]3([C@]([C@]4([C@@](c5c(c(c(c(c5C(C4([H])[H])([H])[H])[H])OS(=O)(=O)N([H])[H])[H])[H])(C(C3([H])[H])([H])[H])[H])[H])(C(C2=O)([H])[H])[H])C([H])([H])[H])[H]', Molecule with name 'DrugBank_3945' and SMILES '[H]C(=C([H])S(=O)(=O)O[H])[H]', Molecule with name 'DrugBank_6329' and SMILES '[H][C@](C(=O)C([H])([H])[P@](=O)([H])O[H])([C@]([H])(C([H])([H])C([H])([H])[H])O[H])C([H])([H])[H]', Molecule with name 'DrugBank_3954' and SMILES '[H][C@@](C(=O)O[H])(C([H])([H])SS(=O)(=O)O[H])N([H])[H]', Molecule with name 'DrugBank_1313' and SMILES '[H]C1=C(SC(=C1[H])C2(C(C(C(C(C2([H])[H])([H])[H])([H])[H])([H])[H])([H])[H])N3C(C(C(C(C3([H])[H])([H])[H])([H])[H])([H])[H])([H])[H])[H]', Molecule with name 'DrugBank_6331' and SMILES '[H]c1c(c(c(c(c1[H])[H])OS(=O)(=O)C(=C([H])[H])[H])[H])[H]', Molecule with name 'DrugBank_6342' and SMILES '[H]c1c(c(c(c(c1C([H])([H])C2=NN(c3c2c(c(nn3)[H])[H])[H])[H])Br)Oc4c(c(c(c(c4[H])C([H])([H])[H])[H])C#N)[H])[H]', Molecule with name 'DrugBank_6344' and SMILES '[H]c1c(c(c(c(c1C([H])([H])C2=NN(c3c2c(c(nn3)[H])[H])[H])F)Oc4c(c(c(c(c4[H])Cl)[H])C#N)[H])Br)[H]', Molecule with name 'DrugBank_6353' and SMILES '[H]c1c(c(c(c(c1[H])[H])C2=C(C(N(=O)(C2(C([H])([H])[H])C([H])([H])[H])[H])(C([H])([H])[H])C([H])([H])[H])C([H])([H])SSC([H])([H])[C@@]([H])(C(=O)O[H])N([H])[H])[H])[H]', Molecule with name 'DrugBank_6355' and SMILES '[H]c1c(c(c(c(c1C(=O)c2c(c(c(c(c2[H])[H])Br)[H])[H])[H])[H])OC([H])([H])/C(=C(\\[H])/C([H])([H])[N@@](C3(C(C3([H])[H])([H])[H])[H])C([H])([H])[H])/[H])[H]', Molecule with name 'DrugBank_1391' and SMILES '[H]C1=C(N(N=N1)C([H])([H])[C@]2([C@](N3C(=O)C([C@]3(S2(=O)=O)[H])([H])[H])([H])C(=O)O[H])C([H])([H])[H])[H]', Molecule with name 'DrugBank_4032' and SMILES '[H]c1c(c(c(c(c1[C@]([H])(C([H])([H])[H])N([H])C(=O)[C@@]2([C@](C2(Cl)Cl)([H])C([H])([H])[H])[S@@](=O)C([H])([H])[H])[H])[H])Br)[H]', Molecule with name 'DrugBank_4039' and SMILES '[H]c1c(c(c(c(c1C(C([H])([H])[H])(C([H])([H])[H])C([H])([H])[H])O[H])C(C([H])([H])[H])(C([H])([H])[H])C([H])([H])[H])[H])C(=C(P(=O)(OC([H])([H])C([H])([H])[H])OC([H])([H])C([H])([H])[H])P(=O)(OC([H])([H])C([H])([H])[H])OC([H])([H])C([H])([H])[H])[H]', Molecule with name 'DrugBank_6401' and SMILES '[H]c1c(c(c(c(c1[H])[H])C([H])([H])[N@@]([C@@]([H])(C(=O)N([H])O[H])C([H])([H])C([H])(C([H])([H])[H])C([H])([H])[H])[P@](=O)(c2c(c(c(c(c2[H])[H])[H])[H])[H])C([H])([H])[H])[H])[H]', Molecule with name 'DrugBank_4047' and SMILES '[H]c1c(c(c(c(c1[H])[H])N([H])c2c(c(c(c3c2c(c(c(c3[H])[H])[H])S(=O)(=O)O[H])[H])[H])[H])[H])[H]', Molecule with name 'DrugBank_4063' and SMILES '[H]C([H])([H])C([H])(C([H])([H])[H])OP(=O)([H])OC([H])(C([H])([H])[H])C([H])([H])[H]', Molecule with name 'DrugBank_4074' and SMILES '[H]c1c(c(c(c(c1[H])[H])C([H])([H])[C@@]([H])(C(=O)N([H])[C@]([H])(C([H])([H])C([H])([H])c2c(c(c(c(c2[H])[H])[H])[H])[H])C([H])([H])C([H])([H])S(=O)(=O)Oc3c(c(c(c(c3[H])[H])[H])[H])[H])N([H])C(=O)OC([H])([H])c4c(c(c(c(c4[H])[H])[H])[H])[H])[H])[H]', Molecule with name 'DrugBank_1439' and SMILES '[H]c1c(c(c(c(c1C(=O)N([H])c2c(c(nc(c2Cl)[H])[H])Cl)[H])OC([H])([H])C3(C(C3([H])[H])([H])[H])[H])OC([H])(F)F)[H]', Molecule with name 'DrugBank_1449' and SMILES '[H]C1(C(C(C(C(C1([H])OS(=O)(=O)O[H])([H])OS(=O)(=O)O[H])([H])OS(=O)(=O)O[H])([H])OS(=O)(=O)O[H])([H])OS(=O)(=O)O[H])OS(=O)(=O)O[H]', Molecule with name 'DrugBank_6442' and SMILES '[H]c1c(c(c(c(c1[H])[H])C([H])([H])OC(=O)N2[C@](C(c3c(c(c(c(c3C2([H])[H])[H])N([H])S(=O)(=O)O[H])[H])[H])([H])[H])([H])C(=O)N([H])C([H])([H])[H])[H])[H]', Molecule with name 'DrugBank_1465' and SMILES '[H][C@@](C([H])([H])O[H])(C([H])([H])SO[H])O[H]', Molecule with name 'DrugBank_1480' and SMILES '[H][C@@](C([H])([H])[H])(C([H])([H])Cl)Cl', Molecule with name 'DrugBank_6466' and SMILES '[H]c1c(c(c(c(c1C([H])([H])[C@@]2(C(=O)N=C(S2)S[H])[H])[H])[H])C(F)(F)F)[H]', Molecule with name 'DrugBank_4136' and SMILES '[H]C1(C(N1P(=S)(N2C(C2([H])[H])([H])[H])N3C(C3([H])[H])([H])[H])([H])[H])[H]', Molecule with name 'DrugBank_4138' and SMILES '[H]c1c(c(c(c2c1[C@@]3([C@]([C@]4([C@@](C(=O)C(C4([H])[H])([H])[H])(C(C3([H])[H])([H])[H])C([H])([H])[H])[H])(C(C2([H])[H])([H])[H])[H])[H])[H])OS(=O)(=O)O[H])[H]', Molecule with name 'DrugBank_4161' and SMILES '[H]c1c(c(c(c(c1C#N)[H])[H])N(C([H])([H])c2c(c(c(c(c2[H])Br)OS(=O)(=O)N([H])[H])[H])[H])N3C(=NN=C3[H])[H])[H]', Molecule with name 'DrugBank_4162' and SMILES '[H]c1c(c(c(c(c1C#N)[H])[H])N(C([H])([H])c2c(c(c(c(c2[H])[H])OS(=O)(=O)N([H])[H])[H])[H])N3C(=NN=C3[H])[H])[H]', Molecule with name 'DrugBank_6509' and SMILES '[H]c1c(c(c(c(c1[H])[H])[P@](=O)(O[H])O[C@@]2([C@]([C@]3(C(C([C@@](C2([H])[H])([N@@]3C([H])([H])[H])[H])([H])[H])([H])[H])[H])([H])C(=O)OC([H])([H])[H])[H])[H])[H]', Molecule with name 'DrugBank_6511' and SMILES '[H]c1c(c(nc(c1C([H])([H])N2/C(=N/C#N)/SC(C2([H])[H])([H])[H])[H])Cl)[H]', Molecule with name 'DrugBank_1538' and SMILES '[H]/C/1=C(\\[C@@]([C@@](OC(=O)[C@]2([C@](C(C(N2C(=O)C3=C(OC(=N3)C(C(=O)C([C@](/C(=C(/C(=C(/C(N(C1=O)[H])([H])[H])\\[H])/[H])\\C([H])([H])[H])/[H])([H])O[H])([H])[H])([H])[H])[H])([H])[H])([H])[H])([H])S(=O)(=O)C([H])([H])C([H])([H])N(C([H])([H])C([H])([H])[H])C([H])([H])C([H])([H])[H])[H])([H])C([H])(C([H])([H])[H])C([H])([H])[H])([H])C([H])([H])[H])/[H]', Molecule with name 'DrugBank_4188' and SMILES '[H][C@](C(=O)C1=C(C(=C(N(C1=O)[H])OC([H])([H])[H])OC([H])([H])[H])O[H])(C([H])([H])[H])C([H])([H])[C@@]([H])([C@]([H])(C([H])([H])Cl)Cl)C([H])([H])[H]', Molecule with name 'DrugBank_1564' and SMILES '[H][C@@]12C(=C([C@](O[C@@]1(N(C3=C(N2[H])C(=O)N=C(N3[H])N([H])[H])[H])[H])([H])C([H])([H])OP(=O)(O[H])O[H])S[H])S[H]', Molecule with name 'DrugBank_4193' and SMILES '[H]C([H])(C([H])([H])C([H])([H])C([H])([H])Br)C([H])([H])C([H])([H])O[H]', Molecule with name 'DrugBank_6533' and SMILES '[H]C(=O)[C@]([H])([C@@]1([C@@](C(C(N1C(=O)[C@]([H])(C([H])(C([H])([H])[H])C([H])([H])[H])N([H])C(=O)OC(C([H])([H])[H])(C([H])([H])[H])C([H])([H])[H])([H])[H])([H])[H])([H])N([H])S(=O)(=O)C([H])([H])[H])[H])C([H])([H])C([H])([H])[H]', Molecule with name 'DrugBank_4196' and SMILES '[H]c1c(c(c(c2c1c(c(c(c2[H])[H])S(=O)(=O)O[H])[H])[H])S(=O)(=O)O[H])[H]', Molecule with name 'DrugBank_1570' and SMILES '[H]c1c(c(c(c(c1N(=O)([H])O[H])[H])OS(=O)(=O)O[H])O[H])[H]', Molecule with name 'DrugBank_1586' and SMILES '[H][C@]1([C@@]([C@](O[C@]([C@@]1([H])O[H])([H])O[H])([H])C([H])([H])O[H])([H])O[H])OS(=O)(=O)O[H]', Molecule with name 'DrugBank_4215' and SMILES '[H]c1c(c(c(c(c1[H])[H])C([H])([H])/C(=N/OS(=O)(=O)O[H])/S[C@]2([C@]([C@@]([C@]([C@@](C2([H])[H])([H])C([H])([H])O[H])([H])O[H])([H])O[H])([H])O[H])[H])[H])[H]', Molecule with name 'DrugBank_4217' and SMILES '[H]/C(=C(/[H])\\C([H])([H])C([H])([H])C([H])([H])C([H])([H])C([H])([H])C([H])([H])C([H])([H])C([H])([H])C([H])([H])C([H])([H])C([H])([H])C([H])([H])C([H])([H])[H])/[C@]([H])([C@]([H])(C([H])([H])O[C@]1([C@]([C@@]([C@@]([C@@](O1)([H])C([H])([H])O[H])([H])O[H])([H])OS(=O)(=O)O[H])([H])O[H])[H])N([H])C(=O)C([H])([H])C([H])([H])C([H])([H])C([H])([H])C([H])([H])C([H])([H])C([H])([H])C([H])([H])C([H])([H])C([H])([H])C([H])([H])C([H])([H])C([H])([H])/C(=C(/[H])\\C([H])([H])C([H])([H])C([H])([H])C([H])([H])C([H])([H])C([H])([H])C([H])([H])C([H])([H])[H])/[H])O[H]', Molecule with name 'DrugBank_1598' and SMILES '[H]c1c(c(c(c(c1C([H])([H])[C@@]([H])(C(=O)N([H])[C@]2(c3c(c(c(c(c3C(C(C(C2([H])[H])([H])[H])([H])[H])([H])[H])[H])OC([H])([H])C4(C(C(C(C(C4([H])[H])([H])[H])([H])[H])([H])[H])([H])[H])[H])C(=O)N([H])[H])[H])[H])N([H])C(=O)C([H])([H])[H])[H])P(=O)(O[H])O[H])P(=O)(O[H])O[H])[H]', Molecule with name 'DrugBank_6567' and SMILES '[H]c1c(c(c(c(c1C([H])([H])C([H])([H])[H])[H])[H])N([H])S(=O)(=O)O[H])[H]', Molecule with name 'DrugBank_1608' and SMILES '[H]/C(=C(/[H])\\P(=O)(O[H])O[H])/[C@]([H])([C@]([H])([C@@]([H])(C([H])([H])C([H])([H])O[H])O[H])O[H])O[H]', Molecule with name 'DrugBank_6573' and SMILES '[H]C([H])([H])C([H])([H])C([H])([H])C([H])([H])C([H])([H])C([H])([H])C([H])([H])C([H])([H])C([H])([H])C([H])([H])OC(=O)S[H]', Molecule with name 'DrugBank_4247' and SMILES '[H]c1c(c(c2c(c1[H])C(=O)c3c(c(c(c(c3O2)[H])[H])S(=O)(=O)N=C4N(N=NN4[H])[H])[H])[H])[H]', Molecule with name 'DrugBank_4249' and SMILES '[H][C@@](C(=O)N([H])C([H])([H])C(=O)O[H])(C([H])([H])[S@@](=O)O[H])N([H])C(=O)C([H])([H])C([H])([H])[C@@]([H])(C(=O)O[H])N([H])[H]', Molecule with name 'DrugBank_1633' and SMILES '[H]c1c(c(c(c(c1[H])[H])[C@]([H])(C(=O)O[H])S(=O)(=O)O[H])[H])[H]', Molecule with name 'DrugBank_1634' and SMILES '[H][C@](C(=O)O[H])(C([H])([H])C([H])([H])C([H])([H])C([H])([H])C(=O)N([H])[C@]([H])(C([H])([H])[H])[P@](=O)([H])O[H])N([H])C(=O)C([H])([H])[N+]([H])([H])[H]', Molecule with name 'DrugBank_1637' and SMILES '[H][C@]1([C@@]([C@]([C@@](O[C@@]1([H])O[H])([H])C([H])([H])O[H])([H])OS(=O)(=O)O[H])([H])O[H])N([H])C(=O)C([H])([H])[H]', Molecule with name 'DrugBank_6601' and SMILES '[H]C([H])(C(=O)O[H])C([H])([H])C([H])([H])C([H])([H])C([H])([H])C([H])([H])C([H])([H])C([H])([H])C([H])([H])C([H])([H])OC(=O)S[H]', Molecule with name 'DrugBank_1642' and SMILES '[H]c1c(c(c2c(c(c(c(c2c1[H])[H])[H])S(=O)(=O)N([H])c3c(c(c(c(c3C(=O)N([C@@]([H])(C(=O)O[H])C([H])([H])C(=O)O[H])C([H])([H])[H])[H])OS(=O)(=O)c4c(c(c5c(c(c(c(c5c4[H])[H])[H])[H])[H])[H])[H])[H])[H])[H])[H])[H]', Molecule with name 'DrugBank_1659' and SMILES '[H]c1c(c(c(c(c1[H])[H])/C(=C(\\[H])/C2=NN(N(=N2)([H])c3c(c(c4c(c3[H])C(=O)N(N(C4=O)[H])[H])[H])[H])C5=Nc6c(c(c(c(c6S5)[H])[H])[H])[H])/[H])[H])[H]', Molecule with name 'DrugBank_1661' and SMILES '[H]C1=C(N(C(=N1([H])[H])[H])P(=O)(O[H])O[H])C([H])([H])[C@@]([H])(C(=O)O[H])N([H])[H]', Molecule with name 'DrugBank_1668' and SMILES '[H]c1c(c(c(c(c1[H])[H])c2c(c(c(c(c2[H])[H])C([H])([H])N3C(=O)[C@](C(C(C(C3([H])[H])([H])[H])([H])[H])([H])[H])([H])N([H])C(=O)[C@]([H])(C([H])([H])c4c(c(c(c(c4[H])P(=O)(O[H])O[H])OC([H])([H])C(=O)O[H])[H])[H])N([H])C(=O)C([H])([H])[H])[H])[H])[H])[H]', Molecule with name 'DrugBank_1674' and SMILES '[H][C@@](C(=O)O[H])(C([H])([H])SO[H])N([H])[H]', Molecule with name 'DrugBank_4301' and SMILES '[H]c1c(c(c(c(c1[H])C(=O)O[H])N([H])c2c(c(c(c(c2[H])Cl)OOO[H])Cl)[H])[H])[H]', Molecule with name 'DrugBank_6647' and SMILES '[H][C@](C(=O)C([H])([H])[P@@](=O)([H])O[H])([C@]([H])([C@@]([H])(C([H])([H])[H])C([H])([H])[C@@]([H])(C([H])([H])[H])C([H])([H])O[H])O[H])C([H])([H])[H]', Molecule with name 'DrugBank_1700' and SMILES '[H][C@]1([C@@]([C@](O[C@@]1([H])C([H])([H])OP(=O)(O[H])O[H])([H])N2C(=C([N+](C2([H])[H])([H])[H])C(=O)N([H])[H])O[H])([H])O[H])O[H]', Molecule with name 'DrugBank_4316' and SMILES '[H]c1c(c(c(c(c1[H])[H])C([H])([H])S(=O)(=O)N([H])[C@]([H])(C(=O)N2[C@](C(C(C2([H])[H])([H])[H])([H])[H])([H])C(=O)N([H])C([H])([H])C([H])([H])C([H])([H])C([H])([H])N=C(N([H])[H])N([H])[H])C([H])([H])C([H])(C([H])([H])[H])C([H])([H])[H])[H])[H]', Molecule with name 'DrugBank_4323' and SMILES '[H]c1c(c(c(c(c1[H])[H])C([H])([H])/C(=N/OS(=O)(=O)O[H])/SC([H])([H])C([H])([H])[H])[H])[H]', Molecule with name 'DrugBank_1710' and SMILES '[H]C([H])(C([H])([H])S(=O)(=O)O[H])N([H])[H]', Molecule with name 'DrugBank_4330' and SMILES '[H]c1c(c(c(c(c1[H])N([H])C(=O)N([H])c2c(c(c(c(c2[H])C(=O)N([H])c3c(c(c(c(c3C([H])([H])[H])[H])[H])C(=O)N([H])c4c(c(c(c5c4c(c(c(c5[H])S(=O)(=O)O[H])[H])S(=O)(=O)O[H])S(=O)(=O)O[H])[H])[H])[H])[H])[H])[H])[H])C(=O)N([H])c6c(c(c(c(c6C([H])([H])[H])[H])[H])C(=O)N([H])c7c(c(c(c8c7c(c(c(c8[H])S(=O)(=O)O[H])[H])S(=O)(=O)O[H])S(=O)(=O)O[H])[H])[H])[H])[H]', Molecule with name 'DrugBank_4344' and SMILES '[H]c1c(c(c(c(c1[H])[H])C2=NN(C(=C2[H])N([H])S(=O)(=O)O[H])C([H])([H])[H])[H])[H]', Molecule with name 'DrugBank_1721' and SMILES '[H]c1c(c(c2c(c1[H])C3=C(N2C([H])([H])C([H])([H])C([H])([H])N([H])S(=O)(=O)C([H])(C([H])([H])[H])C([H])([H])[H])[C@@]4(C(C(C(C([N@]4C(C3=O)([H])[H])([H])[H])([H])[H])([H])[H])([H])[H])[H])[H])[H]', Molecule with name 'DrugBank_1722' and SMILES '[H]/C(=C(/[H])\\S[H])/N([H])[H]', Molecule with name 'DrugBank_1727' and SMILES '[H]c1c(c(c(c(c1[H])[H])C([H])([H])S(=O)(=O)OC([H])([H])[C@@]([H])(C(=O)O[H])N([H])[H])[H])[H]', Molecule with name 'DrugBank_1728' and SMILES '[H]C1=C(ON([C@@]1([H])SC([H])([H])[C@@]([H])(C(=O)O[H])N([H])[H])[H])[C@]([H])(C(=O)O[H])N([H])[H]', Molecule with name 'DrugBank_1735' and SMILES '[H][C@]12[C@@]([C@](C(O1)([H])[H])(O[C@@]([C@]2([H])OS(=O)(=O)O[H])([H])O[H])[H])([H])O[H]', Molecule with name 'DrugBank_1744' and SMILES '[H]C1=C2[C@]([C@]3([C@@](C1([H])[H])([C@]4([C@@]([C@@](C(C4([H])[H])([H])[H])([H])[C@]([H])(C([H])([H])[H])C([H])([H])C([H])([H])C([H])([H])C([H])(C([H])([H])[H])C([H])([H])[H])(C(C3([H])[H])([H])[H])C([H])([H])[H])[H])[H])[H])(C(C([C@@](C2([H])[H])([H])OS(=O)(=O)O[H])([H])[H])([H])[H])C([H])([H])[H]', Molecule with name 'DrugBank_6711' and SMILES '[H][C@]12[C@@]([C@@]3([C@](C([C@]1([H])O[H])([H])[H])(C([C@](C(C3([H])[H])([H])[H])([H])O[H])([H])[H])[H])C([H])([H])[H])(C(C([C@]4([C@]2(C(C([C@]4([H])[C@]([H])(C([H])([H])[H])C([H])([H])C([H])([H])C(=O)N([H])C([H])([H])C([H])([H])S(=O)(=O)O[H])([H])[H])([H])[H])[H])C([H])([H])[H])([H])[H])([H])[H])[H]', Molecule with name 'DrugBank_6722' and SMILES '[H]c1c(c(c2c(c1[H])c(c(c(n2)C3(C(C3([H])[H])([H])[H])[H])/C(=C(\\[H])/[C@]([H])(C([H])([H])[C@]([H])(C([H])([H])C(=O)O[H])O[H])O[H])/[H])c4c(c(c(c(c4[H])[H])F)[H])[H])[H])[H]', Molecule with name 'DrugBank_6731' and SMILES '[H]c1c(c(c(c(c1N([H])C(=O)C2(C(C2([H])[H])([H])[H])C(=O)N([H])c3c(c(c(c(c3[H])[H])F)[H])[H])[H])[H])Oc4c(c(nc5c4c(c(c(c5[H])OC([H])([H])[H])OC([H])([H])[H])[H])[H])[H])[H]', Molecule with name 'DrugBank_1788' and SMILES '[H]C([H])([H])C([H])([H])C([H])([H])C([H])([H])C([H])([H])C([H])([H])C([H])([H])C([H])([H])C([H])([H])C([H])([H])C([H])([H])C([H])([H])C([H])([H])C([H])([H])C([H])([H])C([H])([H])S(=O)(=O)F', Molecule with name 'DrugBank_1791' and SMILES '[H]c1c(c(c(c(n1)C([H])([H])[H])O[H])C([H])([H])N([H])[C@]2(C(=O)N(OC2([H])[H])[H])[H])C([H])([H])OP(=O)(O[H])O[H]', Molecule with name 'DrugBank_4419' and SMILES '[H]c1c(c(c2c(c1[H])c(nnc2N([H])c3c(c(c(c(c3[H])[H])Cl)[H])[H])C([H])([H])c4c(c(nc(c4[H])[H])[H])[H])[H])[H]', Molecule with name 'DrugBank_1802' and SMILES '[H]c1c(c(c(c(c1[H])[H])C([H])([H])[C@]([H])(C(=O)N([H])[C@]([H])(C([H])([H])C([H])([H])c2c(c(c(c(c2[H])[H])[H])[H])[H])C([H])([H])C([H])([H])S(=O)(=O)Oc3c(c(c(c(c3[H])[H])N(=O)([H])O[H])[H])[H])N([H])C(=O)OC([H])([H])c4c(c(c(c(c4[H])[H])[H])[H])[H])[H])[H]', Molecule with name 'DrugBank_6775' and SMILES '[H]c1c(c(c2c(c1[H])C(=C([N@@](S2(=O)=O)C([H])([H])[H])C(=O)/N=C/3\\C(=C(ON3[H])C([H])([H])[H])[H])O[H])[H])[H]', Molecule with name 'DrugBank_6801' and SMILES '[H]C1=C([C@]2(C(=C(C1=O)[H])[C@@](C([C@@]3([C@@]2([C@@](C([C@]4([C@]3(C([C@@]5([C@]4(OC(O5)(C([H])([H])[H])C([H])([H])[H])C(=O)C([H])([H])O[H])[H])([H])[H])[H])C([H])([H])[H])([H])[H])([H])Cl)Cl)[H])([H])[H])([H])F)C([H])([H])[H])[H]', Molecule with name 'DrugBank_4468' and SMILES '[H]c1c(c(c(c(c1[H])[H])[C@]([H])(C(=O)O[H])/N=C(/[C@]([H])(C([H])([H])S(=O)(=O)C([H])([H])C([H])([H])OP(=O)(N(C([H])([H])C([H])([H])Cl)C([H])([H])C([H])([H])Cl)N(C([H])([H])C([H])([H])Cl)C([H])([H])C([H])([H])Cl)/N=C(/C([H])([H])C([H])([H])[C@@]([H])(C(=O)O[H])N([H])[H])\\O[H])\\O[H])[H])[H]', Molecule with name 'DrugBank_1864' and SMILES '[H]c1c(c(c(c(c1[H])[H])C([H])([H])N2C(=O)C(O[C@@](C2([H])[H])([H])c3c(c(c4c(c3[H])C(S(=O)(=O)[N@@]4C([H])([H])[H])([H])[H])[H])[H])([H])[H])[H])[H]', Molecule with name 'DrugBank_4492' and SMILES '[H][C@@]1(C(=O)[C@@]2([C@@](C1([H])[H])([C@]3([C@@]([C@@]4([C@](C([C@@](C(C4([H])[H])([H])[H])([H])O[H])([H])[H])(C(C3([H])[H])([H])[H])[H])C([H])([H])[H])(C(C2([H])[H])([H])[H])[H])[H])[H])C([H])([H])[H])Br', Molecule with name 'DrugBank_4515' and SMILES '[H]c1c2c(c(c(c1S(=O)(=O)O[H])C([H])(C([H])([H])[H])C([H])([H])[H])[H])C(C([C@@]3([C@@]2(C(C(C([C@]3(C(=O)O[H])C([H])([H])[H])([H])[H])([H])[H])([H])[H])C([H])([H])[H])[H])([H])[H])([H])[H]', Molecule with name 'DrugBank_6865' and SMILES '[H][C@]1(C(C([C@@]2(C(N1C(=O)N2OS(=O)(=O)O[H])([H])[H])[H])([H])[H])([H])[H])C(=O)N([H])[H]', Molecule with name 'DrugBank_6874' and SMILES '[H]c1c(c(c2c(c1[H])c(nnc2O[H])C([H])([H])c3c(c(c(c(c3[H])C(=O)N4C(C(N(C(C4([H])[H])([H])[H])C(=O)C5(C(C5([H])[H])([H])[H])[H])([H])[H])([H])[H])F)[H])[H])[H])[H]', Molecule with name 'DrugBank_6875' and SMILES '[H]c1c(c(nc(c1Cl)[H])N([H])C(=O)C(=O)N([H])[C@@]2([C@](C([C@@](C(C2([H])[H])([H])[H])([H])C(=O)N(C([H])([H])[H])C([H])([H])[H])([H])[H])([H])N([H])C(=O)C3=NC4=C(S3)C([N@@](C(C4([H])[H])([H])[H])C([H])([H])[H])([H])[H])[H])[H]', Molecule with name 'DrugBank_1897' and SMILES '[H][C@@](C(=O)O[H])(C([H])([H])[S@](=O)O[H])N([H])[H]', Molecule with name 'DrugBank_1900' and SMILES '[H]C([H])(C(=O)C(=O)O[H])S(=O)(=O)O[H]', Molecule with name 'DrugBank_1905' and SMILES '[H]c1nc2c(c(n1)N([H])[H])N=C(N2[C@]3([C@]([C@@]([C@](O3)([H])C([H])([H])OS(=O)(=O)N([H])C([H])([H])C([H])([H])[H])([H])O[H])([H])O[H])[H])[H]', Molecule with name 'DrugBank_4536' and SMILES '[H]c1c(c(c(c(c1OS(=O)(=O)c2c(c(c(c(c2[H])[H])Cl)[H])[H])[H])[H])Cl)[H]', Molecule with name 'DrugBank_4545' and SMILES '[H]c1c(c2c(c(c1C([H])([H])SC([H])([H])C([H])([H])[H])[H])-c3c4c(c-5c6c3N2[C@@]7(C([C@]([C@@](N6c8c5c(c(c(c8[H])[H])C([H])([H])SC([H])([H])C([H])([H])[H])[H])(O7)C([H])([H])[H])([H])C(=O)OOC([H])([H])[H])([H])[H])[H])C(N(C4=O)[H])([H])[H])[H]', Molecule with name 'DrugBank_1928' and SMILES '[H][C@]1([C@@]([C@@]([C@@](O[C@@]1([H])O[H])([H])C([H])([H])OS(=O)(=O)O[H])([H])O[H])([H])O[H])N([H])C(=O)C([H])([H])[H]', Molecule with name 'DrugBank_6928' and SMILES '[H]c1c(c(c(c(c1[H])[H])C([H])([H])[C@@]([H])(C(=O)N([H])[H])N([H])C(=O)[C@]([H])(C([H])([H])C(=O)O[H])N([H])C(=O)[C@]([H])(C([H])([H])C([H])([H])SC([H])([H])[H])N([H])C(=O)[C@]([H])(C([H])([H])C2=C(N(c3c2c(c(c(c3[H])[H])[H])[H])[H])[H])N([H])C(=O)C([H])([H])N([H])C(=O)[C@]([H])(C([H])([H])C([H])([H])SC([H])([H])[H])N([H])C(=O)[C@]([H])(C([H])([H])c4c(c(c(c(c4[H])[H])OS(=O)(=O)O[H])[H])[H])N([H])C(=O)[C@]([H])(C([H])([H])C(=O)O[H])N([H])[H])[H])[H]', Molecule with name 'DrugBank_1942' and SMILES '[H]c1c(c(c(c(c1[H])[H])C([H])([H])[C@@]([H])(C(=O)N([H])[C@]([H])(C([H])([H])C([H])([H])c2c(c(c(c(c2[H])[H])[H])[H])[H])C([H])([H])C([H])([H])S(=O)(=O)C([H])([H])c3c(c(c(c(c3[H])[H])[H])[H])[H])N([H])C(=O)OC([H])([H])c4c(c(c(c(c4[H])[H])[H])[H])[H])[H])[H]', Molecule with name 'DrugBank_4580' and SMILES '[H]c1c(c2c(c(c1[H])/N=C(/C([H])([H])[H])\\O[H])C(=O)N(C2=O)[C@@]([H])(c3c(c(c(c(c3[H])OC([H])([H])C([H])([H])[H])OC([H])([H])[H])[H])[H])C([H])([H])S(=O)(=O)C([H])([H])[H])[H]', Molecule with name 'DrugBank_4586' and SMILES 'C(C(C(C(C(F)(F)Br)(F)F)(F)F)(F)F)(C(C(C(F)(F)F)(F)F)(F)F)(F)F', Molecule with name 'DrugBank_4590' and SMILES '[H]C1=C2[C@@]([C@@]3([C@@](C1([H])[H])([C@]4([C@@](C(=O)C(C4([H])[H])([H])[H])(C(C3([H])[H])([H])[H])C([H])([H])[H])[H])[H])[H])(C(C([C@](C2([H])[H])([H])OS(=O)(=O)O[H])([H])[H])([H])[H])C([H])([H])[H]', Molecule with name 'DrugBank_4593' and SMILES '[H]C([H])([H])N([H])C(=O)N([N@](C([H])([H])C([H])([H])Cl)S(=O)(=O)C([H])([H])[H])S(=O)(=O)C([H])([H])[H]', Molecule with name 'DrugBank_1956' and SMILES '[H]C1(C(C(C(C(C1([H])[H])([H])[H])([H])N([H])C([H])([H])C([H])([H])C([H])([H])S(=O)(=O)O[H])([H])[H])([H])[H])[H]', Molecule with name 'DrugBank_1962' and SMILES '[H][C@@](C([H])([H])OC(=O)C([H])([H])C([H])([H])C([H])([H])C([H])([H])[H])(C([H])([H])O[P@@](=S)(OC([H])([H])C([H])([H])[N+](C([H])([H])[H])(C([H])([H])[H])C([H])([H])[H])S[H])OC(=O)C([H])([H])C([H])([H])C([H])([H])C([H])([H])[H]', Molecule with name 'DrugBank_1966' and SMILES '[H]C1=NC2=C(N(C(=N[C@]2(N1[C@]3([C@]([C@@]([C@](O3)([H])C([H])([H])OS(=O)(=O)N([H])C(=O)[C@@]([H])(C([H])([H])C([H])([H])SC([H])([H])[H])N([H])[H])([H])O[H])([H])O[H])[H])[H])[H])[H])N([H])[H]', Molecule with name 'DrugBank_1971' and SMILES '[H][C@@](C(=O)O[H])(C([H])([H])C([H])([H])[S@](=O)C([H])([H])[H])N([H])[H]', Molecule with name 'DrugBank_1982' and SMILES '[H][C@]1([C@@](C([C@@](N1[H])([H])S(=O)(=O)O[H])([H])[H])([H])C([H])([H])[H])C(=O)O[H]', Molecule with name 'DrugBank_1991' and SMILES '[H]C([H])([H])C(=O)N(C([H])([H])C([H])([H])OP(=O)(O[H])O[H])Br', Molecule with name 'DrugBank_1998' and SMILES '[H][C@@]1([C@]([C@@]([C@]([C@@](O1)([H])O[H])([H])OS(=O)(=O)O[H])([H])O[H])([H])O[H])C(=O)O[H]', Molecule with name 'DrugBank_7037' and SMILES '[H]c1c(c(nc(c1[H])C([H])(c2c(c(c(c(c2[H])[H])OS(=O)(=O)O[H])[H])[H])c3c(c(c(c(c3[H])[H])OS(=O)(=O)O[H])[H])[H])[H])[H]', Molecule with name 'DrugBank_2017' and SMILES '[H]c1c(c(c(c(c1[H])[H])N([H])C([H])([H])C([H])([H])S(=O)(=O)O[H])[H])[H]', Molecule with name 'DrugBank_4662' and SMILES '[H]C1=C(N(C(C(=C1C2=C(SC(=N2)SC3=C(N4C(=O)[C@@]([C@]4(SC3([H])[H])[H])([H])N([H])C(=O)/C(=N\\OC([H])([H])C([H])([H])[H])/C5=NSC(=N5)N([H])P(=O)(O[H])O[H])C(=O)O[H])[H])[H])([H])[H])C([H])([H])[H])[H]', Molecule with name 'DrugBank_7047' and SMILES '[H]c1c(c(c(c(c1[H])C(=O)O[H])[H])c2c(c(c(c(n2)N([H])C(=O)C3(C(C3([H])[H])([H])[H])c4c(c(c5c(c4[H])OC(O5)(F)F)[H])[H])[H])[H])C([H])([H])[H])[H]', Molecule with name 'DrugBank_2022' and SMILES '[H]c1c(c(c(c2c1C3=C(C(=O)O2)C(C(C(C(C3([H])[H])([H])[H])([H])[H])([H])[H])([H])[H])[H])OS(=O)(=O)N([H])[H])[H]', Molecule with name 'DrugBank_2033' and SMILES '[H][C@@]1(C(=O)N(C(=O)N(C1([H])[H])[H])[H])I', Molecule with name 'DrugBank_7079' and SMILES '[H][C@@]1(C(S(=O)(=O)[C@]2(N1C(=O)C2([H])[H])[H])(C([H])([H])[H])C([H])([H])[H])C(=O)O[H]', Molecule with name 'DrugBank_4702' and SMILES '[H]c1c(c(c(c(c1[C@]2([C@@](OC(C([N@@]2C([H])([H])C3=NC(=O)N(N3[H])P(=O)(O[H])O[H])([H])[H])([H])[H])([H])O[C@@]([H])(c4c(c(c(c(c4[H])C(F)(F)F)[H])C(F)(F)F)[H])C([H])([H])[H])[H])[H])[H])F)[H]', Molecule with name 'DrugBank_2048' and SMILES '[H][C@@]1([C@]([C@@](O[C@@]([C@]1([H])F)([H])F)([H])C([H])([H])O[H])([H])O[H])O[H]', Molecule with name 'DrugBank_2052' and SMILES '[H]C1=C(O[C@@]([C@]([C@]1([H])O[H])([H])OS(=O)(=O)O[H])([H])O[C@@]2([C@@]([C@]([C@@](O[C@@]2([H])C([H])([H])OS(=O)(=O)O[H])([H])O[H])([H])N([H])S(=O)(=O)O[H])([H])O[H])[H])C(=O)O[H]', Molecule with name 'DrugBank_7108' and SMILES '[H]c1c(c(c(c(c1[H])/C(=C\\2/[C@]3(C([C@@](C2=O)(C(C3([H])[H])([H])[H])C(S(=O)(=O)O[H])([H])[H])(C([H])([H])[H])C([H])([H])[H])[H])/[H])[H])[H])/C(=C\\4/[C@]5(C([C@@](C4=O)(C(C5([H])[H])([H])[H])C(S(=O)(=O)O[H])([H])[H])(C([H])([H])[H])C([H])([H])[H])[H])/[H]', Molecule with name 'DrugBank_2063' and SMILES '[H][C@@](C(=O)O[H])(C([H])([H])S(=O)(=O)O[H])O[H]', Molecule with name 'DrugBank_2065' and SMILES '[H]c1c(c(c(c(c1[H])[H])c2c(c(c(c(c2[H])[H])C([H])([H])N3C(=O)[C@](C(C(C(C3([H])[H])([H])[H])([H])[H])([H])[H])([H])N([H])C(=O)[C@]([H])(C([H])([H])c4c(c(c(c(c4[H])P(=O)(O[H])O[H])P(=O)(O[H])O[H])[H])[H])N([H])C(=O)C([H])([H])[H])[H])[H])[H])[H]', Molecule with name 'DrugBank_2070' and SMILES '[H]c1c(c(c(c(c1C(=O)N2C(C(OC(C2([H])[H])([H])[H])([H])[H])([H])[H])[H])[H])C(=O)N([H])[C@@]([H])(C(=O)N3[C@@](C(C(C3([H])[H])([H])[H])([H])[H])([H])C(=O)N([H])[C@@]([H])(C(=O)C(C(F)(F)F)(F)F)C([H])(C([H])([H])[H])C([H])([H])[H])C([H])(C([H])([H])[H])C([H])([H])[H])[H]', Molecule with name 'DrugBank_2077' and SMILES '[H]OP(=O)(O[H])F', Molecule with name 'DrugBank_7124' and SMILES '[H]c1c(c(c(c2c1nc3c(n2)O[C@@]4(C([C@@](N(C4([H])[H])C(=O)[C@](/N=C(\\O[C@]5([C@@](C5([H])[H])(C(C(C(C(C3([H])[H])([H])[H])([H])[H])([H])[H])([H])[H])[H])[H])/O[H])([H])C(C([H])([H])[H])(C([H])([H])[H])C([H])([H])[H])([H])/C(=N/[C@]6([C@](C6([H])[H])([H])C(=C([H])[H])[H])/C(=N/S(=O)(=O)C7(C(C7([H])[H])([H])[H])[H])/O[H])/O[H])([H])[H])[H])[H])OC([H])([H])[H])[H]', Molecule with name 'DrugBank_2082' and SMILES '[H]C1=C(O[C@@]([C@]([C@]1([H])O[H])([H])OS(=O)(=O)O[H])([H])O[C@@]2([C@@]([C@]([C@@](O[C@@]2([H])C([H])([H])O[H])([H])O[H])([H])N([H])S(=O)(=O)O[H])([H])O[H])[H])C(=O)O[H]', Molecule with name 'DrugBank_2095' and SMILES '[H]c1c(c(c(c(c1OC([H])([H])C([H])([H])C([H])([H])C([H])([H])[H])[H])[H])S(=O)(=O)[N@@]2[C@@](C([C@](C2([H])[H])([H])N([H])S(=O)(=O)C([H])([H])[H])([H])[H])([H])C(=O)N([H])O[H])[H]', Molecule with name 'DrugBank_2099' and SMILES '[H]C([H])(C([H])([H])S(=O)(=O)O[H])N([H])C(C([H])([H])O[H])(C([H])([H])O[H])C([H])([H])O[H]', Molecule with name 'DrugBank_4778' and SMILES '[H]c1c(c(c(c(c1[H])[H])C([H])([H])C([H])([H])S(=O)(=O)N([H])[C@@]([H])(C([H])(C([H])([H])[H])C([H])([H])[H])[P@](=O)(C([H])([H])[C@@]([H])(c2c(c(c(c(c2[H])C([H])([H])N([H])[H])[H])[H])[H])C(=O)O[H])O[H])[H])[H]', Molecule with name 'DrugBank_2131' and SMILES '[H]C([H])(C(=O)O[H])C([H])([H])C([H])([H])C([H])([H])C([H])([H])C([H])([H])C([H])([H])C([H])([H])C([H])([H])C([H])([H])C([H])([H])Br', Molecule with name 'DrugBank_2140' and SMILES '[H]C([H])([H])C([H])([H])C([H])([H])C([H])([H])C([H])([H])C([H])([H])C([H])([H])C([H])([H])[S@@](=O)C([H])([H])C([H])([H])O[H]', Molecule with name 'DrugBank_2141' and SMILES '[H]c1nc2c(c(n1)N([H])[H])[C@](N([N@]2[C@]3([C@]([C@@]([C@](O3)([H])C([H])([H])O[H])([H])O[H])([H])O[H])[H])[H])([H])I', Molecule with name 'DrugBank_2148' and SMILES '[H]O[P@@](=O)(OP(=O)(O[H])O[H])S[H]', Molecule with name 'DrugBank_2151' and SMILES '[H]C(=C1[C@]([C@]23[C@@]([C@@]4([C@@](C(C2([H])[H])([H])[H])(C(C([C@](C4([H])[H])([H])O[C@@]5([C@]([C@@]([C@@]([C@](O5)([H])C([H])([H])OO[H])([H])OS(=O)(=O)O[H])([H])OS(=O)(=O)O[H])([H])OC(=O)C([H])([H])C([H])(C([H])([H])[H])C([H])([H])[H])[H])([H])[H])(C(=O)O[H])C(=O)O[H])[H])C([H])([H])[H])(C(C([C@@]1(C3([H])[H])[H])([H])[H])([H])[H])[H])([H])O[H])[H]', Molecule with name 'DrugBank_4829' and SMILES '[H]c1c(c(c(c2c1C([C@@](N(C2([H])[H])C(=O)OC(C([H])([H])[H])(C([H])([H])[H])C([H])([H])[H])([H])C(=O)N([H])C([H])([H])[H])([H])[H])[H])N([H])S(=O)(=O)O[H])[H]', Molecule with name 'DrugBank_4835' and SMILES '[H]C([H])([H])C([H])([H])C([H])([H])C([H])([H])C([H])([H])C([H])([H])C([H])([H])C([H])([H])C([H])([H])C([H])([H])S(=O)(=O)O[H]', Molecule with name 'DrugBank_2178' and SMILES '[H]C([H])([H])C([H])([H])C([H])([H])C([H])([H])C([H])([H])C([H])([H])C([H])([H])C([H])([H])C([H])([H])C([H])([H])C([H])([H])[P@](=O)([H])OC([H])([H])C([H])([H])C([H])([H])C([H])([H])[H]', Molecule with name 'DrugBank_2186' and SMILES '[H]/C(=C(/[H])\\C([H])([H])/C(=C(\\[H])/C([H])([H])C([H])([H])C([H])([H])C([H])([H])C([H])([H])[H])/[H])/C([H])([H])/C(=C(\\[H])/C([H])([H])/C(=C(\\[H])/C([H])([H])C([H])([H])C([H])([H])C([H])([H])[P@@](=O)(OC([H])([H])[H])F)/[H])/[H]', Molecule with name 'DrugBank_2210' and SMILES '[H][C@@]1([C@](C([N@]([C@]1([H])C([H])([H])O[H])C([H])([H])[C@@]([H])([C@]([H])(C([H])([H])O[H])OS(O[H])(O[H])O[H])O[H])([H])[H])([H])O[H])O[H]', Molecule with name 'DrugBank_2228' and SMILES '[H]c1nc2c(c(n1)N([H])[H])N=C(N2[C@]3([C@]([C@@]([C@](O3)([H])C([H])([H])OS(=O)(=O)N([H])C(=O)[C@@]4(C(C(C(N4[H])([H])[H])([H])[H])([H])[H])[H])([H])O[H])([H])O[H])[H])[H]', Molecule with name 'DrugBank_4895' and SMILES '[H]c1c(c(c(c2c1C(=C(S2(=O)=O)C([H])([H])C3(C(C(C(C(C(C3([H])[H])([H])[H])([H])[H])([H])[H])([H])[H])([H])[H])[H])[H])[H])OS(=O)(=O)N([H])[H])[H]', Molecule with name 'DrugBank_2237' and SMILES '[H]c1c(c(c2c(c1[H])C(=O)/C(=C/3\\c4c(c(c(c(c4N(C3=O)[H])[H])[H])S(=O)(=O)O[H])[H])/N2[H])[H])[H]', Molecule with name 'DrugBank_2238' and SMILES '[H]C([H])([H])C([H])([H])N(C(=S)S[H])C([H])([H])C([H])([H])[H]', Molecule with name 'DrugBank_4929' and SMILES '[H]c1c(c(c(c(c1[H])[H])C([H])([H])C(C(=O)OC([H])([H])[H])(C(=O)OC([H])([H])[H])C([H])([H])c2c(c(c(c(c2[H])[H])N([H])S(=O)(=O)O[H])[H])[H])[H])[H]', Molecule with name 'DrugBank_4933' and SMILES '[H]c1c(c(c(c(c1[C@@]2(N([C@@](ON2[H])([H])[C@]([H])([C@@]([H])(C(=O)N3C([C@@](C(C3([H])[H])([H])[H])([H])F)([H])[H])N([H])[H])C([H])([H])C4(C(C4([H])[H])([H])[H])[H])[H])[H])F)[H])S(=O)(=O)C([H])([H])[H])[H]', Molecule with name 'DrugBank_2309' and SMILES '[H][C@@]1(C([C@]([C@]([N+]1([H])[H])([H])C([H])([H])O[H])([H])O[C@]2([C@@]([C@]([C@@]([C@@](O2)([H])C([H])([H])O[H])([H])OS(=O)(=O)O[H])([H])O[H])([H])N([H])C(=O)C([H])([H])[H])[H])([H])[H])C(=O)N([H])C([H])([H])C([H])([H])S(=O)(=O)O[H]', Molecule with name 'DrugBank_4959' and SMILES '[H]c1c(c2c(c(c1[H])C(C([C@@](C(C(c3c(c(c(c(n3)[N@](C([H])([H])[H])S(=O)(=O)C([H])([H])[H])[H])C(OC(=O)[C@](C2([H])[H])(C([H])([H])[H])N([H])[H])([H])[H])[H])([H])[H])([H])[H])([H])C([H])([H])[H])([H])[H])([H])[H])[H])[H]', Molecule with name 'DrugBank_4964' and SMILES '[H]c1c(c(c(c(c1C2=C(C(=O)c3c(c(c(c(c3O2)[N@@]4C(C(C(S4(=O)=O)([H])[H])([H])[H])([H])[H])[H])C([H])([H])[H])[H])O[H])[H])O[H])O[H])[H]', Molecule with name 'DrugBank_2331' and SMILES '[H]C([H])(C([H])([H])C([H])([H])C([H])([H])C([H])([H])C([H])([H])C([H])([H])Br)C([H])([H])C([H])([H])C([H])([H])C([H])([H])C([H])([H])O[H]', Molecule with name 'DrugBank_2345' and SMILES '[H]c1c(c(c2c(c1[H])C(=O)c3c(c(c(c(c3N([H])c4c(c(c(c(c4[H])S(=O)(=O)O[H])N([H])c5nc(nc(n5)Cl)N([H])c6c(c(c(c(c6S(=O)(=O)O[H])[H])[H])[H])[H])[H])[H])[H])S(=O)(=O)O[H])N([H])[H])C2=O)[H])[H]', Molecule with name 'DrugBank_2354' and SMILES '[H]C([H])([H])C([H])([H])C([H])([H])C([H])([H])C([H])([H])C([H])([H])C([H])([H])C([H])([H])C([H])([H])C([H])([H])C([H])([H])C([H])([H])[N+](C([H])([H])[H])(C([H])([H])[H])C([H])([H])C([H])([H])C([H])([H])S(=O)(=O)O[H]', Molecule with name 'DrugBank_5005' and SMILES '[H]c1c(c(c(c(c1[H])Cl)Cl)C2=NC3=C(C(=NN3C(=C2[H])N([H])C([H])([H])c4c(c(nc(c4[H])[H])[H])[H])[H])SC#N)[H]', Molecule with name 'DrugBank_5008' and SMILES '[H]c1c(c(c(c(c1C([H])([H])C(C(=O)OC([H])([H])C([H])([H])[H])(C(=O)OC([H])([H])C([H])([H])[H])C([H])([H])C([H])([H])N([H])C(=O)OC(C([H])([H])[H])(C([H])([H])[H])C([H])([H])[H])[H])[H])N([H])S(=O)(=O)O[H])[H]', Molecule with name 'DrugBank_2393' and SMILES '[H]c1nc2c(c(n1)N([H])[H])N=C(N2[C@]3([C@]([C@@]([C@](O3)([H])C([H])([H])OS(=O)(=O)N([H])C(=O)[C@@]([H])(C([H])([H])S[H])N([H])[H])([H])O[H])([H])O[H])[H])[H]', Molecule with name 'DrugBank_5034' and SMILES '[H]C1=C(SC(=C1[H])C2=C(C(=C(S2)C([H])([H])N([H])[H])[H])[H])[H]', Molecule with name 'DrugBank_2397' and SMILES '[H][C@@](C(=O)O[H])(C([H])([H])SC([H])([H])C([H])([H])S(N([H])[H])(O[H])O[H])N([H])[H]', Molecule with name 'DrugBank_5043' and SMILES '[H]c1c(c(c(c(c1C([H])([H])[H])[H])[H])OC([H])([H])C([H])([H])[P@@](=O)([H])O[H])[H]', Molecule with name 'DrugBank_2429' and SMILES '[H]c1c(c(c(c(c1[H])[H])C([H])([H])S(=O)(=O)[N@]2C(C(=O)N3[C@](C(C([C@]3(C2([H])[H])[H])([H])[H])([H])[H])([H])C(=O)N([H])C([H])([H])C4(C(C(N(C(C4([H])[H])([H])[H])/C(=N/O[H])/N([H])[H])([H])[H])([H])[H])[H])([H])[H])[H])[H]', Molecule with name 'DrugBank_5067' and SMILES '[H]c1c(c(c(c(c1[H])[H])C([H])([H])C(C2=NOC(=N2)C([H])([H])[H])(C3=NOC(=N3)C([H])([H])[H])C([H])([H])c4c(c(c(c(c4[H])[H])N([H])S(=O)(=O)O[H])[H])[H])[H])[H]', Molecule with name 'DrugBank_2440' and SMILES '[H][C@](C(=O)O[H])(C(=O)OS(=O)(=O)O[H])N([H])[H]', Molecule with name 'DrugBank_5076' and SMILES '[H]c1c(c(c(c(c1[H])[H])C([H])([H])C([H])([H])C([H])([H])S(=O)(=O)N([H])[C@@]([H])(C([H])(C([H])([H])[H])C([H])([H])[H])[P@@](=O)(C([H])([H])[C@@]([H])(c2c(c(c(c(c2[H])C([H])([H])N([H])[H])[H])[H])[H])C(=O)O[H])O[H])[H])[H]', Molecule with name 'DrugBank_2465' and SMILES '[H]c1c(c(c(c(c1N(=O)([H])O[H])C(=O)O[H])[H])S[H])[H]', Molecule with name 'DrugBank_2474' and SMILES '[H]C([H])([H])C([H])([H])C([H])([H])C([H])([H])C([H])([H])C([H])([H])C([H])([H])C([H])([H])C([H])([H])C([H])([H])C([H])([H])C([H])([H])C([H])([H])C([H])([H])C([H])([H])C([H])([H])S(=O)(=O)O[H]', Molecule with name 'DrugBank_5115' and SMILES '[H]c1c(c2c(c(c(c(c2S(=O)(=O)O[H])[H])[H])[H])c(c1[H])N([H])[H])[H]', Molecule with name 'DrugBank_2506' and SMILES '[H]C([H])([H])C([H])([H])OP(=O)([H])OC([H])([H])C([H])([H])[H]', Molecule with name 'DrugBank_2519' and SMILES '[H]C([H])([H])[P@](=O)([H])O[H]', Molecule with name 'DrugBank_2530' and SMILES '[H][C@]1([C@@]([C@](O[C@]([C@@]1([H])O[H])([H])O[H])([H])C([H])([H])O[H])([H])OS(=O)(=O)O[H])O[H]', Molecule with name 'DrugBank_5154' and SMILES '[H]c1c(c2c(nc1[H])[C@@](c3c(c(c(c(c3C(=C2[H])N4C(C(N(C(C4([H])[H])([H])[H])[H])([H])[H])([H])[H])[H])Cl)[H])[H])([H])C5(C(C(N(C(C5([H])[H])([H])[H])S(=O)(=O)C([H])([H])[H])([H])[H])([H])[H])[H])[H]', Molecule with name 'DrugBank_2538' and SMILES '[H]C([H])([H])[P@@](=O)([H])O[H]', Molecule with name 'DrugBank_5158' and SMILES '[H]c1c(c(c(c(c1C([H])([H])C(=O)N([H])C2=NN(c3c2c(c(c(c3[H])[H])[N@@]4C(C(C(S4(=O)=O)([H])[H])([H])[H])([H])[H])[H])[H])[H])[H])N5C(C(C(C(C5([H])[H])([H])[H])([H])[H])([H])[H])([H])[H])[H]', Molecule with name 'DrugBank_2542' and SMILES '[H]c1c(c(c(c(n1)C([H])([H])[H])O[H])C([H])([H])N([H])C2(C(C2([H])[H])([H])[H])C(=O)O[H])C([H])([H])OP(=O)(O[H])O[H]', Molecule with name 'DrugBank_2543' and SMILES '[H]c1c(c(c(c(c1c2c(c(c(c(c2S(C([H])([H])[H])(O[H])O[H])[H])[H])C(=O)C3=C(N(N=C3[H])C(C([H])([H])[H])(C([H])([H])[H])C([H])([H])[H])O[H])C([H])([H])[H])[H])[H])OC([H])([H])[H])[H]', Molecule with name 'DrugBank_5176' and SMILES '[H]c1c(c(c(c(c1C2=C(c3c(c(c(c(c3O2)[H])[N@@](C([H])([H])C([H])([H])O[H])S(=O)(=O)C([H])([H])[H])C4(C(C4([H])[H])([H])[H])[H])[H])C(=O)N([H])C([H])([H])[H])[H])[H])F)[H]', Molecule with name 'DrugBank_2563' and SMILES '[H][C@@]1(C(C([S@@](=O)C1([H])[H])([H])[H])([H])[H])C([H])([H])C([H])([H])C([H])([H])C([H])([H])[H]', Molecule with name 'DrugBank_2570' and SMILES '[H][C@@]1([C@@]([C@](O[C@]([C@@]1([H])OS(=O)(=O)O[H])([H])O[H])([H])C([H])([H])O[H])([H])O[H])OS(=O)(=O)O[H]', Molecule with name 'DrugBank_2584' and SMILES '[H][C@@]12[C@]3([C@@](OC([C@@]1(OS(=O)(=O)O2)[H])([H])[H])(OC(O3)(C([H])([H])[H])C([H])([H])[H])C([H])([H])OS(=O)(=O)N([H])[H])[H]', Molecule with name 'DrugBank_2585' and SMILES '[H]C(=C([H])C([H])([H])[S@@](=O)C([H])([H])/C(=C(\\[H])/S[H])/[H])[H]', Molecule with name 'DrugBank_2592' and SMILES '[H]c1nc2c(c(n1)N([H])[H])N=C(N2[C@]3([C@]([C@@]([C@](O3)([H])C([H])([H])O[P@@](=O)(O[H])OS(=O)(=O)O[H])([H])OP(=O)(O[H])O[H])([H])O[H])[H])[H]', Molecule with name 'DrugBank_5213' and SMILES '[H]c1c(c(c2c(c1[H])C(=C(C(=O)N2C([H])([H])C([H])([H])C([H])(C([H])([H])[H])C([H])([H])[H])C3=NS(=O)(=O)c4c(c(c(c(c4N3[H])[H])[H])[H])[H])O[H])[H])[H]', Molecule with name 'DrugBank_5215' and SMILES '[H]C1=C(SC(=C1[H])Cl)C([H])([H])C([H])([H])S(=O)(=O)N([H])[C@@]2(C(=O)N(C(C2([H])[H])([H])[H])[C@]([H])(C(=O)N3C(C(OC(C3([H])[H])([H])[H])([H])[H])([H])[H])C([H])([H])[H])[H]', Molecule with name 'DrugBank_2605' and SMILES '[H]c1nc2c(c(n1)N([H])[H])N=C(N2[C@]3([C@]([C@@]([C@](O3)([H])C([H])([H])OS(=O)(=O)N([H])[H])([H])O[H])([H])O[H])[H])[H]', Molecule with name 'DrugBank_2607' and SMILES '[H]c1c(c(c(c(c1C2=NN(C(=O)C(=C2[H])[H])[H])[H])OC([H])([H])[H])OC([H])(F)F)[H]', Molecule with name 'DrugBank_5237' and SMILES '[H]C1=C(SC(=N1)C(=O)[C@]([H])(C([H])([H])C([H])([H])C([H])([H])N([H])C([H])(N([H])[H])N([H])[H])N([H])C(=O)[C@]([H])(C([H])(C([H])([H])[H])C([H])([H])[H])N([H])C(=O)C([H])([H])C([H])([H])C([H])(C([H])([H])[H])C([H])([H])[H])[H]', Molecule with name 'DrugBank_2642' and SMILES '[H]SSSSS[H]', Molecule with name 'DrugBank_2651' and SMILES '[H][C@@](C(=O)O[H])(C([H])([H])C([H])([H])C([H])([H])N([H])[P@@](=O)(N([H])[H])N([H])S(=O)(=O)O[H])N([H])[H]', Molecule with name 'DrugBank_2671' and SMILES '[H]C1=C(SC(=C1[H])C([H])([H])N([H])S(=O)(=O)C2=C(C(=C(S2)S(=O)(=O)N([H])[H])[H])[H])[H]', Molecule with name 'DrugBank_2686' and SMILES '[H][C@](C(=O)N([H])C([H])([H])C(=O)O[H])(C([H])([H])S(=O)(=O)O[H])N([H])C(=O)C([H])([H])C([H])([H])[C@@]([H])(C(=O)O[H])N([H])[H]', Molecule with name 'DrugBank_2687' and SMILES '[H][C@@]1(C(=O)N([C@]1([H])S[H])[C@]([H])(C(=O)O[H])C([H])([H])[S@@](=O)C([H])([H])[H])N([H])C(=O)C([H])([H])C([H])([H])C([H])([H])[C@@]([H])(C(=O)O[H])N([H])[H]', Molecule with name 'DrugBank_5285' and SMILES '[H]c1c(c(c(c(c1C([H])([H])C([H])([H])N([H])[H])[H])[H])S(=O)(=O)F)[H]', Molecule with name 'DrugBank_5313' and SMILES '[H]c1c(c2c(c(c(c(c2S(=O)(=O)O[H])[H])[H])[H])c(c1[H])N(C([H])([H])[H])C([H])([H])[H])[H]', Molecule with name 'DrugBank_2728' and SMILES '[H]C(Br)(Br)Br', Molecule with name 'DrugBank_5323' and SMILES '[H]C([H])([H])C([H])([H])C([H])([H])C([H])([H])S(=O)(=O)C([H])([H])C([H])([H])C(=O)O[H]', Molecule with name 'DrugBank_5326' and SMILES '[H]c1c(c(c(c(c1[H])[H])C([H])([H])[C@@]([H])(C(=O)N([H])C([H])([H])[H])N([H])C(=O)N([H])C2=NN=C(S2)S[H])[H])[H]', Molecule with name 'DrugBank_5329' and SMILES '[H]c1c(c(c(c(c1[H])[H])P2C(=C3C(=C2c4c(c(c(c(n4)[H])[H])[H])[H])C(C(C(C3([H])[H])([H])[H])([H])[H])([H])[H])c5c(c(c(c(n5)[H])[H])[H])[H])[H])[H]']}, 'MolecularWeightFilter': {'component_description': 'Molecules are filtered based on the allowed molecular weights.', 'component_fail_message': 'Molecule weight was not in the specified region.', 'molecules': [Molecule with name 'DrugBank_152' and SMILES '[H][C@@]1(C(=O)N(OC1([H])[H])[H])N([H])[H]', Molecule with name 'DrugBank_3046' and SMILES '[H]C#N([H])C([H])([H])C([H])([H])[H]', Molecule with name 'DrugBank_423' and SMILES '[H]N=C(N([H])[H])N([H])[H]', Molecule with name 'DrugBank_3655' and SMILES '[H]C#N([H])C([H])([H])C([H])([H])C([H])([H])[H]', Molecule with name 'DrugBank_1192' and SMILES '[H][C@@]1(C(=O)[C@@]2(C([C@]([C@]([C@@]([C@]([C@@](C(=O)O[C@]([C@]([C@]1([H])OC(=O)C([H])([H])[H])([H])C([H])([H])[H])([H])C([H])([H])[H])([H])C([H])([H])[H])([H])O[C@]3(C([C@]([C@@]([C@](O3)([H])C([H])([H])[H])([H])OC(=O)C([H])([H])[H])([H])OC([H])([H])[H])([H])[H])[H])([H])C([H])([H])[H])([H])O[C@]4([C@]([C@@](C([C@@](O4)([H])C([H])([H])[H])([H])[H])([H])N(C([H])([H])[H])C([H])([H])[H])([H])OC(=O)C([H])([H])[H])[H])([H])C([H])([H])[H])([H])[H])C(O2)([H])[H])C([H])([H])[H]', Molecule with name 'DrugBank_1594' and SMILES '[H]C#N([H])C([H])([H])C([H])([H])C([H])([H])C([H])([H])[H]', Molecule with name 'DrugBank_6947' and SMILES '[H]C#N([H])C([H])([H])C(C([H])([H])[H])(C([H])([H])[H])OC([H])([H])[H]', Molecule with name 'DrugBank_4670' and SMILES '[H]C1=C(N(C(=C(C1=N[H])[H])[H])[H])[H]']}, 'StandardConformerGenerator': {'component_description': 'Generate conformations for the given molecules', 'component_fail_message': 'Conformers could not be generated', 'molecules': [Molecule with name 'DrugBank_4346' and SMILES '[H]/C/1=C(/N=C(\\C(=C/2\\C(=C(/C(=O/C3=N/C(=C(\\C4=C(C(=C1N4[H])C([H])([H])C([H])([H])C(=O)O[H])C([H])([H])[H])/[H])/C(=C3C([H])([H])[H])C(=C([H])[H])[H])/N2[H])C(=C([H])[H])[H])C([H])([H])[H])\\[H])/C(=C([H])[H])C([H])([H])[H])\\[H]', Molecule with name 'DrugBank_7049' and SMILES '[H]C1=C(ON=N1([H])N2C(C(OC(C2([H])[H])([H])[H])([H])[H])([H])[H])N([H])C(=O)OC([H])([H])C([H])([H])[H]']}}\n"
     ]
    }
   ],
   "source": [
    "# create the dataset ready for submission\n",
    "dataset = factory2.create_dataset('my_dataset', mols)"
   ]
  },
  {
   "cell_type": "code",
   "execution_count": null,
   "metadata": {},
   "outputs": [],
   "source": []
  }
 ],
 "metadata": {
  "kernelspec": {
   "display_name": "Python 3",
   "language": "python",
   "name": "python3"
  },
  "language_info": {
   "codemirror_mode": {
    "name": "ipython",
    "version": 3
   },
   "file_extension": ".py",
   "mimetype": "text/x-python",
   "name": "python",
   "nbconvert_exporter": "python",
   "pygments_lexer": "ipython3",
   "version": "3.6.10"
  },
  "pycharm": {
   "stem_cell": {
    "cell_type": "raw",
    "metadata": {
     "collapsed": false
    },
    "source": []
   }
  }
 },
 "nbformat": 4,
 "nbformat_minor": 1
}
