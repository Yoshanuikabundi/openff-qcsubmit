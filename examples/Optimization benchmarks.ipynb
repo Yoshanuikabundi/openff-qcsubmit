{
 "cells": [
  {
   "cell_type": "markdown",
   "metadata": {},
   "source": [
    "Here we are prototyping the collection of the optimization dataset before filtering out molecules with connectivity changes and internal hydrogen bonds in the optimized molecule.\n",
    "\n",
    "Then we prepare the molecules in a new dataset which will have optimizations ran from the optimized geometry using one of the MM forcefields."
   ]
  },
  {
   "cell_type": "code",
   "execution_count": 1,
   "metadata": {},
   "outputs": [],
   "source": [
    "import qcportal as ptl\n",
    "import numpy as np\n",
    "from openforcefield.topology import Molecule\n",
    "from qcsubmit.results import OptimizationCollectionResult\n",
    "from qcsubmit.datasets import OptimizationDataset\n",
    "\n",
    "client = ptl.FractalClient()\n"
   ]
  },
  {
   "cell_type": "code",
   "execution_count": 2,
   "metadata": {},
   "outputs": [],
   "source": [
    "# # MM parameter fails\n",
    "# ['[o-]s(=o)(=s)[o-]-0', 'c(=o)(o)[o-]-0']\n",
    "\n",
    "# record = opt_ds.get_record('c(=o)(o)[o-]-0', 'default')"
   ]
  },
  {
   "cell_type": "code",
   "execution_count": 3,
   "metadata": {},
   "outputs": [],
   "source": [
    "# record.get_final_molecule()"
   ]
  },
  {
   "cell_type": "code",
   "execution_count": 4,
   "metadata": {},
   "outputs": [],
   "source": [
    "# pull the dataset and select the first 1000 records to pull down\n",
    "opt_ds = client.get_collection('OptimizationDataset', 'OpenFF Full Optimization Benchmark 1')\n"
   ]
  },
  {
   "cell_type": "code",
   "execution_count": 5,
   "metadata": {},
   "outputs": [],
   "source": [
    "# make a sub set of data\n",
    "subset = list(opt_ds.data.records.keys())[:1000]\n"
   ]
  },
  {
   "cell_type": "code",
   "execution_count": 6,
   "metadata": {},
   "outputs": [
    {
     "name": "stdout",
     "output_type": "stream",
     "text": [
      "requested molecules 930\n",
      "requested results 930\n",
      "CPU times: user 5.08 s, sys: 889 ms, total: 5.97 s\n",
      "Wall time: 1min 40s\n"
     ]
    }
   ],
   "source": [
    "%time result = OptimizationCollectionResult.from_server(client=client, spec_name='default', dataset_name='OpenFF Full Optimization Benchmark 1', include_trajectory=False, final_molecule_only=True,subset=subset)\n",
    "# note only 84 records are requested meaning 16 of the first 100 have errors or are incomplete\n",
    "#result = OptimizationCollectionResult.from_server(client, 'default', 'OpenFF Full Optimization Benchmark 1')\n",
    "#result = OptimizationCollectionResult.from_server(client, 'default', 'OpenFF Gen 2 Opt Set 2 Coverage')"
   ]
  },
  {
   "cell_type": "code",
   "execution_count": 7,
   "metadata": {},
   "outputs": [],
   "source": [
    "# loop over the molecules and flag conectivity changes\n",
    "differences = {}\n",
    "for index, record in result.collection.items():\n",
    "    wbo_changes = record.detect_connectivity_changes_wbo(0.65)\n",
    "    rule_changes = record.detect_connectivity_changes_heuristic()\n",
    "    assert len(wbo_changes) == len(rule_changes)\n",
    "    rec_dif = {}\n",
    "    for key in wbo_changes.keys():\n",
    "        if wbo_changes[key] != rule_changes[key]:\n",
    "            rec_dif[key] = True\n",
    "            \n",
    "    differences[index] = rec_dif"
   ]
  },
  {
   "cell_type": "code",
   "execution_count": 8,
   "metadata": {},
   "outputs": [
    {
     "data": {
      "text/plain": [
       "{'C[NH2+]C[C@@H](c1ccc(c(c1)O)O)O': {},\n",
       " 'CO/N=C/1\\\\C[N@](C[C@H]1C[NH3+])c2c(cc3c(=O)c(cn(c3n2)C4CC4)C(=O)[O-])F': {},\n",
       " 'c1cc(ccc1[C@H]2C[NH2+]CCc3c2cc(c(c3Cl)O)O)O': {},\n",
       " 'c1cc(ccc1[C@H]2C[NH2+]CCc3c2cc(c(c3Cl)[O-])O)O': {},\n",
       " 'c1c(cc(c(c1S(=O)(=O)N)Cl)Cl)S(=O)(=O)N': {},\n",
       " 'C[NH+](C)CCC=C1c2ccccc2C=Cc3c1cccc3': {},\n",
       " 'C[N@@H+]1CC[C@]23c4c5ccc(c4O[C@H]2C(=O)CC[C@]3([C@H]1C5)O)OC': {},\n",
       " 'C[N@H+]1CC[C@]23c4c5ccc(c4O[C@H]2C(=O)CC[C@]3([C@H]1C5)O)OC': {},\n",
       " 'C[N@]1CC[C@]23c4c5ccc(c4O[C@H]2C(=O)CC[C@]3([C@H]1C5)O)OC': {},\n",
       " 'c1cc(cnc1)C(=O)N': {},\n",
       " 'COc1ccccc1OC[C@H](CO)O': {},\n",
       " 'C[C@](Cc1ccc(cc1)O)(C(=O)[O-])[NH3+]': {},\n",
       " 'c1ccc(cc1)c2c(oc(n2)CCC(=O)[O-])c3ccccc3': {},\n",
       " 'C(C[C@@](C(F)F)(C(=O)[O-])N)C[NH3+]': {},\n",
       " 'C(C[C@@](C(F)F)(C(=O)[O-])[NH3+])C[NH3+]': {},\n",
       " 'CC(C)C[C@H]1C(=O)N2CCC[C@H]2[C@]3(N1C(=O)[C@](O3)(C(C)C)NC(=O)[C@H]4C[N@]([C@@H]5Cc6c7c(cccc7[nH]c6Br)C5=C4)C)O': {},\n",
       " 'CC(C)C[C@H]1C(=O)N2CCC[C@H]2[C@]3(N1C(=O)[C@](O3)(C(C)C)NC(=O)[C@H]4C[N@H+]([C@@H]5Cc6c7c(cccc7[nH]c6Br)C5=C4)C)O': {},\n",
       " 'CC(C)C[C@H]1C(=O)N2CCC[C@H]2[C@]3(N1C(=O)[C@](O3)(C(C)C)NC(=O)[C@H]4C[N@@H+]([C@@H]5Cc6c7c(cccc7[nH]c6Br)C5=C4)C)O': {},\n",
       " 'COC(=O)[C@H](c1ccccc1Cl)[N@@]2CCc3c(ccs3)C2': {},\n",
       " 'CC[C@@H](CO)NC(=O)[C@H]1C[N@@H+]([C@@H]2Cc3c[nH]c4c3c(ccc4)C2=C1)C': {},\n",
       " 'CC[C@@H](CO)NC(=O)[C@H]1C[N@H+]([C@@H]2Cc3c[nH]c4c3c(ccc4)C2=C1)C': {},\n",
       " 'CC[C@@H](CO)NC(=O)[C@H]1C[N@]([C@@H]2Cc3c[nH]c4c3c(ccc4)C2=C1)C': {},\n",
       " 'c1c(nc[nH]1)C[C@@H](C(=O)[O-])[NH3+]': {},\n",
       " 'c1c([nH]cn1)C[C@@H](C(=O)[O-])[NH3+]': {},\n",
       " 'c1c([nH][cH+][nH]1)C[C@@H](C(=O)[O-])[NH3+]': {},\n",
       " 'C[C@@H]1CCO[C@@H]2N1C(=O)c3c(c(=O)c(cn3C2)C(=O)NCc4ccc(cc4F)F)O': {},\n",
       " 'Cc1ccc(nc1c2cccc(c2)C(=O)[O-])NC(=O)C3(CC3)c4ccc5c(c4)OC(O5)(F)F': {},\n",
       " 'CC(C)(C)c1cc(c(cc1NC(=O)c2cnc3ccccc3c2O)O)C(C)(C)C': {},\n",
       " 'CC(C)(C)c1cc(c(cc1NC(=O)c2c[n-]c3ccccc3c2=O)O)C(C)(C)C': {},\n",
       " 'CC(C)(C)c1cc(c(cc1NC(=O)c2cnc3ccccc3c2[O-])O)C(C)(C)C': {},\n",
       " 'Cc1cc2c(s1)Nc3ccccc3N=C2N4CCN(CC4)C': {},\n",
       " 'Cc1cc2c(s1)Nc3ccccc3N=C2N4CC[NH+](CC4)C': {},\n",
       " 'C(C[C@](C(F)F)(C(=O)[O-])[NH3+])C[NH3+]': {},\n",
       " 'Cc1cnc(c(c1OC)C)C[S@@](=O)c2[nH]c3ccc(cc3n2)OC': {},\n",
       " 'Cc1cnc(c(c1OC)C)C[S@@](=O)c2[nH]c3cc(ccc3n2)OC': {},\n",
       " 'c1ccc2c(c1)CCN3[C@H]2CN(CC3=O)C(=O)C4CCCCC4': {},\n",
       " 'Cc1cccc(c1NC(=O)[C@H]2CCCC[N@@]2C)C': {},\n",
       " 'Cc1cccc(c1NC(=O)[C@H]2CCCC[N@H+]2C)C': {},\n",
       " 'Cc1cccc(c1NC(=O)[C@H]2CCCC[N@@H+]2C)C': {},\n",
       " 'Cc1ccc(c(c1)C)Sc2ccccc2N3CC[NH2+]CC3': {},\n",
       " 'Cc1ccc(c(c1)C)Sc2ccccc2N3CCNCC3': {},\n",
       " 'C[N+]12CCC(CC1)[C@@H](C2)OC(=O)C(c3ccccc3)(c4ccccc4)O': {},\n",
       " 'C[n+]1ccccc1/C=N/[O-]': {},\n",
       " 'Cc1cccc(c1C)[C@H](C)c2c[nH]cn2': {},\n",
       " 'Cc1cccc(c1C)[C@H](C)c2c[nH][cH+][nH]2': {},\n",
       " 'C[C@H]1C[NH2+]CCc2c1cc(cc2)Cl': {},\n",
       " 'C[C@@]1(C(=O)N2[C@H](C(=O)N3CCC[C@H]3[C@@]2(O1)O)Cc4ccccc4)NC(=O)[C@@H]5C[C@@H]6c7cccc8c7c(c[nH]8)C[C@H]6[N@@H+](C5)C': {},\n",
       " 'C[C@@]1(C(=O)N2[C@H](C(=O)N3CCC[C@H]3[C@@]2(O1)O)Cc4ccccc4)NC(=O)[C@@H]5C[C@@H]6c7cccc8c7c(c[nH]8)C[C@H]6[N@H+](C5)C': {},\n",
       " 'C[C@@]1(C(=O)N2[C@H](C(=O)N3CCC[C@H]3[C@@]2(O1)O)Cc4ccccc4)NC(=O)[C@@H]5C[C@@H]6c7cccc8c7c(c[nH]8)C[C@H]6[N@@](C5)C': {},\n",
       " 'C1N2CN3CN1CN(C2)C3': {},\n",
       " 'C[NH+]1[C@@H]2CC[C@H]1CC(C2)OC(=O)[C@@H](CO)c3ccccc3': {},\n",
       " 'C[NH+]1[C@@H]2CC[C@H]1CC(C2)OC(=O)[C@H](CO)c3ccccc3': {},\n",
       " 'CC1([C@@H](N2[C@H](S1)[C@@H](C2=O)NC(=O)[C@@H](c3ccc(cc3)O)N)C(=O)[O-])C': {},\n",
       " 'CC1([C@@H](N2[C@H](S1)[C@@H](C2=O)NC(=O)[C@@H](c3ccc(cc3)O)[NH3+])C(=O)[O-])C': {},\n",
       " 'c1ccc(cc1)O': {},\n",
       " 'C[C@]12CC[C@H]3[C@H]([C@@H]1CC[C@@H]2O)CCC4=CC(=O)CC[C@]34C': {},\n",
       " 'C[N+](C)(C)CCO': {},\n",
       " 'CC[C@H](C)[C@@H](C(=O)[O-])[NH3+]': {},\n",
       " 'CC(C)C[C@@H](C(=O)[O-])[NH3+]': {},\n",
       " 'C1[C@H]2[C@@H]([C@@H](S1)CCCCC(=O)[O-])NC(=O)N2': {},\n",
       " 'COC(=O)c1ccccc1O': {},\n",
       " 'COC(=O)c1cccnc1': {},\n",
       " 'c1cc(cc(c1)O)O': {},\n",
       " 'CC(=O)N[C@@H](Cc1ccc(cc1)O)C(=O)[O-]': {},\n",
       " 'CCCCCCc1ccc(cc1O)O': {},\n",
       " 'C(=O)(N)N': {},\n",
       " 'COc1ccc(cc1O)c2cc(=O)c3c(cc(cc3o2)O)O': {},\n",
       " 'COc1ccc(cc1O)c2cc(=O)c3c(cc(cc3o2)[O-])[O-]': {},\n",
       " 'C[C@H](CN1c2ccccc2Sc3c1cccc3)[NH+](C)C': {},\n",
       " 'C[NH+](C)CC[C@@](c1ccccc1)(c2ccccc2Cl)O': {},\n",
       " 'CN(C)CC[C@@](c1ccccc1)(c2ccccc2Cl)O': {},\n",
       " 'CCc1cccc2c1[nH]c3c2CCO[C@@]3(CC)CC(=O)[O-]': {},\n",
       " 'CN1CC(=O)N2[C@@H](C1=O)Cc3c4ccccc4[nH]c3[C@H]2c5ccc6c(c5)OCO6': {},\n",
       " 'CC(C)[N+]1([C@@H]2CC[C@H]1CC(C2)OC(=O)[C@@H](CO)c3ccccc3)C': {},\n",
       " 'CC(C)[N+]1([C@@H]2CC[C@H]1CC(C2)OC(=O)[C@H](CO)c3ccccc3)C': {},\n",
       " 'C[C@@H](CN1CC(=O)NC(=O)C1)N2CC(=O)NC(=O)C2': {},\n",
       " 'Cc1c(noc1[N-]S(=O)(=O)c2ccc(cc2)N)C': {},\n",
       " 'Cc1c(noc1NS(=O)(=O)c2ccc(cc2)N)C': {},\n",
       " 'C1CC(=[NH2+])N(C1)Cc2c(c(=O)[n-]c(=O)[nH]2)Cl': {},\n",
       " 'C1CC(=[NH2+])N(C1)Cc2c(c(=O)[nH]c(=O)[nH]2)Cl': {},\n",
       " 'C[NH+]1[C@@H]2CC[C@H]1CC(C2)OC(c3ccccc3)c4ccccc4': {},\n",
       " 'CCOC(=O)C1=C(NC(=C([C@H]1c2cccc(c2Cl)Cl)C(=O)OC)C)C': {},\n",
       " 'CN(C)/N=N/c1c([nH]cn1)C(=O)N': {},\n",
       " 'C[C@H]1C[C@H]2[C@@H]3CC[C@@]([C@]3(C[C@@H]([C@@]2([C@@]4(C1=CC(=O)C=C4)C)F)O)C)(C(=O)C)O': {},\n",
       " 'Cc1ncc2n1-c3ccc(cc3C(=NC2)c4ccccc4F)Cl': {},\n",
       " 'C[c+]1[nH]cc2n1-c3ccc(cc3C(=NC2)c4ccccc4F)Cl': {},\n",
       " 'CC1=C([C@H](C(=C(N1)C)C(=O)OC(C)C)c2cccc3c2non3)C(=O)OC': {},\n",
       " 'CC(C)NC(=[NH2+])NC(=[NH2+])Nc1ccc(cc1)Cl': {},\n",
       " '[H]/N=C(\\\\Nc1ccc(cc1)Cl)/NC(=[NH2+])NC(C)C': {},\n",
       " 'CCOC(=O)C1=C(NC(=C([C@@H]1c2cccc(c2Cl)Cl)C(=O)OC)C)C': {},\n",
       " 'C[N@+]1(CC[C@]23c4c5ccc(c4O[C@H]2C(=O)CC[C@]3([C@H]1C5)O)O)CC6CC6': {},\n",
       " 'C[C@]12CC[C@@H]3c4ccc(cc4CC[C@H]3[C@@H]1CC[C@@H]2O)O': {},\n",
       " 'C(=[NH2+])(N)N': {},\n",
       " 'c1[nH]c(=O)c2c(n1)n(cn2)[C@H]3[C@@H]([C@@H]([C@H](O3)CO)O)O': {},\n",
       " 'c1[n-]c(=O)c2c(n1)n(cn2)[C@H]3[C@@H]([C@@H]([C@H](O3)CO)O)O': {},\n",
       " 'c1c2c(cc(c1Cl)S(=O)(=O)N)S(=O)(=O)NCN2': {},\n",
       " 'C[C@]1(CC(=O)N(C1=O)C)c2ccccc2': {},\n",
       " 'C[C@H](c1cc2ccccc2s1)N(C(=O)N)O': {},\n",
       " 'C[C@H](c1cc2ccccc2s1)N(C(=O)N)[O-]': {},\n",
       " 'C[N+]1(CC[C@@H](C1)OC(=O)[C@@](c2ccccc2)(C3CCCC3)O)C': {},\n",
       " 'C(CS)[NH3+]': {},\n",
       " 'c1ccc2c(c1)CC(=O)c3ccccc3N2C(=O)N': {},\n",
       " 'C[NH+](C)CC/C=C\\\\1/c2ccccc2COc3c1cccc3': {},\n",
       " 'CNc1ccc(cc1F)c2nc3ccc(cc3s2)O': {},\n",
       " 'C[C@@H]1COc2c3n1cc(c(=O)c3cc(c2N4CCN(CC4)C)F)C(=O)[O-]': {},\n",
       " 'C[C@@H]1COc2c3n1cc(c(=O)c3cc(c2N4CC[NH+](CC4)C)F)C(=O)[O-]': {},\n",
       " 'CCOC(=O)N1CCC(=C2c3ccc(cc3CCc4c2nccc4)Cl)CC1': {},\n",
       " 'CC1(O[C@@H]2CO[C@@]3([C@H]([C@@H]2O1)OC(O3)(C)C)COS(=O)(=O)N)C': {},\n",
       " 'C1CC(CCC1C[NH3+])C(=O)[O-]': {},\n",
       " 'C1C[C@H]([NH2+]C1)C(=O)[O-]': {},\n",
       " 'C([C@@H](C(=O)[O-])[NH3+])O': {},\n",
       " 'C([C@@H](C(=O)[O-])N)O': {},\n",
       " 'C([C@@H](C(=O)[O-])[NH3+])C(=O)[O-]': {},\n",
       " 'CC(=O)[C@H]1CC[C@@H]2[C@@]1(CC[C@H]3[C@H]2CCC4=CC(=O)CC[C@]34C)C': {},\n",
       " 'C[C@@H]([C@@H]([C@@H]1CNc2c(c(=O)nc([nH]2)N)N1)O)O': {},\n",
       " 'C[C@@H]([C@@H]([C@@H]1CNc2c(c(=O)[nH]c(n2)N)N1)O)O': {}}"
      ]
     },
     "execution_count": 8,
     "metadata": {},
     "output_type": "execute_result"
    }
   ],
   "source": [
    "differences"
   ]
  },
  {
   "cell_type": "code",
   "execution_count": 9,
   "metadata": {},
   "outputs": [
    {
     "data": {
      "text/plain": [
       "{'C[NH2+]C[C@@H](c1ccc(c(c1)O)O)O': {},\n",
       " 'CO/N=C/1\\\\C[N@](C[C@H]1C[NH3+])c2c(cc3c(=O)c(cn(c3n2)C4CC4)C(=O)[O-])F': {0: True},\n",
       " 'c1cc(ccc1[C@H]2C[NH2+]CCc3c2cc(c(c3Cl)O)O)O': {},\n",
       " 'c1cc(ccc1[C@H]2C[NH2+]CCc3c2cc(c(c3Cl)[O-])O)O': {0: True, 1: True},\n",
       " 'c1c(cc(c(c1S(=O)(=O)N)Cl)Cl)S(=O)(=O)N': {},\n",
       " 'C[NH+](C)CCC=C1c2ccccc2C=Cc3c1cccc3': {},\n",
       " 'C[N@@H+]1CC[C@]23c4c5ccc(c4O[C@H]2C(=O)CC[C@]3([C@H]1C5)O)OC': {},\n",
       " 'C[N@H+]1CC[C@]23c4c5ccc(c4O[C@H]2C(=O)CC[C@]3([C@H]1C5)O)OC': {},\n",
       " 'C[N@]1CC[C@]23c4c5ccc(c4O[C@H]2C(=O)CC[C@]3([C@H]1C5)O)OC': {0: True},\n",
       " 'c1cc(cnc1)C(=O)N': {},\n",
       " 'COc1ccccc1OC[C@H](CO)O': {},\n",
       " 'C[C@](Cc1ccc(cc1)O)(C(=O)[O-])[NH3+]': {0: True, 1: True, 2: True},\n",
       " 'c1ccc(cc1)c2c(oc(n2)CCC(=O)[O-])c3ccccc3': {},\n",
       " 'C(C[C@@](C(F)F)(C(=O)[O-])N)C[NH3+]': {0: True},\n",
       " 'C(C[C@@](C(F)F)(C(=O)[O-])[NH3+])C[NH3+]': {1: True, 3: True},\n",
       " 'CC(C)C[C@H]1C(=O)N2CCC[C@H]2[C@]3(N1C(=O)[C@](O3)(C(C)C)NC(=O)[C@H]4C[N@]([C@@H]5Cc6c7c(cccc7[nH]c6Br)C5=C4)C)O': {},\n",
       " 'CC(C)C[C@H]1C(=O)N2CCC[C@H]2[C@]3(N1C(=O)[C@](O3)(C(C)C)NC(=O)[C@H]4C[N@H+]([C@@H]5Cc6c7c(cccc7[nH]c6Br)C5=C4)C)O': {},\n",
       " 'CC(C)C[C@H]1C(=O)N2CCC[C@H]2[C@]3(N1C(=O)[C@](O3)(C(C)C)NC(=O)[C@H]4C[N@@H+]([C@@H]5Cc6c7c(cccc7[nH]c6Br)C5=C4)C)O': {},\n",
       " 'COC(=O)[C@H](c1ccccc1Cl)[N@@]2CCc3c(ccs3)C2': {},\n",
       " 'CC[C@@H](CO)NC(=O)[C@H]1C[N@@H+]([C@@H]2Cc3c[nH]c4c3c(ccc4)C2=C1)C': {6: True,\n",
       "  13: True,\n",
       "  16: True},\n",
       " 'CC[C@@H](CO)NC(=O)[C@H]1C[N@H+]([C@@H]2Cc3c[nH]c4c3c(ccc4)C2=C1)C': {},\n",
       " 'CC[C@@H](CO)NC(=O)[C@H]1C[N@]([C@@H]2Cc3c[nH]c4c3c(ccc4)C2=C1)C': {},\n",
       " 'c1c(nc[nH]1)C[C@@H](C(=O)[O-])[NH3+]': {0: True,\n",
       "  1: True,\n",
       "  2: True,\n",
       "  3: True,\n",
       "  4: True,\n",
       "  5: True},\n",
       " 'c1c([nH]cn1)C[C@@H](C(=O)[O-])[NH3+]': {0: True,\n",
       "  1: True,\n",
       "  2: True,\n",
       "  3: True,\n",
       "  4: True,\n",
       "  5: True},\n",
       " 'c1c([nH][cH+][nH]1)C[C@@H](C(=O)[O-])[NH3+]': {0: True,\n",
       "  1: True,\n",
       "  2: True,\n",
       "  3: True},\n",
       " 'C[C@@H]1CCO[C@@H]2N1C(=O)c3c(c(=O)c(cn3C2)C(=O)NCc4ccc(cc4F)F)O': {0: True,\n",
       "  1: True,\n",
       "  2: True,\n",
       "  3: True,\n",
       "  4: True,\n",
       "  5: True,\n",
       "  6: True,\n",
       "  7: True,\n",
       "  8: True,\n",
       "  9: True,\n",
       "  10: True,\n",
       "  11: True,\n",
       "  12: True,\n",
       "  13: True,\n",
       "  14: True,\n",
       "  15: True,\n",
       "  19: True},\n",
       " 'Cc1ccc(nc1c2cccc(c2)C(=O)[O-])NC(=O)C3(CC3)c4ccc5c(c4)OC(O5)(F)F': {},\n",
       " 'CC(C)(C)c1cc(c(cc1NC(=O)c2cnc3ccccc3c2O)O)C(C)(C)C': {},\n",
       " 'CC(C)(C)c1cc(c(cc1NC(=O)c2c[n-]c3ccccc3c2=O)O)C(C)(C)C': {0: True, 3: True},\n",
       " 'CC(C)(C)c1cc(c(cc1NC(=O)c2cnc3ccccc3c2[O-])O)C(C)(C)C': {2: True},\n",
       " 'Cc1cc2c(s1)Nc3ccccc3N=C2N4CCN(CC4)C': {},\n",
       " 'Cc1cc2c(s1)Nc3ccccc3N=C2N4CC[NH+](CC4)C': {},\n",
       " 'C(C[C@](C(F)F)(C(=O)[O-])[NH3+])C[NH3+]': {0: True,\n",
       "  2: True,\n",
       "  3: True,\n",
       "  4: True,\n",
       "  6: True,\n",
       "  8: True,\n",
       "  9: True,\n",
       "  10: True},\n",
       " 'Cc1cnc(c(c1OC)C)C[S@@](=O)c2[nH]c3ccc(cc3n2)OC': {6: True},\n",
       " 'Cc1cnc(c(c1OC)C)C[S@@](=O)c2[nH]c3cc(ccc3n2)OC': {6: True},\n",
       " 'c1ccc2c(c1)CCN3[C@H]2CN(CC3=O)C(=O)C4CCCCC4': {},\n",
       " 'Cc1cccc(c1NC(=O)[C@H]2CCCC[N@@]2C)C': {},\n",
       " 'Cc1cccc(c1NC(=O)[C@H]2CCCC[N@H+]2C)C': {},\n",
       " 'Cc1cccc(c1NC(=O)[C@H]2CCCC[N@@H+]2C)C': {},\n",
       " 'Cc1ccc(c(c1)C)Sc2ccccc2N3CC[NH2+]CC3': {},\n",
       " 'Cc1ccc(c(c1)C)Sc2ccccc2N3CCNCC3': {},\n",
       " 'C[N+]12CCC(CC1)[C@@H](C2)OC(=O)C(c3ccccc3)(c4ccccc4)O': {},\n",
       " 'C[n+]1ccccc1/C=N/[O-]': {},\n",
       " 'Cc1cccc(c1C)[C@H](C)c2c[nH]cn2': {},\n",
       " 'Cc1cccc(c1C)[C@H](C)c2c[nH][cH+][nH]2': {},\n",
       " 'C[C@H]1C[NH2+]CCc2c1cc(cc2)Cl': {},\n",
       " 'C[C@@]1(C(=O)N2[C@H](C(=O)N3CCC[C@H]3[C@@]2(O1)O)Cc4ccccc4)NC(=O)[C@@H]5C[C@@H]6c7cccc8c7c(c[nH]8)C[C@H]6[N@@H+](C5)C': {},\n",
       " 'C[C@@]1(C(=O)N2[C@H](C(=O)N3CCC[C@H]3[C@@]2(O1)O)Cc4ccccc4)NC(=O)[C@@H]5C[C@@H]6c7cccc8c7c(c[nH]8)C[C@H]6[N@H+](C5)C': {},\n",
       " 'C[C@@]1(C(=O)N2[C@H](C(=O)N3CCC[C@H]3[C@@]2(O1)O)Cc4ccccc4)NC(=O)[C@@H]5C[C@@H]6c7cccc8c7c(c[nH]8)C[C@H]6[N@@](C5)C': {},\n",
       " 'C1N2CN3CN1CN(C2)C3': {},\n",
       " 'C[NH+]1[C@@H]2CC[C@H]1CC(C2)OC(=O)[C@@H](CO)c3ccccc3': {12: True,\n",
       "  16: True,\n",
       "  17: True,\n",
       "  19: True,\n",
       "  32: True,\n",
       "  36: True,\n",
       "  37: True,\n",
       "  39: True},\n",
       " 'C[NH+]1[C@@H]2CC[C@H]1CC(C2)OC(=O)[C@H](CO)c3ccccc3': {14: True,\n",
       "  17: True,\n",
       "  19: True,\n",
       "  34: True,\n",
       "  37: True,\n",
       "  39: True},\n",
       " 'CC1([C@@H](N2[C@H](S1)[C@@H](C2=O)NC(=O)[C@@H](c3ccc(cc3)O)N)C(=O)[O-])C': {},\n",
       " 'CC1([C@@H](N2[C@H](S1)[C@@H](C2=O)NC(=O)[C@@H](c3ccc(cc3)O)[NH3+])C(=O)[O-])C': {15: True},\n",
       " 'c1ccc(cc1)O': {},\n",
       " 'C[C@]12CC[C@H]3[C@H]([C@@H]1CC[C@@H]2O)CCC4=CC(=O)CC[C@]34C': {},\n",
       " 'C[N+](C)(C)CCO': {},\n",
       " 'CC[C@H](C)[C@@H](C(=O)[O-])[NH3+]': {0: True, 1: True, 2: True, 3: True},\n",
       " 'CC(C)C[C@@H](C(=O)[O-])[NH3+]': {0: True, 1: True, 2: True},\n",
       " 'C1[C@H]2[C@@H]([C@@H](S1)CCCCC(=O)[O-])NC(=O)N2': {9: True,\n",
       "  13: True,\n",
       "  14: True},\n",
       " 'COC(=O)c1ccccc1O': {},\n",
       " 'COC(=O)c1cccnc1': {},\n",
       " 'c1cc(cc(c1)O)O': {},\n",
       " 'CC(=O)N[C@@H](Cc1ccc(cc1)O)C(=O)[O-]': {0: True,\n",
       "  1: True,\n",
       "  2: True,\n",
       "  3: True,\n",
       "  4: True,\n",
       "  5: True,\n",
       "  6: True,\n",
       "  7: True},\n",
       " 'CCCCCCc1ccc(cc1O)O': {},\n",
       " 'C(=O)(N)N': {},\n",
       " 'COc1ccc(cc1O)c2cc(=O)c3c(cc(cc3o2)O)O': {},\n",
       " 'COc1ccc(cc1O)c2cc(=O)c3c(cc(cc3o2)[O-])[O-]': {},\n",
       " 'C[C@H](CN1c2ccccc2Sc3c1cccc3)[NH+](C)C': {1: True},\n",
       " 'C[NH+](C)CC[C@@](c1ccccc1)(c2ccccc2Cl)O': {5: True},\n",
       " 'CN(C)CC[C@@](c1ccccc1)(c2ccccc2Cl)O': {},\n",
       " 'CCc1cccc2c1[nH]c3c2CCO[C@@]3(CC)CC(=O)[O-]': {},\n",
       " 'CN1CC(=O)N2[C@@H](C1=O)Cc3c4ccccc4[nH]c3[C@H]2c5ccc6c(c5)OCO6': {},\n",
       " 'CC(C)[N+]1([C@@H]2CC[C@H]1CC(C2)OC(=O)[C@@H](CO)c3ccccc3)C': {},\n",
       " 'CC(C)[N+]1([C@@H]2CC[C@H]1CC(C2)OC(=O)[C@H](CO)c3ccccc3)C': {},\n",
       " 'C[C@@H](CN1CC(=O)NC(=O)C1)N2CC(=O)NC(=O)C2': {},\n",
       " 'Cc1c(noc1[N-]S(=O)(=O)c2ccc(cc2)N)C': {},\n",
       " 'Cc1c(noc1NS(=O)(=O)c2ccc(cc2)N)C': {},\n",
       " 'C1CC(=[NH2+])N(C1)Cc2c(c(=O)[n-]c(=O)[nH]2)Cl': {1: True,\n",
       "  2: True,\n",
       "  5: True,\n",
       "  7: True},\n",
       " 'C1CC(=[NH2+])N(C1)Cc2c(c(=O)[nH]c(=O)[nH]2)Cl': {},\n",
       " 'C[NH+]1[C@@H]2CC[C@H]1CC(C2)OC(c3ccccc3)c4ccccc4': {},\n",
       " 'CCOC(=O)C1=C(NC(=C([C@H]1c2cccc(c2Cl)Cl)C(=O)OC)C)C': {},\n",
       " 'CN(C)/N=N/c1c([nH]cn1)C(=O)N': {3: True, 4: True, 8: True, 9: True},\n",
       " 'C[C@H]1C[C@H]2[C@@H]3CC[C@@]([C@]3(C[C@@H]([C@@]2([C@@]4(C1=CC(=O)C=C4)C)F)O)C)(C(=O)C)O': {},\n",
       " 'Cc1ncc2n1-c3ccc(cc3C(=NC2)c4ccccc4F)Cl': {},\n",
       " 'C[c+]1[nH]cc2n1-c3ccc(cc3C(=NC2)c4ccccc4F)Cl': {},\n",
       " 'CC1=C([C@H](C(=C(N1)C)C(=O)OC(C)C)c2cccc3c2non3)C(=O)OC': {},\n",
       " 'CC(C)NC(=[NH2+])NC(=[NH2+])Nc1ccc(cc1)Cl': {},\n",
       " '[H]/N=C(\\\\Nc1ccc(cc1)Cl)/NC(=[NH2+])NC(C)C': {0: True,\n",
       "  1: True,\n",
       "  2: True,\n",
       "  3: True,\n",
       "  6: True,\n",
       "  7: True,\n",
       "  8: True,\n",
       "  10: True,\n",
       "  12: True,\n",
       "  14: True},\n",
       " 'CCOC(=O)C1=C(NC(=C([C@@H]1c2cccc(c2Cl)Cl)C(=O)OC)C)C': {},\n",
       " 'C[N@+]1(CC[C@]23c4c5ccc(c4O[C@H]2C(=O)CC[C@]3([C@H]1C5)O)O)CC6CC6': {},\n",
       " 'C[C@]12CC[C@@H]3c4ccc(cc4CC[C@H]3[C@@H]1CC[C@@H]2O)O': {},\n",
       " 'C(=[NH2+])(N)N': {},\n",
       " 'c1[nH]c(=O)c2c(n1)n(cn2)[C@H]3[C@@H]([C@@H]([C@H](O3)CO)O)O': {0: True,\n",
       "  2: True,\n",
       "  5: True,\n",
       "  9: True,\n",
       "  10: True},\n",
       " 'c1[n-]c(=O)c2c(n1)n(cn2)[C@H]3[C@@H]([C@@H]([C@H](O3)CO)O)O': {1: True},\n",
       " 'c1c2c(cc(c1Cl)S(=O)(=O)N)S(=O)(=O)NCN2': {},\n",
       " 'C[C@]1(CC(=O)N(C1=O)C)c2ccccc2': {},\n",
       " 'C[C@H](c1cc2ccccc2s1)N(C(=O)N)O': {4: True,\n",
       "  5: True,\n",
       "  7: True,\n",
       "  10: True,\n",
       "  11: True,\n",
       "  12: True},\n",
       " 'C[C@H](c1cc2ccccc2s1)N(C(=O)N)[O-]': {0: True,\n",
       "  1: True,\n",
       "  2: True,\n",
       "  3: True,\n",
       "  4: True,\n",
       "  7: True,\n",
       "  11: True},\n",
       " 'C[N+]1(CC[C@@H](C1)OC(=O)[C@@](c2ccccc2)(C3CCCC3)O)C': {},\n",
       " 'C(CS)[NH3+]': {0: True},\n",
       " 'c1ccc2c(c1)CC(=O)c3ccccc3N2C(=O)N': {},\n",
       " 'C[NH+](C)CC/C=C\\\\1/c2ccccc2COc3c1cccc3': {},\n",
       " 'CNc1ccc(cc1F)c2nc3ccc(cc3s2)O': {},\n",
       " 'C[C@@H]1COc2c3n1cc(c(=O)c3cc(c2N4CCN(CC4)C)F)C(=O)[O-]': {},\n",
       " 'C[C@@H]1COc2c3n1cc(c(=O)c3cc(c2N4CC[NH+](CC4)C)F)C(=O)[O-]': {},\n",
       " 'CCOC(=O)N1CCC(=C2c3ccc(cc3CCc4c2nccc4)Cl)CC1': {},\n",
       " 'CC1(O[C@@H]2CO[C@@]3([C@H]([C@@H]2O1)OC(O3)(C)C)COS(=O)(=O)N)C': {3: True},\n",
       " 'C1CC(CCC1C[NH3+])C(=O)[O-]': {},\n",
       " 'C1C[C@H]([NH2+]C1)C(=O)[O-]': {0: True},\n",
       " 'C([C@@H](C(=O)[O-])[NH3+])O': {0: True},\n",
       " 'C([C@@H](C(=O)[O-])N)O': {1: True},\n",
       " 'C([C@@H](C(=O)[O-])[NH3+])C(=O)[O-]': {},\n",
       " 'CC(=O)[C@H]1CC[C@@H]2[C@@]1(CC[C@H]3[C@H]2CCC4=CC(=O)CC[C@]34C)C': {},\n",
       " 'C[C@@H]([C@@H]([C@@H]1CNc2c(c(=O)nc([nH]2)N)N1)O)O': {0: True, 3: True},\n",
       " 'C[C@@H]([C@@H]([C@@H]1CNc2c(c(=O)[nH]c(n2)N)N1)O)O': {0: True}}"
      ]
     },
     "execution_count": 9,
     "metadata": {},
     "output_type": "execute_result"
    }
   ],
   "source": [
    "# loop over the molecules and flag conectivity changes\n",
    "differences = {}\n",
    "for index, record in result.collection.items():\n",
    "    wbo_05 = record.detect_hydrogen_bonds_wbo(0.05)\n",
    "    wbo_1 = record.detect_hydrogen_bonds_wbo(0.1)\n",
    "    rec_dif = {}\n",
    "    for key in wbo_05.keys():\n",
    "        if wbo_05[key] != wbo_1[key]:\n",
    "            rec_dif[key] = True\n",
    "    differences[index] = rec_dif\n",
    "differences"
   ]
  },
  {
   "cell_type": "code",
   "execution_count": 10,
   "metadata": {},
   "outputs": [],
   "source": [
    "# pull out a molecule that has changed connectivity by WBO of 0.74 this turns out the be the cmiles issue molecule\n",
    "record = result.collection['c1cc(ccc1[C@H]2C[NH2+]CCc3c2cc(c(c3Cl)[O-])O)O']"
   ]
  },
  {
   "cell_type": "code",
   "execution_count": 11,
   "metadata": {},
   "outputs": [
    {
     "data": {
      "text/plain": [
       "(-1360.03851847593, 0)"
      ]
     },
     "execution_count": 11,
     "metadata": {},
     "output_type": "execute_result"
    }
   ],
   "source": [
    "opt_results = [(opt_rec.final_energy, i) for i, opt_rec in enumerate(record.entries)]\n",
    "opt_results.sort(key=lambda x:x[0])\n",
    "opt_results[0]"
   ]
  },
  {
   "cell_type": "code",
   "execution_count": 12,
   "metadata": {},
   "outputs": [
    {
     "data": {
      "application/vnd.jupyter.widget-view+json": {
       "model_id": "ec3699b4ae7747d0a35a5a85010cc479",
       "version_major": 2,
       "version_minor": 0
      },
      "text/plain": [
       "NGLWidget()"
      ]
     },
     "metadata": {},
     "output_type": "display_data"
    }
   ],
   "source": [
    "record.entries[0].final_molecule.molecule"
   ]
  },
  {
   "cell_type": "code",
   "execution_count": 13,
   "metadata": {},
   "outputs": [
    {
     "data": {
      "text/plain": [
       "[(17, 36)]"
      ]
     },
     "execution_count": 13,
     "metadata": {},
     "output_type": "execute_result"
    }
   ],
   "source": [
    "record.entries[0].find_hydrogen_bonds_wbo(0.05)"
   ]
  },
  {
   "cell_type": "code",
   "execution_count": 114,
   "metadata": {},
   "outputs": [
    {
     "data": {
      "text/plain": [
       "array([[19, 36, 17]])"
      ]
     },
     "execution_count": 114,
     "metadata": {},
     "output_type": "execute_result"
    }
   ],
   "source": [
    "import mdtraj as md\n",
    "record.entries[0].get_final_molecule().to_file('hbonds.pdb', 'pdb')\n",
    "t = md.load_pdb('hbonds.pdb')\n",
    "hbonds = md.baker_hubbard(t, periodic=False)\n",
    "\n",
    "hbonds"
   ]
  },
  {
   "cell_type": "code",
   "execution_count": 184,
   "metadata": {},
   "outputs": [
    {
     "data": {
      "text/plain": [
       "0.8410867544201786"
      ]
     },
     "execution_count": 184,
     "metadata": {},
     "output_type": "execute_result"
    }
   ],
   "source": [
    "import numpy as np\n",
    "wbo = np.array(record.entries[16].final_molecule.wbo).reshape((record.molecule.n_atoms, -1))\n",
    "wbo[19,44]"
   ]
  },
  {
   "cell_type": "code",
   "execution_count": 26,
   "metadata": {},
   "outputs": [
    {
     "data": {
      "text/plain": [
       "[(0, 2, 1.0),\n",
       " (0, 5, 2.0),\n",
       " (0, 28, 1.0),\n",
       " (1, 3, 2.0),\n",
       " (1, 20, 1.0),\n",
       " (1, 29, 1.0),\n",
       " (2, 6, 2.0),\n",
       " (2, 4, 1.0),\n",
       " (3, 4, 1.0),\n",
       " (3, 9, 1.0),\n",
       " (4, 24, 2.0),\n",
       " (5, 7, 1.0),\n",
       " (5, 27, 1.0),\n",
       " (6, 18, 1.0),\n",
       " (6, 20, 1.0),\n",
       " (7, 18, 2.0),\n",
       " (7, 21, 1.0),\n",
       " (8, 10, 1.0),\n",
       " (8, 14, 1.0),\n",
       " (8, 19, 2.0),\n",
       " (9, 23, 1.0),\n",
       " (9, 25, 2.0),\n",
       " (10, 21, 1.0),\n",
       " (10, 30, 1.0),\n",
       " (10, 31, 1.0),\n",
       " (11, 12, 1.0),\n",
       " (11, 15, 1.0),\n",
       " (11, 32, 1.0),\n",
       " (11, 33, 1.0),\n",
       " (12, 15, 1.0),\n",
       " (12, 34, 1.0),\n",
       " (12, 35, 1.0),\n",
       " (13, 14, 1.0),\n",
       " (13, 21, 1.0),\n",
       " (13, 36, 1.0),\n",
       " (13, 37, 1.0),\n",
       " (14, 17, 1.0),\n",
       " (14, 38, 1.0),\n",
       " (15, 20, 1.0),\n",
       " (15, 39, 1.0),\n",
       " (16, 26, 1.0),\n",
       " (16, 40, 1.0),\n",
       " (16, 41, 1.0),\n",
       " (16, 42, 1.0),\n",
       " (17, 22, 1.0),\n",
       " (17, 43, 1.0),\n",
       " (17, 44, 1.0),\n",
       " (19, 26, 1.0),\n",
       " (22, 45, 1.0),\n",
       " (22, 46, 1.0),\n",
       " (22, 47, 1.0)]"
      ]
     },
     "execution_count": 26,
     "metadata": {},
     "output_type": "execute_result"
    }
   ],
   "source": [
    "record.entries[0].final_molecule.molecule.connectivity"
   ]
  },
  {
   "cell_type": "code",
   "execution_count": 21,
   "metadata": {},
   "outputs": [
    {
     "data": {
      "text/plain": [
       "[(0, 2),\n",
       " (0, 5),\n",
       " (0, 28),\n",
       " (1, 3),\n",
       " (1, 20),\n",
       " (1, 29),\n",
       " (2, 4),\n",
       " (2, 6),\n",
       " (3, 4),\n",
       " (3, 9),\n",
       " (4, 24),\n",
       " (5, 7),\n",
       " (5, 27),\n",
       " (6, 18),\n",
       " (6, 20),\n",
       " (7, 18),\n",
       " (7, 21),\n",
       " (8, 10),\n",
       " (8, 14),\n",
       " (8, 19),\n",
       " (9, 23),\n",
       " (9, 25),\n",
       " (10, 21),\n",
       " (10, 30),\n",
       " (10, 31),\n",
       " (11, 12),\n",
       " (11, 15),\n",
       " (11, 32),\n",
       " (11, 33),\n",
       " (12, 15),\n",
       " (12, 34),\n",
       " (12, 35),\n",
       " (13, 14),\n",
       " (13, 21),\n",
       " (13, 36),\n",
       " (13, 37),\n",
       " (14, 17),\n",
       " (14, 38),\n",
       " (15, 20),\n",
       " (15, 39),\n",
       " (16, 26),\n",
       " (16, 40),\n",
       " (16, 41),\n",
       " (16, 42),\n",
       " (17, 22),\n",
       " (17, 43),\n",
       " (17, 44),\n",
       " (19, 26),\n",
       " (21, 47),\n",
       " (22, 45),\n",
       " (22, 46)]"
      ]
     },
     "execution_count": 21,
     "metadata": {},
     "output_type": "execute_result"
    }
   ],
   "source": [
    "record.entries[0].final_molecule.guess_connectivity()"
   ]
  },
  {
   "cell_type": "code",
   "execution_count": 31,
   "metadata": {},
   "outputs": [],
   "source": [
    "# now lets pull another record this should be fine for entry 0 but the rest should of changed \n",
    "record = result.collection['C(C[C@@](C(F)F)(C(=O)[O-])N)C[NH3+]']"
   ]
  },
  {
   "cell_type": "code",
   "execution_count": 32,
   "metadata": {},
   "outputs": [
    {
     "data": {
      "application/vnd.jupyter.widget-view+json": {
       "model_id": "31e26cb2450d426f9893985d3b930dd0",
       "version_major": 2,
       "version_minor": 0
      },
      "text/plain": [
       "NGLWidget()"
      ]
     },
     "metadata": {},
     "output_type": "display_data"
    }
   ],
   "source": [
    "record.entries[2].final_molecule.molecule"
   ]
  },
  {
   "cell_type": "code",
   "execution_count": 33,
   "metadata": {},
   "outputs": [],
   "source": [
    "# grab one more \n",
    "record = result.collection['CC(C)(C)c1cc(c(cc1NC(=O)c2cnc3ccccc3c2[O-])O)C(C)(C)C']"
   ]
  },
  {
   "cell_type": "code",
   "execution_count": 34,
   "metadata": {},
   "outputs": [
    {
     "data": {
      "application/vnd.jupyter.widget-view+json": {
       "model_id": "549eea63bfac4b9ca035e92c5d6ab3e5",
       "version_major": 2,
       "version_minor": 0
      },
      "text/plain": [
       "NGLWidget()"
      ]
     },
     "metadata": {},
     "output_type": "display_data"
    }
   ],
   "source": [
    "#potential hydrogens bonds \n",
    "record.entries[2].final_molecule.molecule"
   ]
  },
  {
   "cell_type": "code",
   "execution_count": 35,
   "metadata": {},
   "outputs": [],
   "source": [
    "entry= opt_ds.get_record(record.entries[2].index, 'default')"
   ]
  },
  {
   "cell_type": "code",
   "execution_count": 36,
   "metadata": {},
   "outputs": [
    {
     "data": {
      "application/vnd.jupyter.widget-view+json": {
       "model_id": "f7ed7cb2fb064ad39a37fec3451cd9df",
       "version_major": 2,
       "version_minor": 0
      },
      "text/plain": [
       "NGLWidget()"
      ]
     },
     "metadata": {},
     "output_type": "display_data"
    }
   ],
   "source": [
    "entry.get_initial_molecule()"
   ]
  },
  {
   "cell_type": "code",
   "execution_count": 41,
   "metadata": {},
   "outputs": [
    {
     "data": {
      "text/plain": [
       "0.0002859191447249724"
      ]
     },
     "execution_count": 41,
     "metadata": {},
     "output_type": "execute_result"
    }
   ],
   "source": [
    "import numpy as np\n",
    "opt_result = client.query_results(id=entry.trajectory[0])[0]\n",
    "\n",
    "ref_wbo = np.array(opt_result.extras['qcvars']['WIBERG_LOWDIN_INDICES']).reshape((record.molecule.n_atoms, -1))\n",
    "ref_wbo[26, 54]"
   ]
  },
  {
   "cell_type": "code",
   "execution_count": 38,
   "metadata": {},
   "outputs": [
    {
     "name": "stdout",
     "output_type": "stream",
     "text": [
      "[[0.0000000000000000e+00 1.4563681218812703e+00 1.6259248143488521e+00\n",
      "  ... 8.7026027579852054e-08 4.0967622571268683e-05\n",
      "  7.3623287735123145e-08]\n",
      " [1.4563681218812703e+00 0.0000000000000000e+00 1.1664155329396540e-01\n",
      "  ... 2.0892282049585368e-07 3.0700125919038442e-05\n",
      "  1.1825772874012465e-08]\n",
      " [1.6259248143488521e+00 1.1664155329396540e-01 0.0000000000000000e+00\n",
      "  ... 1.7059812633436341e-07 3.5721499162818106e-04\n",
      "  3.2446420127369781e-07]\n",
      " ...\n",
      " [8.7026027579852054e-08 2.0892282049585368e-07 1.7059812633436341e-07\n",
      "  ... 0.0000000000000000e+00 5.2257957165194442e-07\n",
      "  2.1919209187808649e-04]\n",
      " [4.0967622571268683e-05 3.0700125919038442e-05 3.5721499162818106e-04\n",
      "  ... 5.2257957165194442e-07 0.0000000000000000e+00\n",
      "  1.5618759609353301e-05]\n",
      " [7.3623287735123145e-08 1.1825772874012465e-08 3.2446420127369781e-07\n",
      "  ... 2.1919209187808649e-04 1.5618759609353301e-05\n",
      "  0.0000000000000000e+00]]\n"
     ]
    }
   ],
   "source": [
    "\n",
    "wbo = np.array(record.entries[2].final_molecule.wbo).reshape((record.molecule.n_atoms, -1))\n",
    "print(wbo)"
   ]
  },
  {
   "cell_type": "code",
   "execution_count": 17,
   "metadata": {},
   "outputs": [
    {
     "data": {
      "text/plain": [
       "0.7167717188302888"
      ]
     },
     "execution_count": 17,
     "metadata": {},
     "output_type": "execute_result"
    }
   ],
   "source": [
    "wbo[25,54]"
   ]
  },
  {
   "cell_type": "code",
   "execution_count": 60,
   "metadata": {},
   "outputs": [],
   "source": [
    "#now we nedd to create a new optimisation dataset\n",
    "dataset = OptimizationDataset(dataset_name=result.dataset_name, dataset_tagline='MM benchmarks', basis='smirnoff', \n",
    "                              method='openff_unconstrained-1.0.0', spec_name='Parsley', spec_description='Parsley benchmark spec', program='openmm')\n",
    "\n",
    "# make the dataset from the set we saved\n",
    "# dataset = OptimizationDataset.parse_file('dataset.json')"
   ]
  },
  {
   "cell_type": "code",
   "execution_count": 61,
   "metadata": {},
   "outputs": [
    {
     "data": {
      "text/plain": [
       "OptimizationDataset(dataset_name='OpenFF Full Optimization Benchmark 1', dataset_tagline='MM benchmarks', method='openff_unconstrained-1.0.0', basis='smirnoff', program='openmm', maxiter=200, driver='gradient', scf_properties=['dipole', 'qudrupole', 'wiberg_lowdin_indices'], spec_name='Parsley', spec_description='Parsley benchmark spec', priority='normal', tag='openff', dataset={}, filtered_molecules={}, optimization_program=GeometricProcedure(program='geometric', coordsys='tric', enforce=0.0, epsilon=1e-05, reset=False, qccnv=False, molcnv=False, check=0, trust=0.1, tmax=0.3, maxiter=300, convergence_set='GAU', constraints={}))"
      ]
     },
     "execution_count": 61,
     "metadata": {},
     "output_type": "execute_result"
    }
   ],
   "source": [
    "dataset"
   ]
  },
  {
   "cell_type": "code",
   "execution_count": 62,
   "metadata": {},
   "outputs": [],
   "source": [
    "# now add some data to the set excluding any bonding changes\n",
    "# build a dictionary of data to input\n",
    "valid_molecules = {}\n",
    "\n",
    "\n",
    "for index, record in result.collection.items():\n",
    "    # check for conectivity changes\n",
    "    conect_check = record.detect_conectivity_changes()\n",
    "    # build a list of entries to keep \n",
    "    valid = [record.entries[entry] for (entry, changed) in conect_check.items() if not changed]\n",
    "    if len(valid) > 0:\n",
    "        # now we need to find the lowest energy final molecule in the set\n",
    "        valid.sort(key=lambda x: x.final_energy)\n",
    "        # now store this molecule\n",
    "        valid_molecules[index] = valid[0]\n",
    "    else:\n",
    "        continue\n",
    "    \n",
    "            \n",
    "    # get the lowest energy minimisation"
   ]
  },
  {
   "cell_type": "code",
   "execution_count": 63,
   "metadata": {},
   "outputs": [],
   "source": [
    "# now we want to create the molecules with the cmiles in the extras fields and store the QM entry in the metadata\n",
    "for index, entry in valid_molecules.items():\n",
    "    attributes = result.collection[index].cmiles\n",
    "    QM_ID = str(entry.id)\n",
    "    # put the QM_ID into the metadata\n",
    "    attributes['qm_entry'] = QM_ID\n",
    "    molecule = entry.final_molecule.molecule.dict()\n",
    "    # put the cmiles into the molecule extras\n",
    "    molecule['extras'] = {'cmiles': {'canonical_isomeric_explicit_hydrogen_mapped_smiles': entry.cmiles}}\n",
    "    mol = ptl.models.Molecule.from_data(molecule)\n",
    "    dataset.dataset[entry.index] = {'initial_molecules': [mol], 'attributes':attributes}\n",
    "    \n",
    "    "
   ]
  },
  {
   "cell_type": "code",
   "execution_count": 64,
   "metadata": {},
   "outputs": [],
   "source": [
    "# now export this faraction of the dataset\n",
    "dataset.export_dataset('dataset5000_6000.json')"
   ]
  },
  {
   "cell_type": "code",
   "execution_count": 4,
   "metadata": {},
   "outputs": [],
   "source": [
    "# now start a local client and submit the dataset\n",
    "# from qcfractal import FractalSnowflakeHandler\n",
    "# # set up the server and handler\n",
    "# server = FractalSnowflakeHandler()\n",
    "# server\n",
    "\n",
    "# # now we need to remake the client using portal to trick the dataset\n",
    "# new_client = ptl.FractalClient(server)"
   ]
  },
  {
   "cell_type": "code",
   "execution_count": 65,
   "metadata": {},
   "outputs": [
    {
     "data": {
      "text/plain": [
       "138"
      ]
     },
     "execution_count": 65,
     "metadata": {},
     "output_type": "execute_result"
    }
   ],
   "source": [
    "dataset.n_molecules"
   ]
  },
  {
   "cell_type": "code",
   "execution_count": 5,
   "metadata": {},
   "outputs": [
    {
     "data": {
      "text/html": [
       "\n",
       "<h3>FractalClient</h3>\n",
       "<ul>\n",
       "  <li><b>Server:   &nbsp; </b>FractalSnowFlake_db_5f83d</li>\n",
       "  <li><b>Address:  &nbsp; </b>https://localhost:54589/</li>\n",
       "  <li><b>Username: &nbsp; </b>None</li>\n",
       "</ul>\n"
      ],
      "text/plain": [
       "FractalClient(server_name='FractalSnowFlake_db_5f83d', address='https://localhost:54589/', username='None')"
      ]
     },
     "execution_count": 5,
     "metadata": {},
     "output_type": "execute_result"
    }
   ],
   "source": [
    "# new_client"
   ]
  },
  {
   "cell_type": "code",
   "execution_count": 6,
   "metadata": {},
   "outputs": [],
   "source": [
    "# now try and submit the data to run\n",
    "# response = dataset.submit(client=new_client)"
   ]
  },
  {
   "cell_type": "code",
   "execution_count": 29,
   "metadata": {},
   "outputs": [],
   "source": [
    "# check the dataset is running\n",
    "# mm_opt = new_client.get_collection('OptimizationDataset', 'OpenFF Full Optimization Benchmark 1')"
   ]
  },
  {
   "cell_type": "code",
   "execution_count": 31,
   "metadata": {},
   "outputs": [
    {
     "data": {
      "text/html": [
       "<div>\n",
       "<style scoped>\n",
       "    .dataframe tbody tr th:only-of-type {\n",
       "        vertical-align: middle;\n",
       "    }\n",
       "\n",
       "    .dataframe tbody tr th {\n",
       "        vertical-align: top;\n",
       "    }\n",
       "\n",
       "    .dataframe thead th {\n",
       "        text-align: right;\n",
       "    }\n",
       "</style>\n",
       "<table border=\"1\" class=\"dataframe\">\n",
       "  <thead>\n",
       "    <tr style=\"text-align: right;\">\n",
       "      <th></th>\n",
       "      <th>Parsley</th>\n",
       "    </tr>\n",
       "  </thead>\n",
       "  <tbody>\n",
       "    <tr>\n",
       "      <th>COMPLETE</th>\n",
       "      <td>13</td>\n",
       "    </tr>\n",
       "  </tbody>\n",
       "</table>\n",
       "</div>"
      ],
      "text/plain": [
       "          Parsley\n",
       "COMPLETE       13"
      ]
     },
     "execution_count": 31,
     "metadata": {},
     "output_type": "execute_result"
    }
   ],
   "source": [
    "# mm_opt.status('Parsley')"
   ]
  },
  {
   "cell_type": "code",
   "execution_count": 10,
   "metadata": {},
   "outputs": [],
   "source": [
    "# record = mm_opt.get_record('c[nh2+]c[c@@h](c1ccc(c(c1)o)o)o-3', 'Parsley')"
   ]
  },
  {
   "cell_type": "code",
   "execution_count": 16,
   "metadata": {},
   "outputs": [
    {
     "data": {
      "text/plain": [
       "array([[ 5.92668909, -2.5174955 ,  4.17696576],\n",
       "       [ 3.75058704, -1.50758183,  5.29442821],\n",
       "       [ 3.77903502, -2.65371325,  0.13459745],\n",
       "       [ 5.9557968 , -3.08951008,  1.59881089],\n",
       "       [ 1.60195459, -1.06411744,  3.8405537 ],\n",
       "       [ 1.60648614, -1.64850165,  1.23868383],\n",
       "       [10.04599126,  1.61829812, -3.88259348],\n",
       "       [10.03052882, -1.85176596, -0.5556078 ],\n",
       "       [ 8.37031991, -4.03821526,  0.37318519],\n",
       "       [ 8.64956895, -0.53044157, -2.66994834],\n",
       "       [-0.62890221, -0.09344984,  4.72465518],\n",
       "       [-0.47381789, -1.25713193, -0.20917425],\n",
       "       [ 7.95638675, -5.49611623, -1.86499496],\n",
       "       [ 7.57959947, -2.87382756,  5.3437351 ],\n",
       "       [ 3.73286395, -1.08329344,  7.30566302],\n",
       "       [ 3.68084255, -3.19854062, -1.84364644],\n",
       "       [11.80628998,  0.8988585 , -4.67287735],\n",
       "       [ 8.87043607,  2.41739851, -5.37396895],\n",
       "       [10.43983758,  3.04144555, -2.44704628],\n",
       "       [11.8080265 , -2.54845371, -1.33791889],\n",
       "       [10.39327026, -0.47537755,  0.93365448],\n",
       "       [ 9.49293986, -5.1010147 ,  1.7545581 ],\n",
       "       [ 6.93348743,  0.07276945, -1.97197507],\n",
       "       [ 8.21710191, -1.90596915, -3.97649311],\n",
       "       [-0.58053301,  0.13782546,  6.54473392],\n",
       "       [-1.83712553, -0.62955835,  0.85997201],\n",
       "       [ 6.92254467, -6.96059984, -1.46607406]])"
      ]
     },
     "execution_count": 16,
     "metadata": {},
     "output_type": "execute_result"
    }
   ],
   "source": [
    "# record.get_initial_molecule()"
   ]
  },
  {
   "cell_type": "code",
   "execution_count": 29,
   "metadata": {},
   "outputs": [
    {
     "data": {
      "text/plain": [
       "array([[ 5.92668909, -2.5174955 ,  4.17696576],\n",
       "       [ 3.75058704, -1.50758183,  5.29442821],\n",
       "       [ 3.77903502, -2.65371325,  0.13459745],\n",
       "       [ 5.9557968 , -3.08951008,  1.59881089],\n",
       "       [ 1.60195459, -1.06411744,  3.8405537 ],\n",
       "       [ 1.60648614, -1.64850165,  1.23868383],\n",
       "       [10.04599126,  1.61829812, -3.88259348],\n",
       "       [10.03052882, -1.85176596, -0.5556078 ],\n",
       "       [ 8.37031991, -4.03821526,  0.37318519],\n",
       "       [ 8.64956895, -0.53044157, -2.66994834],\n",
       "       [-0.62890221, -0.09344984,  4.72465518],\n",
       "       [-0.47381789, -1.25713193, -0.20917425],\n",
       "       [ 7.95638675, -5.49611623, -1.86499496],\n",
       "       [ 7.57959947, -2.87382756,  5.3437351 ],\n",
       "       [ 3.73286395, -1.08329344,  7.30566302],\n",
       "       [ 3.68084255, -3.19854062, -1.84364644],\n",
       "       [11.80628998,  0.8988585 , -4.67287735],\n",
       "       [ 8.87043607,  2.41739851, -5.37396895],\n",
       "       [10.43983758,  3.04144555, -2.44704628],\n",
       "       [11.8080265 , -2.54845371, -1.33791889],\n",
       "       [10.39327026, -0.47537755,  0.93365448],\n",
       "       [ 9.49293986, -5.1010147 ,  1.7545581 ],\n",
       "       [ 6.93348743,  0.07276945, -1.97197507],\n",
       "       [ 8.21710191, -1.90596915, -3.97649311],\n",
       "       [-0.58053301,  0.13782546,  6.54473392],\n",
       "       [-1.83712553, -0.62955835,  0.85997201],\n",
       "       [ 6.92254467, -6.96059984, -1.46607406]])"
      ]
     },
     "execution_count": 29,
     "metadata": {},
     "output_type": "execute_result"
    }
   ],
   "source": [
    "record.get_initial_molecule().geometry"
   ]
  },
  {
   "cell_type": "code",
   "execution_count": 22,
   "metadata": {},
   "outputs": [],
   "source": [
    "# make sure we can find the entry in the database still\n",
    "opt = client.query_procedures(id=[6091739])[0]"
   ]
  },
  {
   "cell_type": "code",
   "execution_count": 32,
   "metadata": {},
   "outputs": [
    {
     "data": {
      "text/plain": [
       "array([[ 5.9266890872178815, -2.517495502742451 ,  4.176965762344392 ],\n",
       "       [ 3.7505870434024358, -1.5075818337257223,  5.294428206063497 ],\n",
       "       [ 3.7790350173584635, -2.6537132453703056,  0.1345974452144877],\n",
       "       [ 5.955796803056457 , -3.089510078906738 ,  1.5988108865682291],\n",
       "       [ 1.6019545920163263, -1.0641174371107887,  3.8405537042185003],\n",
       "       [ 1.6064861402896544, -1.6485016452039225,  1.2386838306736936],\n",
       "       [10.045991261267842 ,  1.6182981215224963, -3.882593484093834 ],\n",
       "       [10.030528820227318 , -1.851765962354614 , -0.555607800301766 ],\n",
       "       [ 8.370319910053892 , -4.038215255087373 ,  0.3731851920939178],\n",
       "       [ 8.649568948750694 , -0.5304415745624468, -2.669948337299501 ],\n",
       "       [-0.6289022140306975, -0.0934498389828873,  4.724655184978758 ],\n",
       "       [-0.4738178868279123, -1.2571319337384739, -0.2091742469174727],\n",
       "       [ 7.956386753111268 , -5.496116233930341 , -1.8649949551438165],\n",
       "       [ 7.579599473252573 , -2.8738275559474684,  5.3437351035923575],\n",
       "       [ 3.732863951593931 , -1.0832934430366656,  7.305663018497908 ],\n",
       "       [ 3.6808425497073767, -3.1985406174416715, -1.8436464374637032],\n",
       "       [11.806289980826849 ,  0.8988585037705231, -4.672877349679854 ],\n",
       "       [ 8.870436065558737 ,  2.417398508824726 , -5.373968951421784 ],\n",
       "       [10.43983757778127  ,  3.041445547231226 , -2.447046284801603 ],\n",
       "       [11.808026503547367 , -2.548453710451048 , -1.3379188929133539],\n",
       "       [10.393270262417087 , -0.4753775522914815,  0.9336544813605736],\n",
       "       [ 9.492939860865292 , -5.101014698768117 ,  1.754558098977002 ],\n",
       "       [ 6.933487431059954 ,  0.0727694505592167, -1.971975067844884 ],\n",
       "       [ 8.217101907837549 , -1.9059691478997733, -3.9764931130505023],\n",
       "       [-0.5805330120229066,  0.1378254564819996,  6.544733924918485 ],\n",
       "       [-1.8371255337232675, -0.6295583541262009,  0.8599720149957397],\n",
       "       [ 6.92254467409868  , -6.960599837283768 , -1.4660740642485421]])"
      ]
     },
     "execution_count": 32,
     "metadata": {},
     "output_type": "execute_result"
    }
   ],
   "source": [
    "opt.get_final_molecule().geometry"
   ]
  },
  {
   "cell_type": "code",
   "execution_count": 82,
   "metadata": {},
   "outputs": [],
   "source": [
    "# grab the optimization dataset\n",
    "entry = opt_ds.get_entry('C[NH2+]C[C@@H](c1ccc(c(c1)O)O)O-0')"
   ]
  },
  {
   "cell_type": "code",
   "execution_count": 83,
   "metadata": {},
   "outputs": [
    {
     "data": {
      "text/plain": [
       "OptEntry(name='C[NH2+]C[C@@H](c1ccc(c(c1)O)O)O-0', initial_molecule='3757419', additional_keywords={}, attributes={'canonical_explicit_hydrogen_smiles': '[H]c1c(c(c(c(c1C([H])(C([H])([H])[N+]([H])([H])C([H])([H])[H])O[H])[H])O[H])O[H])[H]', 'canonical_isomeric_explicit_hydrogen_mapped_smiles': '[H:14][c:1]1[c:2]([c:5]([c:6]([c:3]([c:4]1[C@:9]([H:22])([C:8]([H:20])([H:21])[N+:10]([H:23])([H:24])[C:7]([H:17])([H:18])[H:19])[O:13][H:27])[H:16])[O:12][H:26])[O:11][H:25])[H:15]', 'canonical_isomeric_explicit_hydrogen_smiles': '[H]c1c(c(c(c(c1[C@]([H])(C([H])([H])[N+]([H])([H])C([H])([H])[H])O[H])[H])O[H])O[H])[H]', 'canonical_isomeric_smiles': 'C[NH2+]C[C@@H](c1ccc(c(c1)O)O)O', 'canonical_smiles': 'C[NH2+]CC(c1ccc(c(c1)O)O)O', 'inchi_key': 'UCTWMZQNUQWSLP-VIFPVBQESA-O', 'molecular_formula': 'C9H14NO3', 'provenance': 'cmiles_0+unknown_openeye_2019.Apr.2', 'standard_inchi': 'InChI=1S/C9H13NO3/c1-10-5-9(13)6-2-3-7(11)8(12)4-6/h2-4,9-13H,5H2,1H3/p+1/t9-/m0/s1', 'unique_protomer_representation': 'CNC[C@@H](c1ccc(c(c1)O)O)O', 'unique_tautomer_representation': 'C[NH2+]C[C@H](O)c1ccc(O)c(O)c1'}, object_map={'default': '6091736'})"
      ]
     },
     "execution_count": 83,
     "metadata": {},
     "output_type": "execute_result"
    }
   ],
   "source": [
    "entry"
   ]
  },
  {
   "cell_type": "code",
   "execution_count": 12,
   "metadata": {},
   "outputs": [
    {
     "data": {
      "text/plain": [
       "{'id': '18433463',\n",
       " 'hash_index': '4ffc5a29d0c8496cfc5cb0834d80981b80905c3a',\n",
       " 'procedure': 'optimization',\n",
       " 'program': 'geometric',\n",
       " 'version': 1,\n",
       " 'protocols': {},\n",
       " 'extras': {},\n",
       " 'stdout': '21575257',\n",
       " 'stderr': None,\n",
       " 'error': None,\n",
       " 'task_id': None,\n",
       " 'manager_name': 'MolSSI_ARC_Cascades_Parsl-calogin1-acbbd830-1dea-4078-943a-a8d49c872b7f',\n",
       " 'status': <RecordStatusEnum.complete: 'COMPLETE'>,\n",
       " 'modified_on': datetime.datetime(2020, 3, 24, 1, 39, 55, 488995),\n",
       " 'created_on': datetime.datetime(2020, 3, 24, 0, 26, 1, 811861),\n",
       " 'provenance': {'creator': 'geomeTRIC',\n",
       "  'version': '0.9.7.2',\n",
       "  'routine': 'geometric.run_json.geometric_run_json',\n",
       "  'username': 'mwelborn',\n",
       "  'wall_time': 1182.4561066627502,\n",
       "  'qcengine_version': '0.14.0',\n",
       "  'cpu': 'Intel(R) Xeon(R) CPU E5-2683 v4 @ 2.10GHz',\n",
       "  'hostname': 'ca066'},\n",
       " 'schema_version': 1,\n",
       " 'initial_molecule': '12115251',\n",
       " 'qc_spec': {'driver': <DriverEnum.gradient: 'gradient'>,\n",
       "  'method': 'b3lyp-d3bj',\n",
       "  'basis': 'dzvp',\n",
       "  'keywords': '2',\n",
       "  'program': 'psi4'},\n",
       " 'keywords': {'program': 'psi4'},\n",
       " 'energies': [-648.4654701768385,\n",
       "  -648.4691533006636,\n",
       "  -648.4705859662554,\n",
       "  -648.4715049517706,\n",
       "  -648.4717210896565,\n",
       "  -648.472386513521,\n",
       "  -648.4733519863374,\n",
       "  -648.4751716775443,\n",
       "  -648.4766450296997,\n",
       "  -648.4785998420659,\n",
       "  -648.4803031314964,\n",
       "  -648.4820480301979,\n",
       "  -648.483925947209,\n",
       "  -648.4850804813881,\n",
       "  -648.4854880558305,\n",
       "  -648.4859090527062,\n",
       "  -648.486377182321,\n",
       "  -648.48670989015,\n",
       "  -648.4868956549706,\n",
       "  -648.4869927027178,\n",
       "  -648.4870515622558,\n",
       "  -648.4870845568149,\n",
       "  -648.487114776457,\n",
       "  -648.4871332025149,\n",
       "  -648.4871514049195,\n",
       "  -648.4871836823198,\n",
       "  -648.4871915602398,\n",
       "  -648.4872082450287,\n",
       "  -648.4872280855111,\n",
       "  -648.4874407550241,\n",
       "  -648.4859237385234,\n",
       "  -648.487285427544,\n",
       "  -648.4873860421291,\n",
       "  -648.4879542605036,\n",
       "  -648.4881355520623,\n",
       "  -648.4882031488017,\n",
       "  -648.4882717081716,\n",
       "  -648.48830688135,\n",
       "  -648.4883295561863,\n",
       "  -648.4883348644202,\n",
       "  -648.4883375288937,\n",
       "  -648.4883382510178,\n",
       "  -648.4883388580693,\n",
       "  -648.4883382984212,\n",
       "  -648.4883375583858,\n",
       "  -648.4883348666489,\n",
       "  -648.4883370249358,\n",
       "  -648.4883372855136,\n",
       "  -648.48833699985,\n",
       "  -648.4883364811567,\n",
       "  -648.4883360686273,\n",
       "  -648.4883358224444,\n",
       "  -648.4883354523358,\n",
       "  -648.4883349398797,\n",
       "  -648.488334475831,\n",
       "  -648.4883344870477,\n",
       "  -648.4883352535994,\n",
       "  -648.4883360554516,\n",
       "  -648.488336542152,\n",
       "  -648.4883365021865],\n",
       " 'final_molecule': '12123759',\n",
       " 'trajectory': ['18444249',\n",
       "  '18444250',\n",
       "  '18444251',\n",
       "  '18444252',\n",
       "  '18444253',\n",
       "  '18444254',\n",
       "  '18444255',\n",
       "  '18444256',\n",
       "  '18444257',\n",
       "  '18444258',\n",
       "  '18444259',\n",
       "  '18444260',\n",
       "  '18444261',\n",
       "  '18444262',\n",
       "  '18444263',\n",
       "  '18444264',\n",
       "  '18444265',\n",
       "  '18444266',\n",
       "  '18444267',\n",
       "  '18444268',\n",
       "  '18444269',\n",
       "  '18444270',\n",
       "  '18444271',\n",
       "  '18444272',\n",
       "  '18444273',\n",
       "  '18444274',\n",
       "  '18444275',\n",
       "  '18444276',\n",
       "  '18444277',\n",
       "  '18444278',\n",
       "  '18444279',\n",
       "  '18444280',\n",
       "  '18444281',\n",
       "  '18444282',\n",
       "  '18444283',\n",
       "  '18444284',\n",
       "  '18444285',\n",
       "  '18444286',\n",
       "  '18444287',\n",
       "  '18444288',\n",
       "  '18444289',\n",
       "  '18444290',\n",
       "  '18444291',\n",
       "  '18444292',\n",
       "  '18444293',\n",
       "  '18444294',\n",
       "  '18444295',\n",
       "  '18444296',\n",
       "  '18444297',\n",
       "  '18444298',\n",
       "  '18444299',\n",
       "  '18444300',\n",
       "  '18444301',\n",
       "  '18444302',\n",
       "  '18444303',\n",
       "  '18444304',\n",
       "  '18444305',\n",
       "  '18444306',\n",
       "  '18444307',\n",
       "  '18444308']}"
      ]
     },
     "execution_count": 12,
     "metadata": {},
     "output_type": "execute_result"
    }
   ],
   "source": [
    "opt_ds.df.to_dict()['default']['C1CC1NC(=O)C[N@@]2C[C@H](CO2)O-0'].dict()"
   ]
  },
  {
   "cell_type": "code",
   "execution_count": null,
   "metadata": {},
   "outputs": [],
   "source": [
    "# build a list of all of the procedure jobs in the default spec\n",
    "# this will act like the records data, index by ds.df.index, value is the object map for default\n",
    "molecule_data = {}\n",
    "\n",
    "for index, opt_entry in opt_ds.data.records.items():\n",
    "    molecule_data[index] = opt_entry.object_map['default']\n"
   ]
  },
  {
   "cell_type": "code",
   "execution_count": null,
   "metadata": {},
   "outputs": [],
   "source": [
    "# now we need to pull the data of each record in chunks\n",
    "# we need the final molecule structure and the WBO then we should compare"
   ]
  },
  {
   "cell_type": "code",
   "execution_count": null,
   "metadata": {},
   "outputs": [],
   "source": [
    "# fill out the links \n",
    "df = opt_ds.query('default')\n",
    "    "
   ]
  },
  {
   "cell_type": "code",
   "execution_count": null,
   "metadata": {},
   "outputs": [],
   "source": [
    "opt_ds.to_json()"
   ]
  },
  {
   "cell_type": "code",
   "execution_count": null,
   "metadata": {},
   "outputs": [],
   "source": [
    "new = ptl.collections.OptimizationDataset.from_json(opt_ds.to_json())"
   ]
  },
  {
   "cell_type": "code",
   "execution_count": null,
   "metadata": {},
   "outputs": [],
   "source": [
    "new = ptl.collections.OptimizationDataset.from_server(client, 'OpenFF Full Optimization Benchmark 1')"
   ]
  },
  {
   "cell_type": "code",
   "execution_count": null,
   "metadata": {},
   "outputs": [],
   "source": [
    "new.list_specifications()"
   ]
  },
  {
   "cell_type": "code",
   "execution_count": null,
   "metadata": {},
   "outputs": [],
   "source": [
    "df.loc[df.index[0]].dict()"
   ]
  },
  {
   "cell_type": "code",
   "execution_count": null,
   "metadata": {},
   "outputs": [],
   "source": [
    "df.loc[df.index[0]].get_final_molecule().dict()"
   ]
  },
  {
   "cell_type": "code",
   "execution_count": null,
   "metadata": {},
   "outputs": [],
   "source": [
    "opt_ds.data.records"
   ]
  },
  {
   "cell_type": "code",
   "execution_count": null,
   "metadata": {},
   "outputs": [],
   "source": [
    "opt_ds.data.specs['default'].qc_spec"
   ]
  },
  {
   "cell_type": "code",
   "execution_count": null,
   "metadata": {},
   "outputs": [],
   "source": [
    "client.query_keywords(2)[0].values['scf_properties']"
   ]
  },
  {
   "cell_type": "code",
   "execution_count": 38,
   "metadata": {},
   "outputs": [],
   "source": [
    "dataset.export_dataset('dataset.json')"
   ]
  },
  {
   "cell_type": "code",
   "execution_count": 39,
   "metadata": {},
   "outputs": [],
   "source": [
    "copy_dataset = OptimizationDataset.parse_file('dataset.json')"
   ]
  },
  {
   "cell_type": "code",
   "execution_count": 41,
   "metadata": {},
   "outputs": [
    {
     "data": {
      "text/plain": [
       "{'initial_molecules': [{'schema_name': 'qcschema_molecule',\n",
       "   'schema_version': 2,\n",
       "   'validated': True,\n",
       "   'symbols': ['C',\n",
       "    'C',\n",
       "    'C',\n",
       "    'C',\n",
       "    'C',\n",
       "    'C',\n",
       "    'C',\n",
       "    'C',\n",
       "    'C',\n",
       "    'N',\n",
       "    'O',\n",
       "    'O',\n",
       "    'O',\n",
       "    'H',\n",
       "    'H',\n",
       "    'H',\n",
       "    'H',\n",
       "    'H',\n",
       "    'H',\n",
       "    'H',\n",
       "    'H',\n",
       "    'H',\n",
       "    'H',\n",
       "    'H',\n",
       "    'H',\n",
       "    'H',\n",
       "    'H'],\n",
       "   'geometry': [5.9266890872178815,\n",
       "    -2.517495502742451,\n",
       "    4.176965762344392,\n",
       "    3.7505870434024358,\n",
       "    -1.5075818337257223,\n",
       "    5.294428206063497,\n",
       "    3.7790350173584635,\n",
       "    -2.6537132453703056,\n",
       "    0.13459744521448766,\n",
       "    5.955796803056457,\n",
       "    -3.089510078906738,\n",
       "    1.5988108865682291,\n",
       "    1.6019545920163263,\n",
       "    -1.0641174371107887,\n",
       "    3.8405537042185003,\n",
       "    1.6064861402896544,\n",
       "    -1.6485016452039225,\n",
       "    1.2386838306736936,\n",
       "    10.045991261267842,\n",
       "    1.6182981215224963,\n",
       "    -3.882593484093834,\n",
       "    10.030528820227318,\n",
       "    -1.851765962354614,\n",
       "    -0.555607800301766,\n",
       "    8.370319910053892,\n",
       "    -4.038215255087373,\n",
       "    0.37318519209391776,\n",
       "    8.649568948750694,\n",
       "    -0.5304415745624468,\n",
       "    -2.669948337299501,\n",
       "    -0.6289022140306975,\n",
       "    -0.09344983898288728,\n",
       "    4.724655184978758,\n",
       "    -0.4738178868279123,\n",
       "    -1.2571319337384739,\n",
       "    -0.20917424691747266,\n",
       "    7.956386753111268,\n",
       "    -5.496116233930341,\n",
       "    -1.8649949551438165,\n",
       "    7.579599473252573,\n",
       "    -2.8738275559474684,\n",
       "    5.3437351035923575,\n",
       "    3.732863951593931,\n",
       "    -1.0832934430366656,\n",
       "    7.305663018497908,\n",
       "    3.6808425497073767,\n",
       "    -3.1985406174416715,\n",
       "    -1.8436464374637032,\n",
       "    11.806289980826849,\n",
       "    0.8988585037705231,\n",
       "    -4.672877349679854,\n",
       "    8.870436065558737,\n",
       "    2.417398508824726,\n",
       "    -5.373968951421784,\n",
       "    10.43983757778127,\n",
       "    3.041445547231226,\n",
       "    -2.447046284801603,\n",
       "    11.808026503547367,\n",
       "    -2.548453710451048,\n",
       "    -1.3379188929133539,\n",
       "    10.393270262417087,\n",
       "    -0.4753775522914815,\n",
       "    0.9336544813605736,\n",
       "    9.492939860865292,\n",
       "    -5.101014698768117,\n",
       "    1.754558098977002,\n",
       "    6.933487431059954,\n",
       "    0.07276945055921671,\n",
       "    -1.971975067844884,\n",
       "    8.217101907837549,\n",
       "    -1.9059691478997733,\n",
       "    -3.9764931130505023,\n",
       "    -0.5805330120229066,\n",
       "    0.1378254564819996,\n",
       "    6.544733924918485,\n",
       "    -1.8371255337232675,\n",
       "    -0.6295583541262009,\n",
       "    0.8599720149957397,\n",
       "    6.92254467409868,\n",
       "    -6.960599837283768,\n",
       "    -1.4660740642485421],\n",
       "   'name': 'C9H14NO3',\n",
       "   'identifiers': {'molecule_hash': '38f259e20d668b04555caccd867317a75dd0144b',\n",
       "    'molecular_formula': 'C9H14NO3'},\n",
       "   'molecular_charge': 1.0,\n",
       "   'molecular_multiplicity': 1,\n",
       "   'masses': [12.0,\n",
       "    12.0,\n",
       "    12.0,\n",
       "    12.0,\n",
       "    12.0,\n",
       "    12.0,\n",
       "    12.0,\n",
       "    12.0,\n",
       "    12.0,\n",
       "    14.00307400443,\n",
       "    15.99491461957,\n",
       "    15.99491461957,\n",
       "    15.99491461957,\n",
       "    1.00782503223,\n",
       "    1.00782503223,\n",
       "    1.00782503223,\n",
       "    1.00782503223,\n",
       "    1.00782503223,\n",
       "    1.00782503223,\n",
       "    1.00782503223,\n",
       "    1.00782503223,\n",
       "    1.00782503223,\n",
       "    1.00782503223,\n",
       "    1.00782503223,\n",
       "    1.00782503223,\n",
       "    1.00782503223,\n",
       "    1.00782503223],\n",
       "   'real': [True,\n",
       "    True,\n",
       "    True,\n",
       "    True,\n",
       "    True,\n",
       "    True,\n",
       "    True,\n",
       "    True,\n",
       "    True,\n",
       "    True,\n",
       "    True,\n",
       "    True,\n",
       "    True,\n",
       "    True,\n",
       "    True,\n",
       "    True,\n",
       "    True,\n",
       "    True,\n",
       "    True,\n",
       "    True,\n",
       "    True,\n",
       "    True,\n",
       "    True,\n",
       "    True,\n",
       "    True,\n",
       "    True,\n",
       "    True],\n",
       "   'atom_labels': ['',\n",
       "    '',\n",
       "    '',\n",
       "    '',\n",
       "    '',\n",
       "    '',\n",
       "    '',\n",
       "    '',\n",
       "    '',\n",
       "    '',\n",
       "    '',\n",
       "    '',\n",
       "    '',\n",
       "    '',\n",
       "    '',\n",
       "    '',\n",
       "    '',\n",
       "    '',\n",
       "    '',\n",
       "    '',\n",
       "    '',\n",
       "    '',\n",
       "    '',\n",
       "    '',\n",
       "    '',\n",
       "    '',\n",
       "    ''],\n",
       "   'atomic_numbers': [6,\n",
       "    6,\n",
       "    6,\n",
       "    6,\n",
       "    6,\n",
       "    6,\n",
       "    6,\n",
       "    6,\n",
       "    6,\n",
       "    7,\n",
       "    8,\n",
       "    8,\n",
       "    8,\n",
       "    1,\n",
       "    1,\n",
       "    1,\n",
       "    1,\n",
       "    1,\n",
       "    1,\n",
       "    1,\n",
       "    1,\n",
       "    1,\n",
       "    1,\n",
       "    1,\n",
       "    1,\n",
       "    1,\n",
       "    1],\n",
       "   'mass_numbers': [12,\n",
       "    12,\n",
       "    12,\n",
       "    12,\n",
       "    12,\n",
       "    12,\n",
       "    12,\n",
       "    12,\n",
       "    12,\n",
       "    14,\n",
       "    16,\n",
       "    16,\n",
       "    16,\n",
       "    1,\n",
       "    1,\n",
       "    1,\n",
       "    1,\n",
       "    1,\n",
       "    1,\n",
       "    1,\n",
       "    1,\n",
       "    1,\n",
       "    1,\n",
       "    1,\n",
       "    1,\n",
       "    1,\n",
       "    1],\n",
       "   'connectivity': [[0, 1, 1.0],\n",
       "    [0, 3, 2.0],\n",
       "    [0, 13, 1.0],\n",
       "    [1, 4, 2.0],\n",
       "    [1, 14, 1.0],\n",
       "    [2, 3, 1.0],\n",
       "    [2, 5, 2.0],\n",
       "    [2, 15, 1.0],\n",
       "    [3, 8, 1.0],\n",
       "    [4, 5, 1.0],\n",
       "    [4, 10, 1.0],\n",
       "    [5, 11, 1.0],\n",
       "    [6, 9, 1.0],\n",
       "    [6, 16, 1.0],\n",
       "    [6, 17, 1.0],\n",
       "    [6, 18, 1.0],\n",
       "    [7, 8, 1.0],\n",
       "    [7, 9, 1.0],\n",
       "    [7, 19, 1.0],\n",
       "    [7, 20, 1.0],\n",
       "    [8, 12, 1.0],\n",
       "    [8, 21, 1.0],\n",
       "    [9, 22, 1.0],\n",
       "    [9, 23, 1.0],\n",
       "    [10, 24, 1.0],\n",
       "    [11, 25, 1.0],\n",
       "    [12, 26, 1.0]],\n",
       "   'fragments': [[0,\n",
       "     1,\n",
       "     2,\n",
       "     3,\n",
       "     4,\n",
       "     5,\n",
       "     6,\n",
       "     7,\n",
       "     8,\n",
       "     9,\n",
       "     10,\n",
       "     11,\n",
       "     12,\n",
       "     13,\n",
       "     14,\n",
       "     15,\n",
       "     16,\n",
       "     17,\n",
       "     18,\n",
       "     19,\n",
       "     20,\n",
       "     21,\n",
       "     22,\n",
       "     23,\n",
       "     24,\n",
       "     25,\n",
       "     26]],\n",
       "   'fragment_charges': [1.0],\n",
       "   'fragment_multiplicities': [1],\n",
       "   'fix_com': True,\n",
       "   'fix_orientation': True,\n",
       "   'provenance': {'creator': 'QCElemental',\n",
       "    'version': 'v0.6.0',\n",
       "    'routine': 'qcelemental.molparse.from_schema'},\n",
       "   'id': '3776112',\n",
       "   'extras': {'cmiles': {'canonical_isomeric_explicit_hydrogen_mapped_smiles': '[H:14][c:1]1[c:2]([c:5]([c:6]([c:3]([c:4]1[C@:9]([H:22])([C:8]([H:20])([H:21])[N+:10]([H:23])([H:24])[C:7]([H:17])([H:18])[H:19])[O:13][H:27])[H:16])[O:12][H:26])[O:11][H:25])[H:15]'}}}],\n",
       " 'attributes': {'canonical_explicit_hydrogen_smiles': '[H]c1c(c(c(c(c1C([H])(C([H])([H])[N+]([H])([H])C([H])([H])[H])O[H])[H])O[H])O[H])[H]',\n",
       "  'canonical_isomeric_explicit_hydrogen_mapped_smiles': '[H:14][c:1]1[c:2]([c:5]([c:6]([c:3]([c:4]1[C@:9]([H:22])([C:8]([H:20])([H:21])[N+:10]([H:23])([H:24])[C:7]([H:17])([H:18])[H:19])[O:13][H:27])[H:16])[O:12][H:26])[O:11][H:25])[H:15]',\n",
       "  'canonical_isomeric_explicit_hydrogen_smiles': '[H]c1c(c(c(c(c1[C@]([H])(C([H])([H])[N+]([H])([H])C([H])([H])[H])O[H])[H])O[H])O[H])[H]',\n",
       "  'canonical_isomeric_smiles': 'C[NH2+]C[C@@H](c1ccc(c(c1)O)O)O',\n",
       "  'canonical_smiles': 'C[NH2+]CC(c1ccc(c(c1)O)O)O',\n",
       "  'inchi_key': 'UCTWMZQNUQWSLP-VIFPVBQESA-O',\n",
       "  'molecular_formula': 'C9H14NO3',\n",
       "  'provenance': 'cmiles_0+unknown_openeye_2019.Apr.2',\n",
       "  'standard_inchi': 'InChI=1S/C9H13NO3/c1-10-5-9(13)6-2-3-7(11)8(12)4-6/h2-4,9-13H,5H2,1H3/p+1/t9-/m0/s1',\n",
       "  'unique_protomer_representation': 'CNC[C@@H](c1ccc(c(c1)O)O)O',\n",
       "  'unique_tautomer_representation': 'C[NH2+]C[C@H](O)c1ccc(O)c(O)c1',\n",
       "  'qm_entry': '6091739'}}"
      ]
     },
     "execution_count": 41,
     "metadata": {},
     "output_type": "execute_result"
    }
   ],
   "source": [
    "copy_dataset.dataset['c[nh2+]c[c@@h](c1ccc(c(c1)o)o)o-3']"
   ]
  },
  {
   "cell_type": "code",
   "execution_count": null,
   "metadata": {},
   "outputs": [],
   "source": []
  }
 ],
 "metadata": {
  "kernelspec": {
   "display_name": "Python 3",
   "language": "python",
   "name": "python3"
  },
  "language_info": {
   "codemirror_mode": {
    "name": "ipython",
    "version": 3
   },
   "file_extension": ".py",
   "mimetype": "text/x-python",
   "name": "python",
   "nbconvert_exporter": "python",
   "pygments_lexer": "ipython3",
   "version": "3.6.10"
  },
  "pycharm": {
   "stem_cell": {
    "cell_type": "raw",
    "source": [],
    "metadata": {
     "collapsed": false
    }
   }
  }
 },
 "nbformat": 4,
 "nbformat_minor": 4
}